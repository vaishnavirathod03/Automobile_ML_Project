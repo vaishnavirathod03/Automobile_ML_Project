{
 "cells": [
  {
   "cell_type": "markdown",
   "id": "77692738",
   "metadata": {},
   "source": [
    "### EDA --> Exploratory Data Analysis\n",
    "\n"
   ]
  },
  {
   "cell_type": "code",
   "execution_count": 11,
   "id": "051cd969",
   "metadata": {},
   "outputs": [],
   "source": [
    "import pandas as pd\n",
    "import numpy as np\n",
    "import seaborn as sns\n",
    "import matplotlib.pyplot as plt"
   ]
  },
  {
   "cell_type": "code",
   "execution_count": 2,
   "id": "58ce9c5b",
   "metadata": {},
   "outputs": [],
   "source": [
    "data = pd.read_csv('New_Car_Automobile.csv')"
   ]
  },
  {
   "cell_type": "code",
   "execution_count": 3,
   "id": "9fba8a08",
   "metadata": {},
   "outputs": [
    {
     "data": {
      "text/html": [
       "<div>\n",
       "<style scoped>\n",
       "    .dataframe tbody tr th:only-of-type {\n",
       "        vertical-align: middle;\n",
       "    }\n",
       "\n",
       "    .dataframe tbody tr th {\n",
       "        vertical-align: top;\n",
       "    }\n",
       "\n",
       "    .dataframe thead th {\n",
       "        text-align: right;\n",
       "    }\n",
       "</style>\n",
       "<table border=\"1\" class=\"dataframe\">\n",
       "  <thead>\n",
       "    <tr style=\"text-align: right;\">\n",
       "      <th></th>\n",
       "      <th>car-name</th>\n",
       "      <th>fuel-type</th>\n",
       "      <th>aspiration</th>\n",
       "      <th>num-of-doors</th>\n",
       "      <th>body-style</th>\n",
       "      <th>drive-wheels</th>\n",
       "      <th>engine-location</th>\n",
       "      <th>wheel-base</th>\n",
       "      <th>length</th>\n",
       "      <th>width</th>\n",
       "      <th>...</th>\n",
       "      <th>engine-size</th>\n",
       "      <th>fuel-system</th>\n",
       "      <th>bore</th>\n",
       "      <th>stroke</th>\n",
       "      <th>compression-ratio</th>\n",
       "      <th>horsepower</th>\n",
       "      <th>peak-rpm</th>\n",
       "      <th>city-mpg</th>\n",
       "      <th>highway-mpg</th>\n",
       "      <th>price</th>\n",
       "    </tr>\n",
       "  </thead>\n",
       "  <tbody>\n",
       "    <tr>\n",
       "      <th>0</th>\n",
       "      <td>alfa-romero</td>\n",
       "      <td>gas</td>\n",
       "      <td>std</td>\n",
       "      <td>two</td>\n",
       "      <td>convertible</td>\n",
       "      <td>rwd</td>\n",
       "      <td>front</td>\n",
       "      <td>88.6</td>\n",
       "      <td>168.8</td>\n",
       "      <td>64.1</td>\n",
       "      <td>...</td>\n",
       "      <td>130</td>\n",
       "      <td>mpfi</td>\n",
       "      <td>3.47</td>\n",
       "      <td>2.68</td>\n",
       "      <td>10.779306</td>\n",
       "      <td>111.0</td>\n",
       "      <td>5000.0</td>\n",
       "      <td>21</td>\n",
       "      <td>27</td>\n",
       "      <td>13495.0</td>\n",
       "    </tr>\n",
       "    <tr>\n",
       "      <th>1</th>\n",
       "      <td>alfa-romero</td>\n",
       "      <td>gas</td>\n",
       "      <td>std</td>\n",
       "      <td>two</td>\n",
       "      <td>convertible</td>\n",
       "      <td>rwd</td>\n",
       "      <td>front</td>\n",
       "      <td>88.6</td>\n",
       "      <td>168.8</td>\n",
       "      <td>64.1</td>\n",
       "      <td>...</td>\n",
       "      <td>130</td>\n",
       "      <td>mpfi</td>\n",
       "      <td>3.47</td>\n",
       "      <td>2.68</td>\n",
       "      <td>10.779306</td>\n",
       "      <td>111.0</td>\n",
       "      <td>5000.0</td>\n",
       "      <td>21</td>\n",
       "      <td>27</td>\n",
       "      <td>16500.0</td>\n",
       "    </tr>\n",
       "    <tr>\n",
       "      <th>2</th>\n",
       "      <td>alfa-romero</td>\n",
       "      <td>gas</td>\n",
       "      <td>std</td>\n",
       "      <td>two</td>\n",
       "      <td>hatchback</td>\n",
       "      <td>rwd</td>\n",
       "      <td>front</td>\n",
       "      <td>94.5</td>\n",
       "      <td>171.2</td>\n",
       "      <td>65.5</td>\n",
       "      <td>...</td>\n",
       "      <td>152</td>\n",
       "      <td>mpfi</td>\n",
       "      <td>2.68</td>\n",
       "      <td>3.47</td>\n",
       "      <td>10.779306</td>\n",
       "      <td>154.0</td>\n",
       "      <td>5000.0</td>\n",
       "      <td>19</td>\n",
       "      <td>26</td>\n",
       "      <td>16500.0</td>\n",
       "    </tr>\n",
       "    <tr>\n",
       "      <th>3</th>\n",
       "      <td>audi</td>\n",
       "      <td>gas</td>\n",
       "      <td>std</td>\n",
       "      <td>four</td>\n",
       "      <td>sedan</td>\n",
       "      <td>fwd</td>\n",
       "      <td>front</td>\n",
       "      <td>99.8</td>\n",
       "      <td>176.6</td>\n",
       "      <td>66.2</td>\n",
       "      <td>...</td>\n",
       "      <td>109</td>\n",
       "      <td>mpfi</td>\n",
       "      <td>3.19</td>\n",
       "      <td>3.40</td>\n",
       "      <td>10.000000</td>\n",
       "      <td>102.0</td>\n",
       "      <td>5500.0</td>\n",
       "      <td>24</td>\n",
       "      <td>30</td>\n",
       "      <td>13950.0</td>\n",
       "    </tr>\n",
       "    <tr>\n",
       "      <th>4</th>\n",
       "      <td>audi</td>\n",
       "      <td>gas</td>\n",
       "      <td>std</td>\n",
       "      <td>four</td>\n",
       "      <td>sedan</td>\n",
       "      <td>4wd</td>\n",
       "      <td>front</td>\n",
       "      <td>99.4</td>\n",
       "      <td>176.6</td>\n",
       "      <td>66.4</td>\n",
       "      <td>...</td>\n",
       "      <td>136</td>\n",
       "      <td>mpfi</td>\n",
       "      <td>3.19</td>\n",
       "      <td>3.40</td>\n",
       "      <td>10.779306</td>\n",
       "      <td>115.0</td>\n",
       "      <td>5500.0</td>\n",
       "      <td>18</td>\n",
       "      <td>22</td>\n",
       "      <td>17450.0</td>\n",
       "    </tr>\n",
       "    <tr>\n",
       "      <th>...</th>\n",
       "      <td>...</td>\n",
       "      <td>...</td>\n",
       "      <td>...</td>\n",
       "      <td>...</td>\n",
       "      <td>...</td>\n",
       "      <td>...</td>\n",
       "      <td>...</td>\n",
       "      <td>...</td>\n",
       "      <td>...</td>\n",
       "      <td>...</td>\n",
       "      <td>...</td>\n",
       "      <td>...</td>\n",
       "      <td>...</td>\n",
       "      <td>...</td>\n",
       "      <td>...</td>\n",
       "      <td>...</td>\n",
       "      <td>...</td>\n",
       "      <td>...</td>\n",
       "      <td>...</td>\n",
       "      <td>...</td>\n",
       "      <td>...</td>\n",
       "    </tr>\n",
       "    <tr>\n",
       "      <th>2045</th>\n",
       "      <td>volvo</td>\n",
       "      <td>gas</td>\n",
       "      <td>std</td>\n",
       "      <td>four</td>\n",
       "      <td>sedan</td>\n",
       "      <td>rwd</td>\n",
       "      <td>front</td>\n",
       "      <td>109.1</td>\n",
       "      <td>188.8</td>\n",
       "      <td>68.9</td>\n",
       "      <td>...</td>\n",
       "      <td>141</td>\n",
       "      <td>mpfi</td>\n",
       "      <td>3.78</td>\n",
       "      <td>3.15</td>\n",
       "      <td>9.500000</td>\n",
       "      <td>114.0</td>\n",
       "      <td>5400.0</td>\n",
       "      <td>23</td>\n",
       "      <td>28</td>\n",
       "      <td>16845.0</td>\n",
       "    </tr>\n",
       "    <tr>\n",
       "      <th>2046</th>\n",
       "      <td>volvo</td>\n",
       "      <td>gas</td>\n",
       "      <td>turbo</td>\n",
       "      <td>four</td>\n",
       "      <td>sedan</td>\n",
       "      <td>rwd</td>\n",
       "      <td>front</td>\n",
       "      <td>109.1</td>\n",
       "      <td>188.8</td>\n",
       "      <td>68.8</td>\n",
       "      <td>...</td>\n",
       "      <td>141</td>\n",
       "      <td>mpfi</td>\n",
       "      <td>3.78</td>\n",
       "      <td>3.15</td>\n",
       "      <td>8.700000</td>\n",
       "      <td>160.0</td>\n",
       "      <td>5300.0</td>\n",
       "      <td>19</td>\n",
       "      <td>25</td>\n",
       "      <td>19045.0</td>\n",
       "    </tr>\n",
       "    <tr>\n",
       "      <th>2047</th>\n",
       "      <td>volvo</td>\n",
       "      <td>gas</td>\n",
       "      <td>std</td>\n",
       "      <td>four</td>\n",
       "      <td>sedan</td>\n",
       "      <td>rwd</td>\n",
       "      <td>front</td>\n",
       "      <td>109.1</td>\n",
       "      <td>188.8</td>\n",
       "      <td>68.9</td>\n",
       "      <td>...</td>\n",
       "      <td>173</td>\n",
       "      <td>mpfi</td>\n",
       "      <td>3.58</td>\n",
       "      <td>2.87</td>\n",
       "      <td>8.800000</td>\n",
       "      <td>134.0</td>\n",
       "      <td>5500.0</td>\n",
       "      <td>18</td>\n",
       "      <td>23</td>\n",
       "      <td>21485.0</td>\n",
       "    </tr>\n",
       "    <tr>\n",
       "      <th>2048</th>\n",
       "      <td>volvo</td>\n",
       "      <td>diesel</td>\n",
       "      <td>turbo</td>\n",
       "      <td>four</td>\n",
       "      <td>sedan</td>\n",
       "      <td>rwd</td>\n",
       "      <td>front</td>\n",
       "      <td>109.1</td>\n",
       "      <td>188.8</td>\n",
       "      <td>68.9</td>\n",
       "      <td>...</td>\n",
       "      <td>145</td>\n",
       "      <td>idi</td>\n",
       "      <td>3.01</td>\n",
       "      <td>3.40</td>\n",
       "      <td>23.000000</td>\n",
       "      <td>106.0</td>\n",
       "      <td>4800.0</td>\n",
       "      <td>26</td>\n",
       "      <td>27</td>\n",
       "      <td>22470.0</td>\n",
       "    </tr>\n",
       "    <tr>\n",
       "      <th>2049</th>\n",
       "      <td>volvo</td>\n",
       "      <td>gas</td>\n",
       "      <td>turbo</td>\n",
       "      <td>four</td>\n",
       "      <td>sedan</td>\n",
       "      <td>rwd</td>\n",
       "      <td>front</td>\n",
       "      <td>109.1</td>\n",
       "      <td>188.8</td>\n",
       "      <td>68.9</td>\n",
       "      <td>...</td>\n",
       "      <td>141</td>\n",
       "      <td>mpfi</td>\n",
       "      <td>3.78</td>\n",
       "      <td>3.15</td>\n",
       "      <td>9.500000</td>\n",
       "      <td>114.0</td>\n",
       "      <td>5400.0</td>\n",
       "      <td>19</td>\n",
       "      <td>25</td>\n",
       "      <td>22625.0</td>\n",
       "    </tr>\n",
       "  </tbody>\n",
       "</table>\n",
       "<p>2050 rows × 24 columns</p>\n",
       "</div>"
      ],
      "text/plain": [
       "         car-name fuel-type aspiration num-of-doors   body-style drive-wheels  \\\n",
       "0     alfa-romero       gas        std          two  convertible          rwd   \n",
       "1     alfa-romero       gas        std          two  convertible          rwd   \n",
       "2     alfa-romero       gas        std          two    hatchback          rwd   \n",
       "3            audi       gas        std         four        sedan          fwd   \n",
       "4            audi       gas        std         four        sedan          4wd   \n",
       "...           ...       ...        ...          ...          ...          ...   \n",
       "2045        volvo       gas        std         four        sedan          rwd   \n",
       "2046        volvo       gas      turbo         four        sedan          rwd   \n",
       "2047        volvo       gas        std         four        sedan          rwd   \n",
       "2048        volvo    diesel      turbo         four        sedan          rwd   \n",
       "2049        volvo       gas      turbo         four        sedan          rwd   \n",
       "\n",
       "     engine-location  wheel-base  length  width  ...  engine-size  \\\n",
       "0              front        88.6   168.8   64.1  ...          130   \n",
       "1              front        88.6   168.8   64.1  ...          130   \n",
       "2              front        94.5   171.2   65.5  ...          152   \n",
       "3              front        99.8   176.6   66.2  ...          109   \n",
       "4              front        99.4   176.6   66.4  ...          136   \n",
       "...              ...         ...     ...    ...  ...          ...   \n",
       "2045           front       109.1   188.8   68.9  ...          141   \n",
       "2046           front       109.1   188.8   68.8  ...          141   \n",
       "2047           front       109.1   188.8   68.9  ...          173   \n",
       "2048           front       109.1   188.8   68.9  ...          145   \n",
       "2049           front       109.1   188.8   68.9  ...          141   \n",
       "\n",
       "      fuel-system  bore stroke  compression-ratio horsepower  peak-rpm  \\\n",
       "0            mpfi  3.47   2.68          10.779306      111.0    5000.0   \n",
       "1            mpfi  3.47   2.68          10.779306      111.0    5000.0   \n",
       "2            mpfi  2.68   3.47          10.779306      154.0    5000.0   \n",
       "3            mpfi  3.19   3.40          10.000000      102.0    5500.0   \n",
       "4            mpfi  3.19   3.40          10.779306      115.0    5500.0   \n",
       "...           ...   ...    ...                ...        ...       ...   \n",
       "2045         mpfi  3.78   3.15           9.500000      114.0    5400.0   \n",
       "2046         mpfi  3.78   3.15           8.700000      160.0    5300.0   \n",
       "2047         mpfi  3.58   2.87           8.800000      134.0    5500.0   \n",
       "2048          idi  3.01   3.40          23.000000      106.0    4800.0   \n",
       "2049         mpfi  3.78   3.15           9.500000      114.0    5400.0   \n",
       "\n",
       "      city-mpg  highway-mpg    price  \n",
       "0           21           27  13495.0  \n",
       "1           21           27  16500.0  \n",
       "2           19           26  16500.0  \n",
       "3           24           30  13950.0  \n",
       "4           18           22  17450.0  \n",
       "...        ...          ...      ...  \n",
       "2045        23           28  16845.0  \n",
       "2046        19           25  19045.0  \n",
       "2047        18           23  21485.0  \n",
       "2048        26           27  22470.0  \n",
       "2049        19           25  22625.0  \n",
       "\n",
       "[2050 rows x 24 columns]"
      ]
     },
     "execution_count": 3,
     "metadata": {},
     "output_type": "execute_result"
    }
   ],
   "source": [
    "data"
   ]
  },
  {
   "cell_type": "markdown",
   "id": "449a9e4c",
   "metadata": {},
   "source": [
    "Visualizing different Car names:"
   ]
  },
  {
   "cell_type": "code",
   "execution_count": 8,
   "id": "d449c676",
   "metadata": {},
   "outputs": [],
   "source": [
    "df=pd.DataFrame(data['car-name'].value_counts()).reset_index().rename(columns={'index':'car_name','car-name': 'count'})"
   ]
  },
  {
   "cell_type": "code",
   "execution_count": 9,
   "id": "2c68fd5b",
   "metadata": {},
   "outputs": [
    {
     "data": {
      "text/html": [
       "<div>\n",
       "<style scoped>\n",
       "    .dataframe tbody tr th:only-of-type {\n",
       "        vertical-align: middle;\n",
       "    }\n",
       "\n",
       "    .dataframe tbody tr th {\n",
       "        vertical-align: top;\n",
       "    }\n",
       "\n",
       "    .dataframe thead th {\n",
       "        text-align: right;\n",
       "    }\n",
       "</style>\n",
       "<table border=\"1\" class=\"dataframe\">\n",
       "  <thead>\n",
       "    <tr style=\"text-align: right;\">\n",
       "      <th></th>\n",
       "      <th>car_name</th>\n",
       "      <th>count</th>\n",
       "    </tr>\n",
       "  </thead>\n",
       "  <tbody>\n",
       "    <tr>\n",
       "      <th>0</th>\n",
       "      <td>toyota</td>\n",
       "      <td>320</td>\n",
       "    </tr>\n",
       "    <tr>\n",
       "      <th>1</th>\n",
       "      <td>nissan</td>\n",
       "      <td>180</td>\n",
       "    </tr>\n",
       "    <tr>\n",
       "      <th>2</th>\n",
       "      <td>mazda</td>\n",
       "      <td>170</td>\n",
       "    </tr>\n",
       "    <tr>\n",
       "      <th>3</th>\n",
       "      <td>honda</td>\n",
       "      <td>130</td>\n",
       "    </tr>\n",
       "    <tr>\n",
       "      <th>4</th>\n",
       "      <td>mitsubishi</td>\n",
       "      <td>130</td>\n",
       "    </tr>\n",
       "    <tr>\n",
       "      <th>5</th>\n",
       "      <td>subaru</td>\n",
       "      <td>120</td>\n",
       "    </tr>\n",
       "    <tr>\n",
       "      <th>6</th>\n",
       "      <td>volkswagen</td>\n",
       "      <td>120</td>\n",
       "    </tr>\n",
       "    <tr>\n",
       "      <th>7</th>\n",
       "      <td>peugot</td>\n",
       "      <td>110</td>\n",
       "    </tr>\n",
       "    <tr>\n",
       "      <th>8</th>\n",
       "      <td>volvo</td>\n",
       "      <td>110</td>\n",
       "    </tr>\n",
       "    <tr>\n",
       "      <th>9</th>\n",
       "      <td>dodge</td>\n",
       "      <td>90</td>\n",
       "    </tr>\n",
       "    <tr>\n",
       "      <th>10</th>\n",
       "      <td>bmw</td>\n",
       "      <td>80</td>\n",
       "    </tr>\n",
       "    <tr>\n",
       "      <th>11</th>\n",
       "      <td>mercedes-benz</td>\n",
       "      <td>80</td>\n",
       "    </tr>\n",
       "    <tr>\n",
       "      <th>12</th>\n",
       "      <td>audi</td>\n",
       "      <td>70</td>\n",
       "    </tr>\n",
       "    <tr>\n",
       "      <th>13</th>\n",
       "      <td>plymouth</td>\n",
       "      <td>70</td>\n",
       "    </tr>\n",
       "    <tr>\n",
       "      <th>14</th>\n",
       "      <td>saab</td>\n",
       "      <td>60</td>\n",
       "    </tr>\n",
       "    <tr>\n",
       "      <th>15</th>\n",
       "      <td>porsche</td>\n",
       "      <td>50</td>\n",
       "    </tr>\n",
       "    <tr>\n",
       "      <th>16</th>\n",
       "      <td>isuzu</td>\n",
       "      <td>40</td>\n",
       "    </tr>\n",
       "    <tr>\n",
       "      <th>17</th>\n",
       "      <td>alfa-romero</td>\n",
       "      <td>30</td>\n",
       "    </tr>\n",
       "    <tr>\n",
       "      <th>18</th>\n",
       "      <td>jaguar</td>\n",
       "      <td>30</td>\n",
       "    </tr>\n",
       "    <tr>\n",
       "      <th>19</th>\n",
       "      <td>chevrolet</td>\n",
       "      <td>30</td>\n",
       "    </tr>\n",
       "    <tr>\n",
       "      <th>20</th>\n",
       "      <td>renault</td>\n",
       "      <td>20</td>\n",
       "    </tr>\n",
       "    <tr>\n",
       "      <th>21</th>\n",
       "      <td>mercury</td>\n",
       "      <td>10</td>\n",
       "    </tr>\n",
       "  </tbody>\n",
       "</table>\n",
       "</div>"
      ],
      "text/plain": [
       "         car_name  count\n",
       "0          toyota    320\n",
       "1          nissan    180\n",
       "2           mazda    170\n",
       "3           honda    130\n",
       "4      mitsubishi    130\n",
       "5          subaru    120\n",
       "6      volkswagen    120\n",
       "7          peugot    110\n",
       "8           volvo    110\n",
       "9           dodge     90\n",
       "10            bmw     80\n",
       "11  mercedes-benz     80\n",
       "12           audi     70\n",
       "13       plymouth     70\n",
       "14           saab     60\n",
       "15        porsche     50\n",
       "16          isuzu     40\n",
       "17    alfa-romero     30\n",
       "18         jaguar     30\n",
       "19      chevrolet     30\n",
       "20        renault     20\n",
       "21        mercury     10"
      ]
     },
     "execution_count": 9,
     "metadata": {},
     "output_type": "execute_result"
    }
   ],
   "source": [
    "df"
   ]
  },
  {
   "cell_type": "code",
   "execution_count": 22,
   "id": "d9ba9584",
   "metadata": {},
   "outputs": [
    {
     "data": {
      "image/png": "[encoded data removed]",
      "text/plain": [
       "<Figure size 432x288 with 1 Axes>"
      ]
     },
     "metadata": {
      "needs_background": "light"
     },
     "output_type": "display_data"
    }
   ],
   "source": [
    "plot = sns.barplot(y='car_name',x='count',data=df)\n",
    "plot=plt.setp(plot.get_xticklabels(), rotation=80)"
   ]
  },
  {
   "cell_type": "code",
   "execution_count": 13,
   "id": "61a9d7e4",
   "metadata": {},
   "outputs": [],
   "source": [
    "# According to the dataset-\n",
    "\n",
    "# Toyota is the most suitable car\n",
    "# mercury is the least suitable car"
   ]
  },
  {
   "cell_type": "markdown",
   "id": "463181a2",
   "metadata": {},
   "source": [
    "Fuel type Ratio"
   ]
  },
  {
   "cell_type": "code",
   "execution_count": 14,
   "id": "0fe72079",
   "metadata": {},
   "outputs": [],
   "source": [
    "df1=pd.DataFrame(data['fuel-type'].value_counts())"
   ]
  },
  {
   "cell_type": "code",
   "execution_count": 15,
   "id": "d641dd71",
   "metadata": {},
   "outputs": [
    {
     "data": {
      "text/html": [
       "<div>\n",
       "<style scoped>\n",
       "    .dataframe tbody tr th:only-of-type {\n",
       "        vertical-align: middle;\n",
       "    }\n",
       "\n",
       "    .dataframe tbody tr th {\n",
       "        vertical-align: top;\n",
       "    }\n",
       "\n",
       "    .dataframe thead th {\n",
       "        text-align: right;\n",
       "    }\n",
       "</style>\n",
       "<table border=\"1\" class=\"dataframe\">\n",
       "  <thead>\n",
       "    <tr style=\"text-align: right;\">\n",
       "      <th></th>\n",
       "      <th>fuel-type</th>\n",
       "    </tr>\n",
       "  </thead>\n",
       "  <tbody>\n",
       "    <tr>\n",
       "      <th>gas</th>\n",
       "      <td>1850</td>\n",
       "    </tr>\n",
       "    <tr>\n",
       "      <th>diesel</th>\n",
       "      <td>200</td>\n",
       "    </tr>\n",
       "  </tbody>\n",
       "</table>\n",
       "</div>"
      ],
      "text/plain": [
       "        fuel-type\n",
       "gas          1850\n",
       "diesel        200"
      ]
     },
     "execution_count": 15,
     "metadata": {},
     "output_type": "execute_result"
    }
   ],
   "source": [
    "df1"
   ]
  },
  {
   "cell_type": "code",
   "execution_count": 19,
   "id": "2d4fdbe0",
   "metadata": {},
   "outputs": [
    {
     "data": {
      "image/png": "[encoded data removed]",
      "text/plain": [
       "<Figure size 288x288 with 1 Axes>"
      ]
     },
     "metadata": {},
     "output_type": "display_data"
    }
   ],
   "source": [
    "plot = df1.plot.pie(y='fuel-type', figsize=(4, 4))"
   ]
  },
  {
   "cell_type": "code",
   "execution_count": 23,
   "id": "ae339b5e",
   "metadata": {},
   "outputs": [],
   "source": [
    "# Most of the car has gas fuel"
   ]
  },
  {
   "cell_type": "markdown",
   "id": "dc7c6833",
   "metadata": {},
   "source": [
    "Price distribution of cars"
   ]
  },
  {
   "cell_type": "code",
   "execution_count": 24,
   "id": "8507adbe",
   "metadata": {},
   "outputs": [
    {
     "name": "stderr",
     "output_type": "stream",
     "text": [
      "C:\\Users\\USER\\anaconda3\\lib\\site-packages\\seaborn\\distributions.py:2557: FutureWarning: `distplot` is a deprecated function and will be removed in a future version. Please adapt your code to use either `displot` (a figure-level function with similar flexibility) or `histplot` (an axes-level function for histograms).\n",
      "  warnings.warn(msg, FutureWarning)\n"
     ]
    },
    {
     "data": {
      "text/plain": [
       "<AxesSubplot: xlabel='price', ylabel='Density'>"
      ]
     },
     "execution_count": 24,
     "metadata": {},
     "output_type": "execute_result"
    },
    {
     "data": {
      "image/png": "[encoded data removed]",
      "text/plain": [
       "<Figure size 432x288 with 1 Axes>"
      ]
     },
     "metadata": {
      "needs_background": "light"
     },
     "output_type": "display_data"
    }
   ],
   "source": [
    "sns.distplot(data['price'],kde=True)"
   ]
  },
  {
   "cell_type": "code",
   "execution_count": 25,
   "id": "6c2ee3dd",
   "metadata": {},
   "outputs": [],
   "source": [
    "# Price distribution plot is right skewed\n",
    "# maximum number of cars are in range of 20000"
   ]
  },
  {
   "cell_type": "markdown",
   "id": "d55f64c9",
   "metadata": {},
   "source": [
    "Price distribution of diesel vs gas cars"
   ]
  },
  {
   "cell_type": "code",
   "execution_count": 31,
   "id": "d5c4fbab",
   "metadata": {},
   "outputs": [
    {
     "name": "stderr",
     "output_type": "stream",
     "text": [
      "C:\\Users\\USER\\anaconda3\\lib\\site-packages\\seaborn\\distributions.py:2557: FutureWarning: `distplot` is a deprecated function and will be removed in a future version. Please adapt your code to use either `displot` (a figure-level function with similar flexibility) or `histplot` (an axes-level function for histograms).\n",
      "  warnings.warn(msg, FutureWarning)\n",
      "C:\\Users\\USER\\anaconda3\\lib\\site-packages\\seaborn\\distributions.py:2557: FutureWarning: `distplot` is a deprecated function and will be removed in a future version. Please adapt your code to use either `displot` (a figure-level function with similar flexibility) or `histplot` (an axes-level function for histograms).\n",
      "  warnings.warn(msg, FutureWarning)\n"
     ]
    },
    {
     "data": {
      "text/plain": [
       "Text(0.5, 1.0, 'Distribution of ages of diesel vehicles')"
      ]
     },
     "execution_count": 31,
     "metadata": {},
     "output_type": "execute_result"
    },
    {
     "data": {
      "image/png": "[encoded data removed]",
      "text/plain": [
       "<Figure size 864x360 with 2 Axes>"
      ]
     },
     "metadata": {
      "needs_background": "light"
     },
     "output_type": "display_data"
    }
   ],
   "source": [
    "f= plt.figure(figsize=(12,5))\n",
    "\n",
    "ax=f.add_subplot(121)\n",
    "sns.distplot(data[(data['fuel-type']== 'gas')][\"price\"],color='b',ax=ax)\n",
    "ax.set_title('Distribution of price of gas vehicles')\n",
    "\n",
    "ax=f.add_subplot(122)\n",
    "sns.distplot(data[(data['fuel-type'] == 'diesel')]['price'],color='r',ax=ax)\n",
    "ax.set_title('Distribution of ages of diesel vehicles')"
   ]
  },
  {
   "cell_type": "code",
   "execution_count": 32,
   "id": "ae5d452b",
   "metadata": {},
   "outputs": [
    {
     "data": {
      "text/plain": [
       "<AxesSubplot: xlabel='fuel-type', ylabel='price'>"
      ]
     },
     "execution_count": 32,
     "metadata": {},
     "output_type": "execute_result"
    },
    {
     "data": {
      "image/png": "[encoded data removed]",
      "text/plain": [
       "<Figure size 432x288 with 1 Axes>"
      ]
     },
     "metadata": {
      "needs_background": "light"
     },
     "output_type": "display_data"
    }
   ],
   "source": [
    "sns.boxplot(x = 'fuel-type', y = 'price', data = data,palette='Pastel2')"
   ]
  },
  {
   "cell_type": "code",
   "execution_count": 33,
   "id": "8991febf",
   "metadata": {},
   "outputs": [],
   "source": [
    "# Price of diesel is much higher than of gas , also there are some outliers in gas vehicles"
   ]
  },
  {
   "cell_type": "markdown",
   "id": "1a9c5571",
   "metadata": {},
   "source": [
    "Aspiration Ratio"
   ]
  },
  {
   "cell_type": "code",
   "execution_count": 35,
   "id": "332978aa",
   "metadata": {},
   "outputs": [],
   "source": [
    "df2 = pd.DataFrame(data['aspiration'].value_counts())"
   ]
  },
  {
   "cell_type": "code",
   "execution_count": 36,
   "id": "695906e8",
   "metadata": {},
   "outputs": [
    {
     "data": {
      "text/html": [
       "<div>\n",
       "<style scoped>\n",
       "    .dataframe tbody tr th:only-of-type {\n",
       "        vertical-align: middle;\n",
       "    }\n",
       "\n",
       "    .dataframe tbody tr th {\n",
       "        vertical-align: top;\n",
       "    }\n",
       "\n",
       "    .dataframe thead th {\n",
       "        text-align: right;\n",
       "    }\n",
       "</style>\n",
       "<table border=\"1\" class=\"dataframe\">\n",
       "  <thead>\n",
       "    <tr style=\"text-align: right;\">\n",
       "      <th></th>\n",
       "      <th>aspiration</th>\n",
       "    </tr>\n",
       "  </thead>\n",
       "  <tbody>\n",
       "    <tr>\n",
       "      <th>std</th>\n",
       "      <td>1680</td>\n",
       "    </tr>\n",
       "    <tr>\n",
       "      <th>turbo</th>\n",
       "      <td>370</td>\n",
       "    </tr>\n",
       "  </tbody>\n",
       "</table>\n",
       "</div>"
      ],
      "text/plain": [
       "       aspiration\n",
       "std          1680\n",
       "turbo         370"
      ]
     },
     "execution_count": 36,
     "metadata": {},
     "output_type": "execute_result"
    }
   ],
   "source": [
    "df2"
   ]
  },
  {
   "cell_type": "code",
   "execution_count": 38,
   "id": "396f66b1",
   "metadata": {},
   "outputs": [
    {
     "data": {
      "image/png": "[encoded data removed]",
      "text/plain": [
       "<Figure size 360x360 with 1 Axes>"
      ]
     },
     "metadata": {},
     "output_type": "display_data"
    }
   ],
   "source": [
    "plot = df2.plot.pie(y='aspiration', figsize=(5, 5))"
   ]
  },
  {
   "cell_type": "code",
   "execution_count": 39,
   "id": "bb14ed41",
   "metadata": {},
   "outputs": [],
   "source": [
    "# Most of the cars have standard aspiration"
   ]
  },
  {
   "cell_type": "markdown",
   "id": "c410576c",
   "metadata": {},
   "source": [
    "Price distribution of Std vs Turbo aspiration vehicles"
   ]
  },
  {
   "cell_type": "code",
   "execution_count": 40,
   "id": "4c4c8e67",
   "metadata": {},
   "outputs": [
    {
     "name": "stderr",
     "output_type": "stream",
     "text": [
      "C:\\Users\\USER\\anaconda3\\lib\\site-packages\\seaborn\\distributions.py:2557: FutureWarning: `distplot` is a deprecated function and will be removed in a future version. Please adapt your code to use either `displot` (a figure-level function with similar flexibility) or `histplot` (an axes-level function for histograms).\n",
      "  warnings.warn(msg, FutureWarning)\n",
      "C:\\Users\\USER\\anaconda3\\lib\\site-packages\\seaborn\\distributions.py:2557: FutureWarning: `distplot` is a deprecated function and will be removed in a future version. Please adapt your code to use either `displot` (a figure-level function with similar flexibility) or `histplot` (an axes-level function for histograms).\n",
      "  warnings.warn(msg, FutureWarning)\n"
     ]
    },
    {
     "data": {
      "text/plain": [
       "Text(0.5, 1.0, 'Price distribution of Std aspiration vehicles')"
      ]
     },
     "execution_count": 40,
     "metadata": {},
     "output_type": "execute_result"
    },
    {
     "data": {
      "image/png": "[encoded data removed]",
      "text/plain": [
       "<Figure size 864x360 with 2 Axes>"
      ]
     },
     "metadata": {
      "needs_background": "light"
     },
     "output_type": "display_data"
    }
   ],
   "source": [
    "f= plt.figure(figsize=(12,5))\n",
    "\n",
    "ax=f.add_subplot(121)\n",
    "plot=sns.distplot(data[(data.aspiration== 'turbo')][\"price\"],color='#ca91eb',ax=ax)\n",
    "ax.set_title('Price distribution of Turbo aspiration vehicles')\n",
    "\n",
    "ax=f.add_subplot(122)\n",
    "plot=sns.distplot(data[(data.aspiration == 'std')]['price'],color='#eb6426',ax=ax)\n",
    "ax.set_title('Price distribution of Std aspiration vehicles')"
   ]
  },
  {
   "cell_type": "code",
   "execution_count": 41,
   "id": "1ead5293",
   "metadata": {},
   "outputs": [
    {
     "data": {
      "text/plain": [
       "<AxesSubplot: xlabel='aspiration', ylabel='price'>"
      ]
     },
     "execution_count": 41,
     "metadata": {},
     "output_type": "execute_result"
    },
    {
     "data": {
      "image/png": "[encoded data removed]",
      "text/plain": [
       "<Figure size 432x288 with 1 Axes>"
      ]
     },
     "metadata": {
      "needs_background": "light"
     },
     "output_type": "display_data"
    }
   ],
   "source": [
    "sns.boxplot(x = 'aspiration', y = 'price', data = data,palette='Pastel1')"
   ]
  },
  {
   "cell_type": "markdown",
   "id": "aa5917c2",
   "metadata": {},
   "source": [
    "Door Number"
   ]
  },
  {
   "cell_type": "code",
   "execution_count": 44,
   "id": "7f9ea0fa",
   "metadata": {},
   "outputs": [],
   "source": [
    "df3 = pd.DataFrame(data['num-of-doors'].value_counts())"
   ]
  },
  {
   "cell_type": "code",
   "execution_count": 45,
   "id": "d3e9c9ae",
   "metadata": {},
   "outputs": [
    {
     "data": {
      "text/html": [
       "<div>\n",
       "<style scoped>\n",
       "    .dataframe tbody tr th:only-of-type {\n",
       "        vertical-align: middle;\n",
       "    }\n",
       "\n",
       "    .dataframe tbody tr th {\n",
       "        vertical-align: top;\n",
       "    }\n",
       "\n",
       "    .dataframe thead th {\n",
       "        text-align: right;\n",
       "    }\n",
       "</style>\n",
       "<table border=\"1\" class=\"dataframe\">\n",
       "  <thead>\n",
       "    <tr style=\"text-align: right;\">\n",
       "      <th></th>\n",
       "      <th>num-of-doors</th>\n",
       "    </tr>\n",
       "  </thead>\n",
       "  <tbody>\n",
       "    <tr>\n",
       "      <th>four</th>\n",
       "      <td>1160</td>\n",
       "    </tr>\n",
       "    <tr>\n",
       "      <th>two</th>\n",
       "      <td>890</td>\n",
       "    </tr>\n",
       "  </tbody>\n",
       "</table>\n",
       "</div>"
      ],
      "text/plain": [
       "      num-of-doors\n",
       "four          1160\n",
       "two            890"
      ]
     },
     "execution_count": 45,
     "metadata": {},
     "output_type": "execute_result"
    }
   ],
   "source": [
    "df3"
   ]
  },
  {
   "cell_type": "code",
   "execution_count": 46,
   "id": "a328e086",
   "metadata": {},
   "outputs": [
    {
     "data": {
      "image/png": "[encoded data removed]",
      "text/plain": [
       "<Figure size 360x360 with 1 Axes>"
      ]
     },
     "metadata": {},
     "output_type": "display_data"
    }
   ],
   "source": [
    "plot = df3.plot.pie(y='num-of-doors', figsize=(5, 5))"
   ]
  },
  {
   "cell_type": "code",
   "execution_count": 47,
   "id": "d7042509",
   "metadata": {},
   "outputs": [],
   "source": [
    "# 1160 cars has four doors and 890 cars has two doors"
   ]
  },
  {
   "cell_type": "markdown",
   "id": "a490d7ea",
   "metadata": {},
   "source": [
    "Price distribution according to door number"
   ]
  },
  {
   "cell_type": "code",
   "execution_count": 49,
   "id": "dcb9f0e0",
   "metadata": {},
   "outputs": [
    {
     "name": "stderr",
     "output_type": "stream",
     "text": [
      "C:\\Users\\USER\\anaconda3\\lib\\site-packages\\seaborn\\distributions.py:2557: FutureWarning: `distplot` is a deprecated function and will be removed in a future version. Please adapt your code to use either `displot` (a figure-level function with similar flexibility) or `histplot` (an axes-level function for histograms).\n",
      "  warnings.warn(msg, FutureWarning)\n",
      "C:\\Users\\USER\\anaconda3\\lib\\site-packages\\seaborn\\distributions.py:2557: FutureWarning: `distplot` is a deprecated function and will be removed in a future version. Please adapt your code to use either `displot` (a figure-level function with similar flexibility) or `histplot` (an axes-level function for histograms).\n",
      "  warnings.warn(msg, FutureWarning)\n"
     ]
    },
    {
     "data": {
      "text/plain": [
       "Text(0.5, 1.0, 'Price distribution of cars having four doors')"
      ]
     },
     "execution_count": 49,
     "metadata": {},
     "output_type": "execute_result"
    },
    {
     "data": {
      "image/png": "[encoded data removed]",
      "text/plain": [
       "<Figure size 864x360 with 2 Axes>"
      ]
     },
     "metadata": {
      "needs_background": "light"
     },
     "output_type": "display_data"
    }
   ],
   "source": [
    "f= plt.figure(figsize=(12,5))\n",
    "\n",
    "ax=f.add_subplot(121)\n",
    "plot=sns.distplot(data[(data['num-of-doors']== 'two')][\"price\"],color='#ca91eb',ax=ax)\n",
    "ax.set_title('Price distribution of cars having two doors')\n",
    "\n",
    "ax=f.add_subplot(122)\n",
    "plot=sns.distplot(data[(data['num-of-doors'] == 'four')]['price'],color='#eb6426',ax=ax)\n",
    "ax.set_title('Price distribution of cars having four doors')"
   ]
  },
  {
   "cell_type": "code",
   "execution_count": 50,
   "id": "ea43509c",
   "metadata": {},
   "outputs": [
    {
     "data": {
      "text/plain": [
       "<AxesSubplot: xlabel='num-of-doors', ylabel='price'>"
      ]
     },
     "execution_count": 50,
     "metadata": {},
     "output_type": "execute_result"
    },
    {
     "data": {
      "image/png": "[encoded data removed]",
      "text/plain": [
       "<Figure size 432x288 with 1 Axes>"
      ]
     },
     "metadata": {
      "needs_background": "light"
     },
     "output_type": "display_data"
    }
   ],
   "source": [
    "sns.boxplot(x = 'num-of-doors', y = 'price', data = data,palette='Accent')"
   ]
  },
  {
   "cell_type": "code",
   "execution_count": 51,
   "id": "b4929ea8",
   "metadata": {},
   "outputs": [],
   "source": [
    "# As you can see there is slight difference in distributions of cars having two doors vs cars having 4 doors"
   ]
  },
  {
   "cell_type": "markdown",
   "id": "46a56062",
   "metadata": {},
   "source": [
    "CarBody"
   ]
  },
  {
   "cell_type": "code",
   "execution_count": 53,
   "id": "864b7342",
   "metadata": {},
   "outputs": [],
   "source": [
    "df4=pd.DataFrame(data['body-style'].value_counts())"
   ]
  },
  {
   "cell_type": "code",
   "execution_count": 54,
   "id": "76e1c9f6",
   "metadata": {},
   "outputs": [
    {
     "data": {
      "text/html": [
       "<div>\n",
       "<style scoped>\n",
       "    .dataframe tbody tr th:only-of-type {\n",
       "        vertical-align: middle;\n",
       "    }\n",
       "\n",
       "    .dataframe tbody tr th {\n",
       "        vertical-align: top;\n",
       "    }\n",
       "\n",
       "    .dataframe thead th {\n",
       "        text-align: right;\n",
       "    }\n",
       "</style>\n",
       "<table border=\"1\" class=\"dataframe\">\n",
       "  <thead>\n",
       "    <tr style=\"text-align: right;\">\n",
       "      <th></th>\n",
       "      <th>body-style</th>\n",
       "    </tr>\n",
       "  </thead>\n",
       "  <tbody>\n",
       "    <tr>\n",
       "      <th>sedan</th>\n",
       "      <td>960</td>\n",
       "    </tr>\n",
       "    <tr>\n",
       "      <th>hatchback</th>\n",
       "      <td>700</td>\n",
       "    </tr>\n",
       "    <tr>\n",
       "      <th>wagon</th>\n",
       "      <td>250</td>\n",
       "    </tr>\n",
       "    <tr>\n",
       "      <th>hardtop</th>\n",
       "      <td>80</td>\n",
       "    </tr>\n",
       "    <tr>\n",
       "      <th>convertible</th>\n",
       "      <td>60</td>\n",
       "    </tr>\n",
       "  </tbody>\n",
       "</table>\n",
       "</div>"
      ],
      "text/plain": [
       "             body-style\n",
       "sedan               960\n",
       "hatchback           700\n",
       "wagon               250\n",
       "hardtop              80\n",
       "convertible          60"
      ]
     },
     "execution_count": 54,
     "metadata": {},
     "output_type": "execute_result"
    }
   ],
   "source": [
    "df4"
   ]
  },
  {
   "cell_type": "code",
   "execution_count": 57,
   "id": "962d16e2",
   "metadata": {},
   "outputs": [
    {
     "data": {
      "image/png": "[encoded data removed]",
      "text/plain": [
       "<Figure size 432x432 with 1 Axes>"
      ]
     },
     "metadata": {},
     "output_type": "display_data"
    }
   ],
   "source": [
    "plot = df4.plot.pie(y='body-style', figsize=(6, 6))"
   ]
  },
  {
   "cell_type": "code",
   "execution_count": 58,
   "id": "0ddf8175",
   "metadata": {},
   "outputs": [],
   "source": [
    "# majority of car body are sedan and hatchback"
   ]
  },
  {
   "cell_type": "markdown",
   "id": "4aa2d2a2",
   "metadata": {},
   "source": [
    " Price distribution according to car body"
   ]
  },
  {
   "cell_type": "code",
   "execution_count": 60,
   "id": "d1219b0e",
   "metadata": {},
   "outputs": [
    {
     "data": {
      "text/plain": [
       "<AxesSubplot: xlabel='body-style', ylabel='price'>"
      ]
     },
     "execution_count": 60,
     "metadata": {},
     "output_type": "execute_result"
    },
    {
     "data": {
      "image/png": "[encoded data removed]",
      "text/plain": [
       "<Figure size 432x288 with 1 Axes>"
      ]
     },
     "metadata": {
      "needs_background": "light"
     },
     "output_type": "display_data"
    }
   ],
   "source": [
    "sns.boxplot(x = 'body-style', y = 'price', data = data,palette='Accent')"
   ]
  },
  {
   "cell_type": "code",
   "execution_count": 61,
   "id": "90d39994",
   "metadata": {},
   "outputs": [],
   "source": [
    "# price of hardtop is very high compare to others"
   ]
  },
  {
   "cell_type": "markdown",
   "id": "18f8bb1f",
   "metadata": {},
   "source": [
    "Drive wheel"
   ]
  },
  {
   "cell_type": "code",
   "execution_count": 63,
   "id": "7a786489",
   "metadata": {},
   "outputs": [],
   "source": [
    "df5=pd.DataFrame(data['drive-wheels'].value_counts())"
   ]
  },
  {
   "cell_type": "code",
   "execution_count": 64,
   "id": "02257d44",
   "metadata": {},
   "outputs": [
    {
     "data": {
      "text/html": [
       "<div>\n",
       "<style scoped>\n",
       "    .dataframe tbody tr th:only-of-type {\n",
       "        vertical-align: middle;\n",
       "    }\n",
       "\n",
       "    .dataframe tbody tr th {\n",
       "        vertical-align: top;\n",
       "    }\n",
       "\n",
       "    .dataframe thead th {\n",
       "        text-align: right;\n",
       "    }\n",
       "</style>\n",
       "<table border=\"1\" class=\"dataframe\">\n",
       "  <thead>\n",
       "    <tr style=\"text-align: right;\">\n",
       "      <th></th>\n",
       "      <th>drive-wheels</th>\n",
       "    </tr>\n",
       "  </thead>\n",
       "  <tbody>\n",
       "    <tr>\n",
       "      <th>fwd</th>\n",
       "      <td>1200</td>\n",
       "    </tr>\n",
       "    <tr>\n",
       "      <th>rwd</th>\n",
       "      <td>760</td>\n",
       "    </tr>\n",
       "    <tr>\n",
       "      <th>4wd</th>\n",
       "      <td>90</td>\n",
       "    </tr>\n",
       "  </tbody>\n",
       "</table>\n",
       "</div>"
      ],
      "text/plain": [
       "     drive-wheels\n",
       "fwd          1200\n",
       "rwd           760\n",
       "4wd            90"
      ]
     },
     "execution_count": 64,
     "metadata": {},
     "output_type": "execute_result"
    }
   ],
   "source": [
    "df5"
   ]
  },
  {
   "cell_type": "code",
   "execution_count": 67,
   "id": "c3e725b5",
   "metadata": {},
   "outputs": [
    {
     "data": {
      "image/png": "[encoded data removed]",
      "text/plain": [
       "<Figure size 360x360 with 1 Axes>"
      ]
     },
     "metadata": {},
     "output_type": "display_data"
    }
   ],
   "source": [
    "plot = df5.plot.pie(y='drive-wheels', figsize=(5, 5))"
   ]
  },
  {
   "cell_type": "code",
   "execution_count": 68,
   "id": "fddadec1",
   "metadata": {},
   "outputs": [],
   "source": [
    "# Maximum cars has fwd drive wheel"
   ]
  },
  {
   "cell_type": "markdown",
   "id": "98b79384",
   "metadata": {},
   "source": [
    "Price distribution according to drive wheel"
   ]
  },
  {
   "cell_type": "code",
   "execution_count": 69,
   "id": "d174fe97",
   "metadata": {},
   "outputs": [
    {
     "data": {
      "text/plain": [
       "<AxesSubplot: xlabel='drive-wheels', ylabel='price'>"
      ]
     },
     "execution_count": 69,
     "metadata": {},
     "output_type": "execute_result"
    },
    {
     "data": {
      "image/png": "[encoded data removed]",
      "text/plain": [
       "<Figure size 432x288 with 1 Axes>"
      ]
     },
     "metadata": {
      "needs_background": "light"
     },
     "output_type": "display_data"
    }
   ],
   "source": [
    "sns.boxplot(x = 'drive-wheels', y = 'price', data = data,palette='Accent')"
   ]
  },
  {
   "cell_type": "markdown",
   "id": "8ee70bca",
   "metadata": {},
   "source": [
    "Price distribution according to drive wheel"
   ]
  },
  {
   "cell_type": "code",
   "execution_count": 70,
   "id": "a78b8e15",
   "metadata": {},
   "outputs": [
    {
     "data": {
      "text/plain": [
       "<AxesSubplot: xlabel='drive-wheels', ylabel='price'>"
      ]
     },
     "execution_count": 70,
     "metadata": {},
     "output_type": "execute_result"
    },
    {
     "data": {
      "image/png": "[encoded data removed]",
      "text/plain": [
       "<Figure size 432x288 with 1 Axes>"
      ]
     },
     "metadata": {
      "needs_background": "light"
     },
     "output_type": "display_data"
    }
   ],
   "source": [
    "sns.boxplot(x = 'drive-wheels', y = 'price', data = data,palette='Accent')"
   ]
  },
  {
   "cell_type": "code",
   "execution_count": 72,
   "id": "0a22b8a4",
   "metadata": {},
   "outputs": [],
   "source": [
    "# Price range of rwd drivewheel cars is quite high compare to others"
   ]
  },
  {
   "cell_type": "markdown",
   "id": "15d18923",
   "metadata": {},
   "source": [
    "Engine location"
   ]
  },
  {
   "cell_type": "code",
   "execution_count": 74,
   "id": "20387108",
   "metadata": {},
   "outputs": [],
   "source": [
    "df6=pd.DataFrame(data['engine-location'].value_counts())"
   ]
  },
  {
   "cell_type": "code",
   "execution_count": 75,
   "id": "401fdb32",
   "metadata": {},
   "outputs": [
    {
     "data": {
      "text/html": [
       "<div>\n",
       "<style scoped>\n",
       "    .dataframe tbody tr th:only-of-type {\n",
       "        vertical-align: middle;\n",
       "    }\n",
       "\n",
       "    .dataframe tbody tr th {\n",
       "        vertical-align: top;\n",
       "    }\n",
       "\n",
       "    .dataframe thead th {\n",
       "        text-align: right;\n",
       "    }\n",
       "</style>\n",
       "<table border=\"1\" class=\"dataframe\">\n",
       "  <thead>\n",
       "    <tr style=\"text-align: right;\">\n",
       "      <th></th>\n",
       "      <th>engine-location</th>\n",
       "    </tr>\n",
       "  </thead>\n",
       "  <tbody>\n",
       "    <tr>\n",
       "      <th>front</th>\n",
       "      <td>2020</td>\n",
       "    </tr>\n",
       "    <tr>\n",
       "      <th>rear</th>\n",
       "      <td>30</td>\n",
       "    </tr>\n",
       "  </tbody>\n",
       "</table>\n",
       "</div>"
      ],
      "text/plain": [
       "       engine-location\n",
       "front             2020\n",
       "rear                30"
      ]
     },
     "execution_count": 75,
     "metadata": {},
     "output_type": "execute_result"
    }
   ],
   "source": [
    "df6"
   ]
  },
  {
   "cell_type": "code",
   "execution_count": 77,
   "id": "e432a684",
   "metadata": {},
   "outputs": [
    {
     "data": {
      "image/png": "[encoded data removed]",
      "text/plain": [
       "<Figure size 360x360 with 1 Axes>"
      ]
     },
     "metadata": {},
     "output_type": "display_data"
    }
   ],
   "source": [
    "plot = df6.plot.pie(y='engine-location', figsize=(5,5))"
   ]
  },
  {
   "cell_type": "code",
   "execution_count": 78,
   "id": "4ef765c6",
   "metadata": {},
   "outputs": [],
   "source": [
    "# less number of cars having rear engine"
   ]
  },
  {
   "cell_type": "markdown",
   "id": "be8b46c6",
   "metadata": {},
   "source": [
    "Engine Type"
   ]
  },
  {
   "cell_type": "code",
   "execution_count": 79,
   "id": "ac0c2abb",
   "metadata": {},
   "outputs": [],
   "source": [
    "df7=pd.DataFrame(data['engine-type'].value_counts())"
   ]
  },
  {
   "cell_type": "code",
   "execution_count": 80,
   "id": "dcfd9efe",
   "metadata": {},
   "outputs": [
    {
     "data": {
      "text/html": [
       "<div>\n",
       "<style scoped>\n",
       "    .dataframe tbody tr th:only-of-type {\n",
       "        vertical-align: middle;\n",
       "    }\n",
       "\n",
       "    .dataframe tbody tr th {\n",
       "        vertical-align: top;\n",
       "    }\n",
       "\n",
       "    .dataframe thead th {\n",
       "        text-align: right;\n",
       "    }\n",
       "</style>\n",
       "<table border=\"1\" class=\"dataframe\">\n",
       "  <thead>\n",
       "    <tr style=\"text-align: right;\">\n",
       "      <th></th>\n",
       "      <th>engine-type</th>\n",
       "    </tr>\n",
       "  </thead>\n",
       "  <tbody>\n",
       "    <tr>\n",
       "      <th>ohc</th>\n",
       "      <td>1480</td>\n",
       "    </tr>\n",
       "    <tr>\n",
       "      <th>ohcv</th>\n",
       "      <td>250</td>\n",
       "    </tr>\n",
       "    <tr>\n",
       "      <th>ohcf</th>\n",
       "      <td>150</td>\n",
       "    </tr>\n",
       "    <tr>\n",
       "      <th>dohc</th>\n",
       "      <td>120</td>\n",
       "    </tr>\n",
       "    <tr>\n",
       "      <th>rotor</th>\n",
       "      <td>40</td>\n",
       "    </tr>\n",
       "    <tr>\n",
       "      <th>dohcv</th>\n",
       "      <td>10</td>\n",
       "    </tr>\n",
       "  </tbody>\n",
       "</table>\n",
       "</div>"
      ],
      "text/plain": [
       "       engine-type\n",
       "ohc           1480\n",
       "ohcv           250\n",
       "ohcf           150\n",
       "dohc           120\n",
       "rotor           40\n",
       "dohcv           10"
      ]
     },
     "execution_count": 80,
     "metadata": {},
     "output_type": "execute_result"
    }
   ],
   "source": [
    "df7"
   ]
  },
  {
   "cell_type": "code",
   "execution_count": 84,
   "id": "85a56661",
   "metadata": {},
   "outputs": [
    {
     "data": {
      "image/png": "[encoded data removed]",
      "text/plain": [
       "<Figure size 432x432 with 1 Axes>"
      ]
     },
     "metadata": {},
     "output_type": "display_data"
    }
   ],
   "source": [
    "plot = df7.plot.pie(y='engine-type', figsize=(6, 6))"
   ]
  },
  {
   "cell_type": "code",
   "execution_count": 85,
   "id": "2f3dd143",
   "metadata": {},
   "outputs": [],
   "source": [
    "# Maximum number of engine type are of 'ohc'"
   ]
  },
  {
   "cell_type": "code",
   "execution_count": 86,
   "id": "1c3795f8",
   "metadata": {},
   "outputs": [
    {
     "data": {
      "text/plain": [
       "<AxesSubplot: xlabel='engine-type', ylabel='price'>"
      ]
     },
     "execution_count": 86,
     "metadata": {},
     "output_type": "execute_result"
    },
    {
     "data": {
      "image/png": "[encoded data removed]",
      "text/plain": [
       "<Figure size 432x288 with 1 Axes>"
      ]
     },
     "metadata": {
      "needs_background": "light"
     },
     "output_type": "display_data"
    }
   ],
   "source": [
    "sns.boxplot(x = 'engine-type', y = 'price', data = data,palette='Accent')"
   ]
  },
  {
   "cell_type": "code",
   "execution_count": 88,
   "id": "e6a8d763",
   "metadata": {},
   "outputs": [],
   "source": [
    "# price range of ohcv engine cars are quite high in compare to others"
   ]
  },
  {
   "cell_type": "markdown",
   "id": "3e6413ca",
   "metadata": {},
   "source": [
    "Cylinder number"
   ]
  },
  {
   "cell_type": "code",
   "execution_count": 95,
   "id": "f6d6198b",
   "metadata": {},
   "outputs": [],
   "source": [
    "df8=pd.DataFrame(data['num-of-cylinders'].value_counts())\n",
    "# print(data.keys())"
   ]
  },
  {
   "cell_type": "code",
   "execution_count": 94,
   "id": "5869c0ea",
   "metadata": {},
   "outputs": [
    {
     "data": {
      "text/html": [
       "<div>\n",
       "<style scoped>\n",
       "    .dataframe tbody tr th:only-of-type {\n",
       "        vertical-align: middle;\n",
       "    }\n",
       "\n",
       "    .dataframe tbody tr th {\n",
       "        vertical-align: top;\n",
       "    }\n",
       "\n",
       "    .dataframe thead th {\n",
       "        text-align: right;\n",
       "    }\n",
       "</style>\n",
       "<table border=\"1\" class=\"dataframe\">\n",
       "  <thead>\n",
       "    <tr style=\"text-align: right;\">\n",
       "      <th></th>\n",
       "      <th>num-of-cylinders</th>\n",
       "    </tr>\n",
       "  </thead>\n",
       "  <tbody>\n",
       "    <tr>\n",
       "      <th>four</th>\n",
       "      <td>1590</td>\n",
       "    </tr>\n",
       "    <tr>\n",
       "      <th>six</th>\n",
       "      <td>240</td>\n",
       "    </tr>\n",
       "    <tr>\n",
       "      <th>five</th>\n",
       "      <td>110</td>\n",
       "    </tr>\n",
       "    <tr>\n",
       "      <th>eight</th>\n",
       "      <td>50</td>\n",
       "    </tr>\n",
       "    <tr>\n",
       "      <th>two</th>\n",
       "      <td>40</td>\n",
       "    </tr>\n",
       "    <tr>\n",
       "      <th>three</th>\n",
       "      <td>10</td>\n",
       "    </tr>\n",
       "    <tr>\n",
       "      <th>twelve</th>\n",
       "      <td>10</td>\n",
       "    </tr>\n",
       "  </tbody>\n",
       "</table>\n",
       "</div>"
      ],
      "text/plain": [
       "        num-of-cylinders\n",
       "four                1590\n",
       "six                  240\n",
       "five                 110\n",
       "eight                 50\n",
       "two                   40\n",
       "three                 10\n",
       "twelve                10"
      ]
     },
     "execution_count": 94,
     "metadata": {},
     "output_type": "execute_result"
    }
   ],
   "source": [
    "df8"
   ]
  },
  {
   "cell_type": "code",
   "execution_count": 97,
   "id": "7dda130d",
   "metadata": {},
   "outputs": [
    {
     "data": {
      "image/png": "[encoded data removed]",
      "text/plain": [
       "<Figure size 432x432 with 1 Axes>"
      ]
     },
     "metadata": {},
     "output_type": "display_data"
    }
   ],
   "source": [
    "plot = df8.plot.pie(y='num-of-cylinders', figsize=(6, 6))"
   ]
  },
  {
   "cell_type": "code",
   "execution_count": 98,
   "id": "7db29e0b",
   "metadata": {},
   "outputs": [],
   "source": [
    "# maximum cars are of four cylinder number"
   ]
  },
  {
   "cell_type": "markdown",
   "id": "cc96e541",
   "metadata": {},
   "source": [
    "Price distribution according to cylinder number"
   ]
  },
  {
   "cell_type": "code",
   "execution_count": 99,
   "id": "aa4ef094",
   "metadata": {},
   "outputs": [
    {
     "data": {
      "text/plain": [
       "<AxesSubplot: xlabel='num-of-cylinders', ylabel='price'>"
      ]
     },
     "execution_count": 99,
     "metadata": {},
     "output_type": "execute_result"
    },
    {
     "data": {
      "image/png": "[encoded data removed]",
      "text/plain": [
       "<Figure size 432x288 with 1 Axes>"
      ]
     },
     "metadata": {
      "needs_background": "light"
     },
     "output_type": "display_data"
    }
   ],
   "source": [
    "sns.boxplot(x = 'num-of-cylinders', y = 'price', data = data,palette='Accent')"
   ]
  },
  {
   "cell_type": "code",
   "execution_count": 100,
   "id": "3baa0f8d",
   "metadata": {},
   "outputs": [],
   "source": [
    "# there is only 1 car having cylinder number 3 and 12 .\n",
    "# car having cylinder number eight has higher price range."
   ]
  },
  {
   "cell_type": "markdown",
   "id": "7c1fb6a0",
   "metadata": {},
   "source": [
    "Fuel system"
   ]
  },
  {
   "cell_type": "code",
   "execution_count": 103,
   "id": "c0699020",
   "metadata": {},
   "outputs": [],
   "source": [
    "df9=pd.DataFrame(data['fuel-system'].value_counts()).reset_index().rename(columns={'index':'fuel-system','fuel-system':'count'})\n",
    "# data.keys()"
   ]
  },
  {
   "cell_type": "code",
   "execution_count": 104,
   "id": "4ec743b7",
   "metadata": {},
   "outputs": [
    {
     "data": {
      "text/html": [
       "<div>\n",
       "<style scoped>\n",
       "    .dataframe tbody tr th:only-of-type {\n",
       "        vertical-align: middle;\n",
       "    }\n",
       "\n",
       "    .dataframe tbody tr th {\n",
       "        vertical-align: top;\n",
       "    }\n",
       "\n",
       "    .dataframe thead th {\n",
       "        text-align: right;\n",
       "    }\n",
       "</style>\n",
       "<table border=\"1\" class=\"dataframe\">\n",
       "  <thead>\n",
       "    <tr style=\"text-align: right;\">\n",
       "      <th></th>\n",
       "      <th>fuel-system</th>\n",
       "      <th>count</th>\n",
       "    </tr>\n",
       "  </thead>\n",
       "  <tbody>\n",
       "    <tr>\n",
       "      <th>0</th>\n",
       "      <td>mpfi</td>\n",
       "      <td>940</td>\n",
       "    </tr>\n",
       "    <tr>\n",
       "      <th>1</th>\n",
       "      <td>2bbl</td>\n",
       "      <td>660</td>\n",
       "    </tr>\n",
       "    <tr>\n",
       "      <th>2</th>\n",
       "      <td>idi</td>\n",
       "      <td>200</td>\n",
       "    </tr>\n",
       "    <tr>\n",
       "      <th>3</th>\n",
       "      <td>1bbl</td>\n",
       "      <td>110</td>\n",
       "    </tr>\n",
       "    <tr>\n",
       "      <th>4</th>\n",
       "      <td>spdi</td>\n",
       "      <td>90</td>\n",
       "    </tr>\n",
       "    <tr>\n",
       "      <th>5</th>\n",
       "      <td>4bbl</td>\n",
       "      <td>30</td>\n",
       "    </tr>\n",
       "    <tr>\n",
       "      <th>6</th>\n",
       "      <td>mfi</td>\n",
       "      <td>10</td>\n",
       "    </tr>\n",
       "    <tr>\n",
       "      <th>7</th>\n",
       "      <td>spfi</td>\n",
       "      <td>10</td>\n",
       "    </tr>\n",
       "  </tbody>\n",
       "</table>\n",
       "</div>"
      ],
      "text/plain": [
       "  fuel-system  count\n",
       "0        mpfi    940\n",
       "1        2bbl    660\n",
       "2         idi    200\n",
       "3        1bbl    110\n",
       "4        spdi     90\n",
       "5        4bbl     30\n",
       "6         mfi     10\n",
       "7        spfi     10"
      ]
     },
     "execution_count": 104,
     "metadata": {},
     "output_type": "execute_result"
    }
   ],
   "source": [
    "df9"
   ]
  },
  {
   "cell_type": "code",
   "execution_count": 106,
   "id": "a0a28b1e",
   "metadata": {},
   "outputs": [
    {
     "data": {
      "text/plain": [
       "<AxesSubplot: xlabel='fuel-system', ylabel='count'>"
      ]
     },
     "execution_count": 106,
     "metadata": {},
     "output_type": "execute_result"
    },
    {
     "data": {
      "image/png": "[encoded data removed]",
      "text/plain": [
       "<Figure size 432x288 with 1 Axes>"
      ]
     },
     "metadata": {
      "needs_background": "light"
     },
     "output_type": "display_data"
    }
   ],
   "source": [
    "sns.barplot(x='fuel-system',y='count',data=df9)"
   ]
  },
  {
   "cell_type": "code",
   "execution_count": 107,
   "id": "6c959a48",
   "metadata": {},
   "outputs": [],
   "source": [
    "# most number of cars having fuel system mpfi\n",
    "# least number of cars having fuel system mfi and spf"
   ]
  },
  {
   "cell_type": "markdown",
   "id": "5c0055a6",
   "metadata": {},
   "source": [
    "Price distribution according to fuel system"
   ]
  },
  {
   "cell_type": "code",
   "execution_count": 108,
   "id": "d4c16d09",
   "metadata": {},
   "outputs": [
    {
     "data": {
      "text/plain": [
       "<AxesSubplot: xlabel='fuel-system', ylabel='price'>"
      ]
     },
     "execution_count": 108,
     "metadata": {},
     "output_type": "execute_result"
    },
    {
     "data": {
      "image/png": "[encoded data removed]",
      "text/plain": [
       "<Figure size 432x288 with 1 Axes>"
      ]
     },
     "metadata": {
      "needs_background": "light"
     },
     "output_type": "display_data"
    }
   ],
   "source": [
    "sns.boxplot(x = 'fuel-system', y = 'price', data = data,palette='gist_rainbow')"
   ]
  },
  {
   "cell_type": "code",
   "execution_count": 109,
   "id": "1784edc8",
   "metadata": {},
   "outputs": [],
   "source": [
    "# price range are high of car having idi fuel system"
   ]
  },
  {
   "cell_type": "markdown",
   "id": "8a9df781",
   "metadata": {},
   "source": [
    "Visualising Numerical features"
   ]
  },
  {
   "cell_type": "markdown",
   "id": "bd7efd0a",
   "metadata": {},
   "source": [
    "Wheel base Vs Price"
   ]
  },
  {
   "cell_type": "code",
   "execution_count": 110,
   "id": "9a3c84e8",
   "metadata": {},
   "outputs": [
    {
     "data": {
      "text/plain": [
       "<AxesSubplot: xlabel='wheel-base', ylabel='price'>"
      ]
     },
     "execution_count": 110,
     "metadata": {},
     "output_type": "execute_result"
    },
    {
     "data": {
      "image/png": "[encoded data removed]",
      "text/plain": [
       "<Figure size 432x288 with 1 Axes>"
      ]
     },
     "metadata": {
      "needs_background": "light"
     },
     "output_type": "display_data"
    }
   ],
   "source": [
    "sns.scatterplot(x=\"wheel-base\", y=\"price\", data=data,color='purple')"
   ]
  },
  {
   "cell_type": "code",
   "execution_count": null,
   "id": "3c72cfee",
   "metadata": {},
   "outputs": [],
   "source": [
    "# Highly scattered points"
   ]
  },
  {
   "cell_type": "markdown",
   "id": "d24acea5",
   "metadata": {},
   "source": [
    "Carlength vs Car price"
   ]
  },
  {
   "cell_type": "code",
   "execution_count": 118,
   "id": "89760857",
   "metadata": {},
   "outputs": [
    {
     "data": {
      "text/plain": [
       "Index(['car-name', 'fuel-type', 'aspiration', 'num-of-doors', 'body-style',\n",
       "       'drive-wheels', 'engine-location', 'wheel-base', 'length', 'width',\n",
       "       'height', 'curb-weight', 'engine-type', 'num-of-cylinders',\n",
       "       'engine-size', 'fuel-system', 'bore', 'stroke', 'compression-ratio',\n",
       "       'horsepower', 'peak-rpm', 'city-mpg', 'highway-mpg', 'price'],\n",
       "      dtype='object')"
      ]
     },
     "execution_count": 118,
     "metadata": {},
     "output_type": "execute_result"
    },
    {
     "data": {
      "image/png": "[encoded data removed]",
      "text/plain": [
       "<Figure size 432x288 with 1 Axes>"
      ]
     },
     "metadata": {
      "needs_background": "light"
     },
     "output_type": "display_data"
    }
   ],
   "source": [
    "sns.scatterplot(x=\"length\", y=\"price\", data=data,color='b')\n",
    "data.keys()"
   ]
  },
  {
   "cell_type": "code",
   "execution_count": 116,
   "id": "b1879c20",
   "metadata": {},
   "outputs": [],
   "source": [
    "# car length also scattered but less scattered than wheelbase"
   ]
  },
  {
   "cell_type": "markdown",
   "id": "9f8c15e7",
   "metadata": {},
   "source": [
    "Car width Vs Price"
   ]
  },
  {
   "cell_type": "code",
   "execution_count": 117,
   "id": "3a3c1b15",
   "metadata": {},
   "outputs": [
    {
     "data": {
      "text/plain": [
       "<AxesSubplot: xlabel='width', ylabel='price'>"
      ]
     },
     "execution_count": 117,
     "metadata": {},
     "output_type": "execute_result"
    },
    {
     "data": {
      "image/png": "[encoded data removed]",
      "text/plain": [
       "<Figure size 432x288 with 1 Axes>"
      ]
     },
     "metadata": {
      "needs_background": "light"
     },
     "output_type": "display_data"
    }
   ],
   "source": [
    "sns.scatterplot(x=\"width\", y=\"price\", data=data,color='b')"
   ]
  },
  {
   "cell_type": "markdown",
   "id": "bd9c86e0",
   "metadata": {},
   "source": [
    "Car length vs Car width"
   ]
  },
  {
   "cell_type": "code",
   "execution_count": 119,
   "id": "cf50f864",
   "metadata": {},
   "outputs": [
    {
     "data": {
      "text/plain": [
       "<AxesSubplot: xlabel='length', ylabel='width'>"
      ]
     },
     "execution_count": 119,
     "metadata": {},
     "output_type": "execute_result"
    },
    {
     "data": {
      "image/png": "[encoded data removed]",
      "text/plain": [
       "<Figure size 432x288 with 1 Axes>"
      ]
     },
     "metadata": {
      "needs_background": "light"
     },
     "output_type": "display_data"
    }
   ],
   "source": [
    "sns.scatterplot(x=\"length\", y=\"width\", data=data,color='b')"
   ]
  },
  {
   "cell_type": "code",
   "execution_count": 120,
   "id": "10b38db5",
   "metadata": {},
   "outputs": [],
   "source": [
    "# interesting !!! strong relation is seemed between car length and car width"
   ]
  },
  {
   "cell_type": "markdown",
   "id": "955b7256",
   "metadata": {},
   "source": [
    "Curbweight vs Price\n"
   ]
  },
  {
   "cell_type": "code",
   "execution_count": 121,
   "id": "7e985dd1",
   "metadata": {},
   "outputs": [
    {
     "data": {
      "text/plain": [
       "<AxesSubplot: xlabel='curb-weight', ylabel='price'>"
      ]
     },
     "execution_count": 121,
     "metadata": {},
     "output_type": "execute_result"
    },
    {
     "data": {
      "image/png": "[encoded data removed]",
      "text/plain": [
       "<Figure size 432x288 with 1 Axes>"
      ]
     },
     "metadata": {
      "needs_background": "light"
     },
     "output_type": "display_data"
    }
   ],
   "source": [
    "sns.scatterplot(x=\"curb-weight\", y=\"price\", data=data,color='b')"
   ]
  },
  {
   "cell_type": "code",
   "execution_count": 122,
   "id": "5740e79c",
   "metadata": {},
   "outputs": [],
   "source": [
    "# points are scattered after curbweight of 2900, initially it is increasing as curbweight\n",
    "# increases as you can alse see in the joint plot color becomes lighter after curbweight of 2900"
   ]
  },
  {
   "cell_type": "markdown",
   "id": "d484b7b7",
   "metadata": {},
   "source": [
    "Engine size Vs Price"
   ]
  },
  {
   "cell_type": "code",
   "execution_count": 123,
   "id": "e70cb9ba",
   "metadata": {},
   "outputs": [
    {
     "data": {
      "text/plain": [
       "<AxesSubplot: xlabel='engine-size', ylabel='price'>"
      ]
     },
     "execution_count": 123,
     "metadata": {},
     "output_type": "execute_result"
    },
    {
     "data": {
      "image/png": "[encoded data removed]",
      "text/plain": [
       "<Figure size 432x288 with 1 Axes>"
      ]
     },
     "metadata": {
      "needs_background": "light"
     },
     "output_type": "display_data"
    }
   ],
   "source": [
    "sns.scatterplot(x=\"engine-size\", y=\"price\", data=data,color='b')"
   ]
  },
  {
   "cell_type": "code",
   "execution_count": 124,
   "id": "020ee951",
   "metadata": {},
   "outputs": [],
   "source": [
    "# points are scattered after engine size of 140, initially it is increasing as curbweight increases as you can alse see in the joint plot color becomes lighter after engine size of 140 ."
   ]
  },
  {
   "cell_type": "markdown",
   "id": "eef5f047",
   "metadata": {},
   "source": [
    "Boreratio vs Price"
   ]
  },
  {
   "cell_type": "code",
   "execution_count": 125,
   "id": "8c22dee6",
   "metadata": {},
   "outputs": [
    {
     "data": {
      "text/plain": [
       "<AxesSubplot: xlabel='bore', ylabel='price'>"
      ]
     },
     "execution_count": 125,
     "metadata": {},
     "output_type": "execute_result"
    },
    {
     "data": {
      "image/png": "[encoded data removed]",
      "text/plain": [
       "<Figure size 432x288 with 1 Axes>"
      ]
     },
     "metadata": {
      "needs_background": "light"
     },
     "output_type": "display_data"
    }
   ],
   "source": [
    "sns.scatterplot(x=\"bore\", y=\"price\", data=data,color='b')"
   ]
  },
  {
   "cell_type": "markdown",
   "id": "9a5eb74a",
   "metadata": {},
   "source": [
    "Stroke vs price"
   ]
  },
  {
   "cell_type": "code",
   "execution_count": 126,
   "id": "fe6f3f8f",
   "metadata": {},
   "outputs": [
    {
     "data": {
      "text/plain": [
       "<AxesSubplot: xlabel='stroke', ylabel='price'>"
      ]
     },
     "execution_count": 126,
     "metadata": {},
     "output_type": "execute_result"
    },
    {
     "data": {
      "image/png": "[encoded data removed]",
      "text/plain": [
       "<Figure size 432x288 with 1 Axes>"
      ]
     },
     "metadata": {
      "needs_background": "light"
     },
     "output_type": "display_data"
    }
   ],
   "source": [
    "sns.scatterplot(x=\"stroke\", y=\"price\", data=data,color='b')"
   ]
  },
  {
   "cell_type": "code",
   "execution_count": 127,
   "id": "4b1acfb4",
   "metadata": {},
   "outputs": [],
   "source": [
    "# very weak correlation between stroke vs price"
   ]
  },
  {
   "cell_type": "markdown",
   "id": "314cc45d",
   "metadata": {},
   "source": [
    "Compression ratio vs Price"
   ]
  },
  {
   "cell_type": "code",
   "execution_count": 128,
   "id": "01b8c4fc",
   "metadata": {},
   "outputs": [
    {
     "data": {
      "text/plain": [
       "<AxesSubplot: xlabel='compression-ratio', ylabel='price'>"
      ]
     },
     "execution_count": 128,
     "metadata": {},
     "output_type": "execute_result"
    },
    {
     "data": {
      "image/png": "[encoded data removed]",
      "text/plain": [
       "<Figure size 432x288 with 1 Axes>"
      ]
     },
     "metadata": {
      "needs_background": "light"
     },
     "output_type": "display_data"
    }
   ],
   "source": [
    "sns.scatterplot(x=\"compression-ratio\", y=\"price\", data=data,color='b')"
   ]
  },
  {
   "cell_type": "code",
   "execution_count": 129,
   "id": "4a4a09f2",
   "metadata": {},
   "outputs": [],
   "source": [
    "# no relation between compression ratio and price"
   ]
  },
  {
   "cell_type": "markdown",
   "id": "6a2b3f9a",
   "metadata": {},
   "source": [
    "Horsepower vs Price"
   ]
  },
  {
   "cell_type": "code",
   "execution_count": 130,
   "id": "469322f0",
   "metadata": {},
   "outputs": [
    {
     "data": {
      "text/plain": [
       "<AxesSubplot: xlabel='horsepower', ylabel='price'>"
      ]
     },
     "execution_count": 130,
     "metadata": {},
     "output_type": "execute_result"
    },
    {
     "data": {
      "image/png": "[encoded data removed]",
      "text/plain": [
       "<Figure size 432x288 with 1 Axes>"
      ]
     },
     "metadata": {
      "needs_background": "light"
     },
     "output_type": "display_data"
    }
   ],
   "source": [
    "sns.scatterplot(x=\"horsepower\", y=\"price\", data=data,color='b')"
   ]
  },
  {
   "cell_type": "markdown",
   "id": "a4ac7e4d",
   "metadata": {},
   "source": [
    "Peakrpm vs price"
   ]
  },
  {
   "cell_type": "code",
   "execution_count": 131,
   "id": "c071c96f",
   "metadata": {},
   "outputs": [
    {
     "data": {
      "text/plain": [
       "<AxesSubplot: xlabel='peak-rpm', ylabel='price'>"
      ]
     },
     "execution_count": 131,
     "metadata": {},
     "output_type": "execute_result"
    },
    {
     "data": {
      "image/png": "[encoded data removed]",
      "text/plain": [
       "<Figure size 432x288 with 1 Axes>"
      ]
     },
     "metadata": {
      "needs_background": "light"
     },
     "output_type": "display_data"
    }
   ],
   "source": [
    "sns.scatterplot(x=\"peak-rpm\", y=\"price\", data=data,color='r')"
   ]
  },
  {
   "cell_type": "code",
   "execution_count": 132,
   "id": "30aececc",
   "metadata": {},
   "outputs": [],
   "source": [
    "# no correlation between peakrpm and price"
   ]
  },
  {
   "cell_type": "markdown",
   "id": "1e449371",
   "metadata": {},
   "source": [
    "Citympg vs Price"
   ]
  },
  {
   "cell_type": "code",
   "execution_count": 134,
   "id": "9a20f357",
   "metadata": {},
   "outputs": [
    {
     "data": {
      "text/plain": [
       "<AxesSubplot: xlabel='city-mpg', ylabel='price'>"
      ]
     },
     "execution_count": 134,
     "metadata": {},
     "output_type": "execute_result"
    },
    {
     "data": {
      "image/png": "[encoded data removed]",
      "text/plain": [
       "<Figure size 432x288 with 1 Axes>"
      ]
     },
     "metadata": {
      "needs_background": "light"
     },
     "output_type": "display_data"
    }
   ],
   "source": [
    "sns.scatterplot(x=\"city-mpg\", y=\"price\", data=data,color='b')"
   ]
  },
  {
   "cell_type": "code",
   "execution_count": 135,
   "id": "ef891bc9",
   "metadata": {},
   "outputs": [],
   "source": [
    "# negative correlation is seen between citympg and price"
   ]
  },
  {
   "cell_type": "markdown",
   "id": "f9163f22",
   "metadata": {},
   "source": [
    "Highwaympg vs Price"
   ]
  },
  {
   "cell_type": "code",
   "execution_count": 136,
   "id": "473a5c9f",
   "metadata": {},
   "outputs": [
    {
     "data": {
      "text/plain": [
       "<AxesSubplot: xlabel='highway-mpg', ylabel='price'>"
      ]
     },
     "execution_count": 136,
     "metadata": {},
     "output_type": "execute_result"
    },
    {
     "data": {
      "image/png": "[encoded data removed]",
      "text/plain": [
       "<Figure size 432x288 with 1 Axes>"
      ]
     },
     "metadata": {
      "needs_background": "light"
     },
     "output_type": "display_data"
    }
   ],
   "source": [
    "sns.scatterplot(x=\"highway-mpg\", y=\"price\", data=data,color='b')"
   ]
  },
  {
   "cell_type": "code",
   "execution_count": 137,
   "id": "72636d88",
   "metadata": {},
   "outputs": [],
   "source": [
    "# negative correlation between highwaympg and price"
   ]
  },
  {
   "cell_type": "markdown",
   "id": "66ce6b5d",
   "metadata": {},
   "source": [
    "Pairplot of all numerical features"
   ]
  },
  {
   "cell_type": "code",
   "execution_count": 151,
   "id": "e3847f4f",
   "metadata": {},
   "outputs": [],
   "source": [
    "# ax = sns.pairplot(data[numeric_cols])"
   ]
  },
  {
   "cell_type": "code",
   "execution_count": 143,
   "id": "ae12a3a9",
   "metadata": {},
   "outputs": [],
   "source": [
    "numeric_cols = data.select_dtypes(include='number')"
   ]
  },
  {
   "cell_type": "code",
   "execution_count": 144,
   "id": "99cfe13e",
   "metadata": {},
   "outputs": [
    {
     "data": {
      "text/html": [
       "<div>\n",
       "<style scoped>\n",
       "    .dataframe tbody tr th:only-of-type {\n",
       "        vertical-align: middle;\n",
       "    }\n",
       "\n",
       "    .dataframe tbody tr th {\n",
       "        vertical-align: top;\n",
       "    }\n",
       "\n",
       "    .dataframe thead th {\n",
       "        text-align: right;\n",
       "    }\n",
       "</style>\n",
       "<table border=\"1\" class=\"dataframe\">\n",
       "  <thead>\n",
       "    <tr style=\"text-align: right;\">\n",
       "      <th></th>\n",
       "      <th>wheel-base</th>\n",
       "      <th>length</th>\n",
       "      <th>width</th>\n",
       "      <th>height</th>\n",
       "      <th>curb-weight</th>\n",
       "      <th>engine-size</th>\n",
       "      <th>bore</th>\n",
       "      <th>stroke</th>\n",
       "      <th>compression-ratio</th>\n",
       "      <th>horsepower</th>\n",
       "      <th>peak-rpm</th>\n",
       "      <th>city-mpg</th>\n",
       "      <th>highway-mpg</th>\n",
       "      <th>price</th>\n",
       "    </tr>\n",
       "  </thead>\n",
       "  <tbody>\n",
       "    <tr>\n",
       "      <th>0</th>\n",
       "      <td>88.6</td>\n",
       "      <td>168.8</td>\n",
       "      <td>64.1</td>\n",
       "      <td>48.8</td>\n",
       "      <td>2548</td>\n",
       "      <td>130</td>\n",
       "      <td>3.47</td>\n",
       "      <td>2.68</td>\n",
       "      <td>10.779306</td>\n",
       "      <td>111.0</td>\n",
       "      <td>5000.0</td>\n",
       "      <td>21</td>\n",
       "      <td>27</td>\n",
       "      <td>13495.0</td>\n",
       "    </tr>\n",
       "    <tr>\n",
       "      <th>1</th>\n",
       "      <td>88.6</td>\n",
       "      <td>168.8</td>\n",
       "      <td>64.1</td>\n",
       "      <td>48.8</td>\n",
       "      <td>2548</td>\n",
       "      <td>130</td>\n",
       "      <td>3.47</td>\n",
       "      <td>2.68</td>\n",
       "      <td>10.779306</td>\n",
       "      <td>111.0</td>\n",
       "      <td>5000.0</td>\n",
       "      <td>21</td>\n",
       "      <td>27</td>\n",
       "      <td>16500.0</td>\n",
       "    </tr>\n",
       "    <tr>\n",
       "      <th>2</th>\n",
       "      <td>94.5</td>\n",
       "      <td>171.2</td>\n",
       "      <td>65.5</td>\n",
       "      <td>52.4</td>\n",
       "      <td>2823</td>\n",
       "      <td>152</td>\n",
       "      <td>2.68</td>\n",
       "      <td>3.47</td>\n",
       "      <td>10.779306</td>\n",
       "      <td>154.0</td>\n",
       "      <td>5000.0</td>\n",
       "      <td>19</td>\n",
       "      <td>26</td>\n",
       "      <td>16500.0</td>\n",
       "    </tr>\n",
       "    <tr>\n",
       "      <th>3</th>\n",
       "      <td>99.8</td>\n",
       "      <td>176.6</td>\n",
       "      <td>66.2</td>\n",
       "      <td>54.3</td>\n",
       "      <td>2337</td>\n",
       "      <td>109</td>\n",
       "      <td>3.19</td>\n",
       "      <td>3.40</td>\n",
       "      <td>10.000000</td>\n",
       "      <td>102.0</td>\n",
       "      <td>5500.0</td>\n",
       "      <td>24</td>\n",
       "      <td>30</td>\n",
       "      <td>13950.0</td>\n",
       "    </tr>\n",
       "    <tr>\n",
       "      <th>4</th>\n",
       "      <td>99.4</td>\n",
       "      <td>176.6</td>\n",
       "      <td>66.4</td>\n",
       "      <td>54.3</td>\n",
       "      <td>2824</td>\n",
       "      <td>136</td>\n",
       "      <td>3.19</td>\n",
       "      <td>3.40</td>\n",
       "      <td>10.779306</td>\n",
       "      <td>115.0</td>\n",
       "      <td>5500.0</td>\n",
       "      <td>18</td>\n",
       "      <td>22</td>\n",
       "      <td>17450.0</td>\n",
       "    </tr>\n",
       "    <tr>\n",
       "      <th>...</th>\n",
       "      <td>...</td>\n",
       "      <td>...</td>\n",
       "      <td>...</td>\n",
       "      <td>...</td>\n",
       "      <td>...</td>\n",
       "      <td>...</td>\n",
       "      <td>...</td>\n",
       "      <td>...</td>\n",
       "      <td>...</td>\n",
       "      <td>...</td>\n",
       "      <td>...</td>\n",
       "      <td>...</td>\n",
       "      <td>...</td>\n",
       "      <td>...</td>\n",
       "    </tr>\n",
       "    <tr>\n",
       "      <th>2045</th>\n",
       "      <td>109.1</td>\n",
       "      <td>188.8</td>\n",
       "      <td>68.9</td>\n",
       "      <td>55.5</td>\n",
       "      <td>2952</td>\n",
       "      <td>141</td>\n",
       "      <td>3.78</td>\n",
       "      <td>3.15</td>\n",
       "      <td>9.500000</td>\n",
       "      <td>114.0</td>\n",
       "      <td>5400.0</td>\n",
       "      <td>23</td>\n",
       "      <td>28</td>\n",
       "      <td>16845.0</td>\n",
       "    </tr>\n",
       "    <tr>\n",
       "      <th>2046</th>\n",
       "      <td>109.1</td>\n",
       "      <td>188.8</td>\n",
       "      <td>68.8</td>\n",
       "      <td>55.5</td>\n",
       "      <td>3049</td>\n",
       "      <td>141</td>\n",
       "      <td>3.78</td>\n",
       "      <td>3.15</td>\n",
       "      <td>8.700000</td>\n",
       "      <td>160.0</td>\n",
       "      <td>5300.0</td>\n",
       "      <td>19</td>\n",
       "      <td>25</td>\n",
       "      <td>19045.0</td>\n",
       "    </tr>\n",
       "    <tr>\n",
       "      <th>2047</th>\n",
       "      <td>109.1</td>\n",
       "      <td>188.8</td>\n",
       "      <td>68.9</td>\n",
       "      <td>55.5</td>\n",
       "      <td>3012</td>\n",
       "      <td>173</td>\n",
       "      <td>3.58</td>\n",
       "      <td>2.87</td>\n",
       "      <td>8.800000</td>\n",
       "      <td>134.0</td>\n",
       "      <td>5500.0</td>\n",
       "      <td>18</td>\n",
       "      <td>23</td>\n",
       "      <td>21485.0</td>\n",
       "    </tr>\n",
       "    <tr>\n",
       "      <th>2048</th>\n",
       "      <td>109.1</td>\n",
       "      <td>188.8</td>\n",
       "      <td>68.9</td>\n",
       "      <td>55.5</td>\n",
       "      <td>3217</td>\n",
       "      <td>145</td>\n",
       "      <td>3.01</td>\n",
       "      <td>3.40</td>\n",
       "      <td>23.000000</td>\n",
       "      <td>106.0</td>\n",
       "      <td>4800.0</td>\n",
       "      <td>26</td>\n",
       "      <td>27</td>\n",
       "      <td>22470.0</td>\n",
       "    </tr>\n",
       "    <tr>\n",
       "      <th>2049</th>\n",
       "      <td>109.1</td>\n",
       "      <td>188.8</td>\n",
       "      <td>68.9</td>\n",
       "      <td>55.5</td>\n",
       "      <td>3062</td>\n",
       "      <td>141</td>\n",
       "      <td>3.78</td>\n",
       "      <td>3.15</td>\n",
       "      <td>9.500000</td>\n",
       "      <td>114.0</td>\n",
       "      <td>5400.0</td>\n",
       "      <td>19</td>\n",
       "      <td>25</td>\n",
       "      <td>22625.0</td>\n",
       "    </tr>\n",
       "  </tbody>\n",
       "</table>\n",
       "<p>2050 rows × 14 columns</p>\n",
       "</div>"
      ],
      "text/plain": [
       "      wheel-base  length  width  height  curb-weight  engine-size  bore  \\\n",
       "0           88.6   168.8   64.1    48.8         2548          130  3.47   \n",
       "1           88.6   168.8   64.1    48.8         2548          130  3.47   \n",
       "2           94.5   171.2   65.5    52.4         2823          152  2.68   \n",
       "3           99.8   176.6   66.2    54.3         2337          109  3.19   \n",
       "4           99.4   176.6   66.4    54.3         2824          136  3.19   \n",
       "...          ...     ...    ...     ...          ...          ...   ...   \n",
       "2045       109.1   188.8   68.9    55.5         2952          141  3.78   \n",
       "2046       109.1   188.8   68.8    55.5         3049          141  3.78   \n",
       "2047       109.1   188.8   68.9    55.5         3012          173  3.58   \n",
       "2048       109.1   188.8   68.9    55.5         3217          145  3.01   \n",
       "2049       109.1   188.8   68.9    55.5         3062          141  3.78   \n",
       "\n",
       "      stroke  compression-ratio  horsepower  peak-rpm  city-mpg  highway-mpg  \\\n",
       "0       2.68          10.779306       111.0    5000.0        21           27   \n",
       "1       2.68          10.779306       111.0    5000.0        21           27   \n",
       "2       3.47          10.779306       154.0    5000.0        19           26   \n",
       "3       3.40          10.000000       102.0    5500.0        24           30   \n",
       "4       3.40          10.779306       115.0    5500.0        18           22   \n",
       "...      ...                ...         ...       ...       ...          ...   \n",
       "2045    3.15           9.500000       114.0    5400.0        23           28   \n",
       "2046    3.15           8.700000       160.0    5300.0        19           25   \n",
       "2047    2.87           8.800000       134.0    5500.0        18           23   \n",
       "2048    3.40          23.000000       106.0    4800.0        26           27   \n",
       "2049    3.15           9.500000       114.0    5400.0        19           25   \n",
       "\n",
       "        price  \n",
       "0     13495.0  \n",
       "1     16500.0  \n",
       "2     16500.0  \n",
       "3     13950.0  \n",
       "4     17450.0  \n",
       "...       ...  \n",
       "2045  16845.0  \n",
       "2046  19045.0  \n",
       "2047  21485.0  \n",
       "2048  22470.0  \n",
       "2049  22625.0  \n",
       "\n",
       "[2050 rows x 14 columns]"
      ]
     },
     "execution_count": 144,
     "metadata": {},
     "output_type": "execute_result"
    }
   ],
   "source": [
    "numeric_cols"
   ]
  },
  {
   "cell_type": "code",
   "execution_count": 154,
   "id": "7cf70ef5",
   "metadata": {},
   "outputs": [],
   "source": [
    "# data[numeric_cols].corr()"
   ]
  },
  {
   "cell_type": "code",
   "execution_count": null,
   "id": "bf457613",
   "metadata": {},
   "outputs": [],
   "source": []
  },
  {
   "cell_type": "code",
   "execution_count": null,
   "id": "e7775963",
   "metadata": {},
   "outputs": [],
   "source": []
  }
 ],
 "metadata": {
  "kernelspec": {
   "display_name": "Python 3",
   "language": "python",
   "name": "python3"
  },
  "language_info": {
   "codemirror_mode": {
    "name": "ipython",
    "version": 3
   },
   "file_extension": ".py",
   "mimetype": "text/x-python",
   "name": "python",
   "nbconvert_exporter": "python",
   "pygments_lexer": "ipython3",
   "version": "3.8.8"
  }
 },
 "nbformat": 4,
 "nbformat_minor": 5
}
