{
 "cells": [
  {
   "cell_type": "code",
   "execution_count": 1,
   "id": "39eb3da2",
   "metadata": {},
   "outputs": [],
   "source": [
    "import numpy as np\n",
    "import pandas as pd"
   ]
  },
  {
   "cell_type": "code",
   "execution_count": 3,
   "id": "7885f86e",
   "metadata": {},
   "outputs": [],
   "source": [
    "d1=pd.read_csv('New_Car_Automobile.csv')"
   ]
  },
  {
   "cell_type": "code",
   "execution_count": 4,
   "id": "d2d2ecf0",
   "metadata": {},
   "outputs": [
    {
     "data": {
      "text/html": [
       "<div>\n",
       "<style scoped>\n",
       "    .dataframe tbody tr th:only-of-type {\n",
       "        vertical-align: middle;\n",
       "    }\n",
       "\n",
       "    .dataframe tbody tr th {\n",
       "        vertical-align: top;\n",
       "    }\n",
       "\n",
       "    .dataframe thead th {\n",
       "        text-align: right;\n",
       "    }\n",
       "</style>\n",
       "<table border=\"1\" class=\"dataframe\">\n",
       "  <thead>\n",
       "    <tr style=\"text-align: right;\">\n",
       "      <th></th>\n",
       "      <th>car-name</th>\n",
       "      <th>fuel-type</th>\n",
       "      <th>aspiration</th>\n",
       "      <th>num-of-doors</th>\n",
       "      <th>body-style</th>\n",
       "      <th>drive-wheels</th>\n",
       "      <th>engine-location</th>\n",
       "      <th>wheel-base</th>\n",
       "      <th>length</th>\n",
       "      <th>width</th>\n",
       "      <th>...</th>\n",
       "      <th>engine-size</th>\n",
       "      <th>fuel-system</th>\n",
       "      <th>bore</th>\n",
       "      <th>stroke</th>\n",
       "      <th>compression-ratio</th>\n",
       "      <th>horsepower</th>\n",
       "      <th>peak-rpm</th>\n",
       "      <th>city-mpg</th>\n",
       "      <th>highway-mpg</th>\n",
       "      <th>price</th>\n",
       "    </tr>\n",
       "  </thead>\n",
       "  <tbody>\n",
       "    <tr>\n",
       "      <th>0</th>\n",
       "      <td>alfa-romero</td>\n",
       "      <td>gas</td>\n",
       "      <td>std</td>\n",
       "      <td>two</td>\n",
       "      <td>convertible</td>\n",
       "      <td>rwd</td>\n",
       "      <td>front</td>\n",
       "      <td>88.6</td>\n",
       "      <td>168.8</td>\n",
       "      <td>64.1</td>\n",
       "      <td>...</td>\n",
       "      <td>130</td>\n",
       "      <td>mpfi</td>\n",
       "      <td>3.47</td>\n",
       "      <td>2.68</td>\n",
       "      <td>10.779306</td>\n",
       "      <td>111.0</td>\n",
       "      <td>5000.0</td>\n",
       "      <td>21</td>\n",
       "      <td>27</td>\n",
       "      <td>13495.0</td>\n",
       "    </tr>\n",
       "    <tr>\n",
       "      <th>1</th>\n",
       "      <td>alfa-romero</td>\n",
       "      <td>gas</td>\n",
       "      <td>std</td>\n",
       "      <td>two</td>\n",
       "      <td>convertible</td>\n",
       "      <td>rwd</td>\n",
       "      <td>front</td>\n",
       "      <td>88.6</td>\n",
       "      <td>168.8</td>\n",
       "      <td>64.1</td>\n",
       "      <td>...</td>\n",
       "      <td>130</td>\n",
       "      <td>mpfi</td>\n",
       "      <td>3.47</td>\n",
       "      <td>2.68</td>\n",
       "      <td>10.779306</td>\n",
       "      <td>111.0</td>\n",
       "      <td>5000.0</td>\n",
       "      <td>21</td>\n",
       "      <td>27</td>\n",
       "      <td>16500.0</td>\n",
       "    </tr>\n",
       "    <tr>\n",
       "      <th>2</th>\n",
       "      <td>alfa-romero</td>\n",
       "      <td>gas</td>\n",
       "      <td>std</td>\n",
       "      <td>two</td>\n",
       "      <td>hatchback</td>\n",
       "      <td>rwd</td>\n",
       "      <td>front</td>\n",
       "      <td>94.5</td>\n",
       "      <td>171.2</td>\n",
       "      <td>65.5</td>\n",
       "      <td>...</td>\n",
       "      <td>152</td>\n",
       "      <td>mpfi</td>\n",
       "      <td>2.68</td>\n",
       "      <td>3.47</td>\n",
       "      <td>10.779306</td>\n",
       "      <td>154.0</td>\n",
       "      <td>5000.0</td>\n",
       "      <td>19</td>\n",
       "      <td>26</td>\n",
       "      <td>16500.0</td>\n",
       "    </tr>\n",
       "    <tr>\n",
       "      <th>3</th>\n",
       "      <td>audi</td>\n",
       "      <td>gas</td>\n",
       "      <td>std</td>\n",
       "      <td>four</td>\n",
       "      <td>sedan</td>\n",
       "      <td>fwd</td>\n",
       "      <td>front</td>\n",
       "      <td>99.8</td>\n",
       "      <td>176.6</td>\n",
       "      <td>66.2</td>\n",
       "      <td>...</td>\n",
       "      <td>109</td>\n",
       "      <td>mpfi</td>\n",
       "      <td>3.19</td>\n",
       "      <td>3.40</td>\n",
       "      <td>10.000000</td>\n",
       "      <td>102.0</td>\n",
       "      <td>5500.0</td>\n",
       "      <td>24</td>\n",
       "      <td>30</td>\n",
       "      <td>13950.0</td>\n",
       "    </tr>\n",
       "    <tr>\n",
       "      <th>4</th>\n",
       "      <td>audi</td>\n",
       "      <td>gas</td>\n",
       "      <td>std</td>\n",
       "      <td>four</td>\n",
       "      <td>sedan</td>\n",
       "      <td>4wd</td>\n",
       "      <td>front</td>\n",
       "      <td>99.4</td>\n",
       "      <td>176.6</td>\n",
       "      <td>66.4</td>\n",
       "      <td>...</td>\n",
       "      <td>136</td>\n",
       "      <td>mpfi</td>\n",
       "      <td>3.19</td>\n",
       "      <td>3.40</td>\n",
       "      <td>10.779306</td>\n",
       "      <td>115.0</td>\n",
       "      <td>5500.0</td>\n",
       "      <td>18</td>\n",
       "      <td>22</td>\n",
       "      <td>17450.0</td>\n",
       "    </tr>\n",
       "    <tr>\n",
       "      <th>...</th>\n",
       "      <td>...</td>\n",
       "      <td>...</td>\n",
       "      <td>...</td>\n",
       "      <td>...</td>\n",
       "      <td>...</td>\n",
       "      <td>...</td>\n",
       "      <td>...</td>\n",
       "      <td>...</td>\n",
       "      <td>...</td>\n",
       "      <td>...</td>\n",
       "      <td>...</td>\n",
       "      <td>...</td>\n",
       "      <td>...</td>\n",
       "      <td>...</td>\n",
       "      <td>...</td>\n",
       "      <td>...</td>\n",
       "      <td>...</td>\n",
       "      <td>...</td>\n",
       "      <td>...</td>\n",
       "      <td>...</td>\n",
       "      <td>...</td>\n",
       "    </tr>\n",
       "    <tr>\n",
       "      <th>2045</th>\n",
       "      <td>volvo</td>\n",
       "      <td>gas</td>\n",
       "      <td>std</td>\n",
       "      <td>four</td>\n",
       "      <td>sedan</td>\n",
       "      <td>rwd</td>\n",
       "      <td>front</td>\n",
       "      <td>109.1</td>\n",
       "      <td>188.8</td>\n",
       "      <td>68.9</td>\n",
       "      <td>...</td>\n",
       "      <td>141</td>\n",
       "      <td>mpfi</td>\n",
       "      <td>3.78</td>\n",
       "      <td>3.15</td>\n",
       "      <td>9.500000</td>\n",
       "      <td>114.0</td>\n",
       "      <td>5400.0</td>\n",
       "      <td>23</td>\n",
       "      <td>28</td>\n",
       "      <td>16845.0</td>\n",
       "    </tr>\n",
       "    <tr>\n",
       "      <th>2046</th>\n",
       "      <td>volvo</td>\n",
       "      <td>gas</td>\n",
       "      <td>turbo</td>\n",
       "      <td>four</td>\n",
       "      <td>sedan</td>\n",
       "      <td>rwd</td>\n",
       "      <td>front</td>\n",
       "      <td>109.1</td>\n",
       "      <td>188.8</td>\n",
       "      <td>68.8</td>\n",
       "      <td>...</td>\n",
       "      <td>141</td>\n",
       "      <td>mpfi</td>\n",
       "      <td>3.78</td>\n",
       "      <td>3.15</td>\n",
       "      <td>8.700000</td>\n",
       "      <td>160.0</td>\n",
       "      <td>5300.0</td>\n",
       "      <td>19</td>\n",
       "      <td>25</td>\n",
       "      <td>19045.0</td>\n",
       "    </tr>\n",
       "    <tr>\n",
       "      <th>2047</th>\n",
       "      <td>volvo</td>\n",
       "      <td>gas</td>\n",
       "      <td>std</td>\n",
       "      <td>four</td>\n",
       "      <td>sedan</td>\n",
       "      <td>rwd</td>\n",
       "      <td>front</td>\n",
       "      <td>109.1</td>\n",
       "      <td>188.8</td>\n",
       "      <td>68.9</td>\n",
       "      <td>...</td>\n",
       "      <td>173</td>\n",
       "      <td>mpfi</td>\n",
       "      <td>3.58</td>\n",
       "      <td>2.87</td>\n",
       "      <td>8.800000</td>\n",
       "      <td>134.0</td>\n",
       "      <td>5500.0</td>\n",
       "      <td>18</td>\n",
       "      <td>23</td>\n",
       "      <td>21485.0</td>\n",
       "    </tr>\n",
       "    <tr>\n",
       "      <th>2048</th>\n",
       "      <td>volvo</td>\n",
       "      <td>diesel</td>\n",
       "      <td>turbo</td>\n",
       "      <td>four</td>\n",
       "      <td>sedan</td>\n",
       "      <td>rwd</td>\n",
       "      <td>front</td>\n",
       "      <td>109.1</td>\n",
       "      <td>188.8</td>\n",
       "      <td>68.9</td>\n",
       "      <td>...</td>\n",
       "      <td>145</td>\n",
       "      <td>idi</td>\n",
       "      <td>3.01</td>\n",
       "      <td>3.40</td>\n",
       "      <td>23.000000</td>\n",
       "      <td>106.0</td>\n",
       "      <td>4800.0</td>\n",
       "      <td>26</td>\n",
       "      <td>27</td>\n",
       "      <td>22470.0</td>\n",
       "    </tr>\n",
       "    <tr>\n",
       "      <th>2049</th>\n",
       "      <td>volvo</td>\n",
       "      <td>gas</td>\n",
       "      <td>turbo</td>\n",
       "      <td>four</td>\n",
       "      <td>sedan</td>\n",
       "      <td>rwd</td>\n",
       "      <td>front</td>\n",
       "      <td>109.1</td>\n",
       "      <td>188.8</td>\n",
       "      <td>68.9</td>\n",
       "      <td>...</td>\n",
       "      <td>141</td>\n",
       "      <td>mpfi</td>\n",
       "      <td>3.78</td>\n",
       "      <td>3.15</td>\n",
       "      <td>9.500000</td>\n",
       "      <td>114.0</td>\n",
       "      <td>5400.0</td>\n",
       "      <td>19</td>\n",
       "      <td>25</td>\n",
       "      <td>22625.0</td>\n",
       "    </tr>\n",
       "  </tbody>\n",
       "</table>\n",
       "<p>2050 rows × 24 columns</p>\n",
       "</div>"
      ],
      "text/plain": [
       "         car-name fuel-type aspiration num-of-doors   body-style drive-wheels  \\\n",
       "0     alfa-romero       gas        std          two  convertible          rwd   \n",
       "1     alfa-romero       gas        std          two  convertible          rwd   \n",
       "2     alfa-romero       gas        std          two    hatchback          rwd   \n",
       "3            audi       gas        std         four        sedan          fwd   \n",
       "4            audi       gas        std         four        sedan          4wd   \n",
       "...           ...       ...        ...          ...          ...          ...   \n",
       "2045        volvo       gas        std         four        sedan          rwd   \n",
       "2046        volvo       gas      turbo         four        sedan          rwd   \n",
       "2047        volvo       gas        std         four        sedan          rwd   \n",
       "2048        volvo    diesel      turbo         four        sedan          rwd   \n",
       "2049        volvo       gas      turbo         four        sedan          rwd   \n",
       "\n",
       "     engine-location  wheel-base  length  width  ...  engine-size  \\\n",
       "0              front        88.6   168.8   64.1  ...          130   \n",
       "1              front        88.6   168.8   64.1  ...          130   \n",
       "2              front        94.5   171.2   65.5  ...          152   \n",
       "3              front        99.8   176.6   66.2  ...          109   \n",
       "4              front        99.4   176.6   66.4  ...          136   \n",
       "...              ...         ...     ...    ...  ...          ...   \n",
       "2045           front       109.1   188.8   68.9  ...          141   \n",
       "2046           front       109.1   188.8   68.8  ...          141   \n",
       "2047           front       109.1   188.8   68.9  ...          173   \n",
       "2048           front       109.1   188.8   68.9  ...          145   \n",
       "2049           front       109.1   188.8   68.9  ...          141   \n",
       "\n",
       "      fuel-system  bore stroke  compression-ratio horsepower  peak-rpm  \\\n",
       "0            mpfi  3.47   2.68          10.779306      111.0    5000.0   \n",
       "1            mpfi  3.47   2.68          10.779306      111.0    5000.0   \n",
       "2            mpfi  2.68   3.47          10.779306      154.0    5000.0   \n",
       "3            mpfi  3.19   3.40          10.000000      102.0    5500.0   \n",
       "4            mpfi  3.19   3.40          10.779306      115.0    5500.0   \n",
       "...           ...   ...    ...                ...        ...       ...   \n",
       "2045         mpfi  3.78   3.15           9.500000      114.0    5400.0   \n",
       "2046         mpfi  3.78   3.15           8.700000      160.0    5300.0   \n",
       "2047         mpfi  3.58   2.87           8.800000      134.0    5500.0   \n",
       "2048          idi  3.01   3.40          23.000000      106.0    4800.0   \n",
       "2049         mpfi  3.78   3.15           9.500000      114.0    5400.0   \n",
       "\n",
       "      city-mpg  highway-mpg    price  \n",
       "0           21           27  13495.0  \n",
       "1           21           27  16500.0  \n",
       "2           19           26  16500.0  \n",
       "3           24           30  13950.0  \n",
       "4           18           22  17450.0  \n",
       "...        ...          ...      ...  \n",
       "2045        23           28  16845.0  \n",
       "2046        19           25  19045.0  \n",
       "2047        18           23  21485.0  \n",
       "2048        26           27  22470.0  \n",
       "2049        19           25  22625.0  \n",
       "\n",
       "[2050 rows x 24 columns]"
      ]
     },
     "execution_count": 4,
     "metadata": {},
     "output_type": "execute_result"
    }
   ],
   "source": [
    "d1"
   ]
  },
  {
   "cell_type": "code",
   "execution_count": 5,
   "id": "a0fe65df",
   "metadata": {},
   "outputs": [
    {
     "data": {
      "text/html": [
       "<div>\n",
       "<style scoped>\n",
       "    .dataframe tbody tr th:only-of-type {\n",
       "        vertical-align: middle;\n",
       "    }\n",
       "\n",
       "    .dataframe tbody tr th {\n",
       "        vertical-align: top;\n",
       "    }\n",
       "\n",
       "    .dataframe thead th {\n",
       "        text-align: right;\n",
       "    }\n",
       "</style>\n",
       "<table border=\"1\" class=\"dataframe\">\n",
       "  <thead>\n",
       "    <tr style=\"text-align: right;\">\n",
       "      <th></th>\n",
       "      <th>wheel-base</th>\n",
       "      <th>length</th>\n",
       "      <th>width</th>\n",
       "      <th>height</th>\n",
       "      <th>curb-weight</th>\n",
       "      <th>engine-size</th>\n",
       "      <th>bore</th>\n",
       "      <th>stroke</th>\n",
       "      <th>compression-ratio</th>\n",
       "      <th>horsepower</th>\n",
       "      <th>peak-rpm</th>\n",
       "      <th>city-mpg</th>\n",
       "      <th>highway-mpg</th>\n",
       "      <th>price</th>\n",
       "    </tr>\n",
       "  </thead>\n",
       "  <tbody>\n",
       "    <tr>\n",
       "      <th>count</th>\n",
       "      <td>2050.000000</td>\n",
       "      <td>2050.000000</td>\n",
       "      <td>2050.000000</td>\n",
       "      <td>2050.000000</td>\n",
       "      <td>2050.000000</td>\n",
       "      <td>2050.000000</td>\n",
       "      <td>2050.000000</td>\n",
       "      <td>2050.000000</td>\n",
       "      <td>2050.000000</td>\n",
       "      <td>2050.000000</td>\n",
       "      <td>2050.000000</td>\n",
       "      <td>2050.000000</td>\n",
       "      <td>2050.000000</td>\n",
       "      <td>2050.000000</td>\n",
       "    </tr>\n",
       "    <tr>\n",
       "      <th>mean</th>\n",
       "      <td>98.756585</td>\n",
       "      <td>174.049268</td>\n",
       "      <td>65.907805</td>\n",
       "      <td>53.724878</td>\n",
       "      <td>2555.565854</td>\n",
       "      <td>126.907317</td>\n",
       "      <td>3.329751</td>\n",
       "      <td>3.255423</td>\n",
       "      <td>10.779306</td>\n",
       "      <td>103.344188</td>\n",
       "      <td>5125.369458</td>\n",
       "      <td>25.219512</td>\n",
       "      <td>30.751220</td>\n",
       "      <td>13207.129353</td>\n",
       "    </tr>\n",
       "    <tr>\n",
       "      <th>std</th>\n",
       "      <td>6.008536</td>\n",
       "      <td>12.310164</td>\n",
       "      <td>2.140487</td>\n",
       "      <td>2.438150</td>\n",
       "      <td>519.535431</td>\n",
       "      <td>41.551137</td>\n",
       "      <td>0.270248</td>\n",
       "      <td>0.312908</td>\n",
       "      <td>3.822719</td>\n",
       "      <td>40.489081</td>\n",
       "      <td>475.930402</td>\n",
       "      <td>6.527758</td>\n",
       "      <td>6.871303</td>\n",
       "      <td>7851.467858</td>\n",
       "    </tr>\n",
       "    <tr>\n",
       "      <th>min</th>\n",
       "      <td>86.600000</td>\n",
       "      <td>141.100000</td>\n",
       "      <td>60.300000</td>\n",
       "      <td>47.800000</td>\n",
       "      <td>1488.000000</td>\n",
       "      <td>61.000000</td>\n",
       "      <td>2.540000</td>\n",
       "      <td>2.070000</td>\n",
       "      <td>7.500000</td>\n",
       "      <td>10.779306</td>\n",
       "      <td>4150.000000</td>\n",
       "      <td>13.000000</td>\n",
       "      <td>16.000000</td>\n",
       "      <td>5118.000000</td>\n",
       "    </tr>\n",
       "    <tr>\n",
       "      <th>25%</th>\n",
       "      <td>94.500000</td>\n",
       "      <td>166.300000</td>\n",
       "      <td>64.100000</td>\n",
       "      <td>52.000000</td>\n",
       "      <td>2145.000000</td>\n",
       "      <td>97.000000</td>\n",
       "      <td>3.150000</td>\n",
       "      <td>3.110000</td>\n",
       "      <td>8.800000</td>\n",
       "      <td>70.000000</td>\n",
       "      <td>4800.000000</td>\n",
       "      <td>19.000000</td>\n",
       "      <td>25.000000</td>\n",
       "      <td>7788.000000</td>\n",
       "    </tr>\n",
       "    <tr>\n",
       "      <th>50%</th>\n",
       "      <td>97.000000</td>\n",
       "      <td>173.200000</td>\n",
       "      <td>65.500000</td>\n",
       "      <td>54.100000</td>\n",
       "      <td>2414.000000</td>\n",
       "      <td>120.000000</td>\n",
       "      <td>3.310000</td>\n",
       "      <td>3.290000</td>\n",
       "      <td>9.500000</td>\n",
       "      <td>95.000000</td>\n",
       "      <td>5200.000000</td>\n",
       "      <td>24.000000</td>\n",
       "      <td>30.000000</td>\n",
       "      <td>10595.000000</td>\n",
       "    </tr>\n",
       "    <tr>\n",
       "      <th>75%</th>\n",
       "      <td>102.400000</td>\n",
       "      <td>183.100000</td>\n",
       "      <td>66.900000</td>\n",
       "      <td>55.500000</td>\n",
       "      <td>2935.000000</td>\n",
       "      <td>141.000000</td>\n",
       "      <td>3.580000</td>\n",
       "      <td>3.410000</td>\n",
       "      <td>10.779306</td>\n",
       "      <td>116.000000</td>\n",
       "      <td>5500.000000</td>\n",
       "      <td>30.000000</td>\n",
       "      <td>34.000000</td>\n",
       "      <td>16500.000000</td>\n",
       "    </tr>\n",
       "    <tr>\n",
       "      <th>max</th>\n",
       "      <td>120.900000</td>\n",
       "      <td>208.100000</td>\n",
       "      <td>72.300000</td>\n",
       "      <td>59.800000</td>\n",
       "      <td>4066.000000</td>\n",
       "      <td>326.000000</td>\n",
       "      <td>3.940000</td>\n",
       "      <td>4.170000</td>\n",
       "      <td>23.000000</td>\n",
       "      <td>288.000000</td>\n",
       "      <td>6600.000000</td>\n",
       "      <td>49.000000</td>\n",
       "      <td>54.000000</td>\n",
       "      <td>45400.000000</td>\n",
       "    </tr>\n",
       "  </tbody>\n",
       "</table>\n",
       "</div>"
      ],
      "text/plain": [
       "        wheel-base       length        width       height  curb-weight  \\\n",
       "count  2050.000000  2050.000000  2050.000000  2050.000000  2050.000000   \n",
       "mean     98.756585   174.049268    65.907805    53.724878  2555.565854   \n",
       "std       6.008536    12.310164     2.140487     2.438150   519.535431   \n",
       "min      86.600000   141.100000    60.300000    47.800000  1488.000000   \n",
       "25%      94.500000   166.300000    64.100000    52.000000  2145.000000   \n",
       "50%      97.000000   173.200000    65.500000    54.100000  2414.000000   \n",
       "75%     102.400000   183.100000    66.900000    55.500000  2935.000000   \n",
       "max     120.900000   208.100000    72.300000    59.800000  4066.000000   \n",
       "\n",
       "       engine-size         bore       stroke  compression-ratio   horsepower  \\\n",
       "count  2050.000000  2050.000000  2050.000000        2050.000000  2050.000000   \n",
       "mean    126.907317     3.329751     3.255423          10.779306   103.344188   \n",
       "std      41.551137     0.270248     0.312908           3.822719    40.489081   \n",
       "min      61.000000     2.540000     2.070000           7.500000    10.779306   \n",
       "25%      97.000000     3.150000     3.110000           8.800000    70.000000   \n",
       "50%     120.000000     3.310000     3.290000           9.500000    95.000000   \n",
       "75%     141.000000     3.580000     3.410000          10.779306   116.000000   \n",
       "max     326.000000     3.940000     4.170000          23.000000   288.000000   \n",
       "\n",
       "          peak-rpm     city-mpg  highway-mpg         price  \n",
       "count  2050.000000  2050.000000  2050.000000   2050.000000  \n",
       "mean   5125.369458    25.219512    30.751220  13207.129353  \n",
       "std     475.930402     6.527758     6.871303   7851.467858  \n",
       "min    4150.000000    13.000000    16.000000   5118.000000  \n",
       "25%    4800.000000    19.000000    25.000000   7788.000000  \n",
       "50%    5200.000000    24.000000    30.000000  10595.000000  \n",
       "75%    5500.000000    30.000000    34.000000  16500.000000  \n",
       "max    6600.000000    49.000000    54.000000  45400.000000  "
      ]
     },
     "execution_count": 5,
     "metadata": {},
     "output_type": "execute_result"
    }
   ],
   "source": [
    "d1.describe()"
   ]
  },
  {
   "cell_type": "code",
   "execution_count": 6,
   "id": "696dd494",
   "metadata": {},
   "outputs": [
    {
     "name": "stdout",
     "output_type": "stream",
     "text": [
      "<class 'pandas.core.frame.DataFrame'>\n",
      "RangeIndex: 2050 entries, 0 to 2049\n",
      "Data columns (total 24 columns):\n",
      " #   Column             Non-Null Count  Dtype  \n",
      "---  ------             --------------  -----  \n",
      " 0   car-name           2050 non-null   object \n",
      " 1   fuel-type          2050 non-null   object \n",
      " 2   aspiration         2050 non-null   object \n",
      " 3   num-of-doors       2050 non-null   object \n",
      " 4   body-style         2050 non-null   object \n",
      " 5   drive-wheels       2050 non-null   object \n",
      " 6   engine-location    2050 non-null   object \n",
      " 7   wheel-base         2050 non-null   float64\n",
      " 8   length             2050 non-null   float64\n",
      " 9   width              2050 non-null   float64\n",
      " 10  height             2050 non-null   float64\n",
      " 11  curb-weight        2050 non-null   int64  \n",
      " 12  engine-type        2050 non-null   object \n",
      " 13  num-of-cylinders   2050 non-null   object \n",
      " 14  engine-size        2050 non-null   int64  \n",
      " 15  fuel-system        2050 non-null   object \n",
      " 16  bore               2050 non-null   float64\n",
      " 17  stroke             2050 non-null   float64\n",
      " 18  compression-ratio  2050 non-null   float64\n",
      " 19  horsepower         2050 non-null   float64\n",
      " 20  peak-rpm           2050 non-null   float64\n",
      " 21  city-mpg           2050 non-null   int64  \n",
      " 22  highway-mpg        2050 non-null   int64  \n",
      " 23  price              2050 non-null   float64\n",
      "dtypes: float64(10), int64(4), object(10)\n",
      "memory usage: 384.5+ KB\n"
     ]
    }
   ],
   "source": [
    "d1.info()"
   ]
  },
  {
   "cell_type": "code",
   "execution_count": 9,
   "id": "01fd5102",
   "metadata": {},
   "outputs": [],
   "source": [
    "x=d1.drop('price',axis=1)"
   ]
  },
  {
   "cell_type": "code",
   "execution_count": 10,
   "id": "d0602ca9",
   "metadata": {},
   "outputs": [
    {
     "data": {
      "text/html": [
       "<div>\n",
       "<style scoped>\n",
       "    .dataframe tbody tr th:only-of-type {\n",
       "        vertical-align: middle;\n",
       "    }\n",
       "\n",
       "    .dataframe tbody tr th {\n",
       "        vertical-align: top;\n",
       "    }\n",
       "\n",
       "    .dataframe thead th {\n",
       "        text-align: right;\n",
       "    }\n",
       "</style>\n",
       "<table border=\"1\" class=\"dataframe\">\n",
       "  <thead>\n",
       "    <tr style=\"text-align: right;\">\n",
       "      <th></th>\n",
       "      <th>car-name</th>\n",
       "      <th>fuel-type</th>\n",
       "      <th>aspiration</th>\n",
       "      <th>num-of-doors</th>\n",
       "      <th>body-style</th>\n",
       "      <th>drive-wheels</th>\n",
       "      <th>engine-location</th>\n",
       "      <th>wheel-base</th>\n",
       "      <th>length</th>\n",
       "      <th>width</th>\n",
       "      <th>...</th>\n",
       "      <th>num-of-cylinders</th>\n",
       "      <th>engine-size</th>\n",
       "      <th>fuel-system</th>\n",
       "      <th>bore</th>\n",
       "      <th>stroke</th>\n",
       "      <th>compression-ratio</th>\n",
       "      <th>horsepower</th>\n",
       "      <th>peak-rpm</th>\n",
       "      <th>city-mpg</th>\n",
       "      <th>highway-mpg</th>\n",
       "    </tr>\n",
       "  </thead>\n",
       "  <tbody>\n",
       "    <tr>\n",
       "      <th>0</th>\n",
       "      <td>alfa-romero</td>\n",
       "      <td>gas</td>\n",
       "      <td>std</td>\n",
       "      <td>two</td>\n",
       "      <td>convertible</td>\n",
       "      <td>rwd</td>\n",
       "      <td>front</td>\n",
       "      <td>88.6</td>\n",
       "      <td>168.8</td>\n",
       "      <td>64.1</td>\n",
       "      <td>...</td>\n",
       "      <td>four</td>\n",
       "      <td>130</td>\n",
       "      <td>mpfi</td>\n",
       "      <td>3.47</td>\n",
       "      <td>2.68</td>\n",
       "      <td>10.779306</td>\n",
       "      <td>111.0</td>\n",
       "      <td>5000.0</td>\n",
       "      <td>21</td>\n",
       "      <td>27</td>\n",
       "    </tr>\n",
       "    <tr>\n",
       "      <th>1</th>\n",
       "      <td>alfa-romero</td>\n",
       "      <td>gas</td>\n",
       "      <td>std</td>\n",
       "      <td>two</td>\n",
       "      <td>convertible</td>\n",
       "      <td>rwd</td>\n",
       "      <td>front</td>\n",
       "      <td>88.6</td>\n",
       "      <td>168.8</td>\n",
       "      <td>64.1</td>\n",
       "      <td>...</td>\n",
       "      <td>four</td>\n",
       "      <td>130</td>\n",
       "      <td>mpfi</td>\n",
       "      <td>3.47</td>\n",
       "      <td>2.68</td>\n",
       "      <td>10.779306</td>\n",
       "      <td>111.0</td>\n",
       "      <td>5000.0</td>\n",
       "      <td>21</td>\n",
       "      <td>27</td>\n",
       "    </tr>\n",
       "    <tr>\n",
       "      <th>2</th>\n",
       "      <td>alfa-romero</td>\n",
       "      <td>gas</td>\n",
       "      <td>std</td>\n",
       "      <td>two</td>\n",
       "      <td>hatchback</td>\n",
       "      <td>rwd</td>\n",
       "      <td>front</td>\n",
       "      <td>94.5</td>\n",
       "      <td>171.2</td>\n",
       "      <td>65.5</td>\n",
       "      <td>...</td>\n",
       "      <td>six</td>\n",
       "      <td>152</td>\n",
       "      <td>mpfi</td>\n",
       "      <td>2.68</td>\n",
       "      <td>3.47</td>\n",
       "      <td>10.779306</td>\n",
       "      <td>154.0</td>\n",
       "      <td>5000.0</td>\n",
       "      <td>19</td>\n",
       "      <td>26</td>\n",
       "    </tr>\n",
       "    <tr>\n",
       "      <th>3</th>\n",
       "      <td>audi</td>\n",
       "      <td>gas</td>\n",
       "      <td>std</td>\n",
       "      <td>four</td>\n",
       "      <td>sedan</td>\n",
       "      <td>fwd</td>\n",
       "      <td>front</td>\n",
       "      <td>99.8</td>\n",
       "      <td>176.6</td>\n",
       "      <td>66.2</td>\n",
       "      <td>...</td>\n",
       "      <td>four</td>\n",
       "      <td>109</td>\n",
       "      <td>mpfi</td>\n",
       "      <td>3.19</td>\n",
       "      <td>3.40</td>\n",
       "      <td>10.000000</td>\n",
       "      <td>102.0</td>\n",
       "      <td>5500.0</td>\n",
       "      <td>24</td>\n",
       "      <td>30</td>\n",
       "    </tr>\n",
       "    <tr>\n",
       "      <th>4</th>\n",
       "      <td>audi</td>\n",
       "      <td>gas</td>\n",
       "      <td>std</td>\n",
       "      <td>four</td>\n",
       "      <td>sedan</td>\n",
       "      <td>4wd</td>\n",
       "      <td>front</td>\n",
       "      <td>99.4</td>\n",
       "      <td>176.6</td>\n",
       "      <td>66.4</td>\n",
       "      <td>...</td>\n",
       "      <td>five</td>\n",
       "      <td>136</td>\n",
       "      <td>mpfi</td>\n",
       "      <td>3.19</td>\n",
       "      <td>3.40</td>\n",
       "      <td>10.779306</td>\n",
       "      <td>115.0</td>\n",
       "      <td>5500.0</td>\n",
       "      <td>18</td>\n",
       "      <td>22</td>\n",
       "    </tr>\n",
       "    <tr>\n",
       "      <th>...</th>\n",
       "      <td>...</td>\n",
       "      <td>...</td>\n",
       "      <td>...</td>\n",
       "      <td>...</td>\n",
       "      <td>...</td>\n",
       "      <td>...</td>\n",
       "      <td>...</td>\n",
       "      <td>...</td>\n",
       "      <td>...</td>\n",
       "      <td>...</td>\n",
       "      <td>...</td>\n",
       "      <td>...</td>\n",
       "      <td>...</td>\n",
       "      <td>...</td>\n",
       "      <td>...</td>\n",
       "      <td>...</td>\n",
       "      <td>...</td>\n",
       "      <td>...</td>\n",
       "      <td>...</td>\n",
       "      <td>...</td>\n",
       "      <td>...</td>\n",
       "    </tr>\n",
       "    <tr>\n",
       "      <th>2045</th>\n",
       "      <td>volvo</td>\n",
       "      <td>gas</td>\n",
       "      <td>std</td>\n",
       "      <td>four</td>\n",
       "      <td>sedan</td>\n",
       "      <td>rwd</td>\n",
       "      <td>front</td>\n",
       "      <td>109.1</td>\n",
       "      <td>188.8</td>\n",
       "      <td>68.9</td>\n",
       "      <td>...</td>\n",
       "      <td>four</td>\n",
       "      <td>141</td>\n",
       "      <td>mpfi</td>\n",
       "      <td>3.78</td>\n",
       "      <td>3.15</td>\n",
       "      <td>9.500000</td>\n",
       "      <td>114.0</td>\n",
       "      <td>5400.0</td>\n",
       "      <td>23</td>\n",
       "      <td>28</td>\n",
       "    </tr>\n",
       "    <tr>\n",
       "      <th>2046</th>\n",
       "      <td>volvo</td>\n",
       "      <td>gas</td>\n",
       "      <td>turbo</td>\n",
       "      <td>four</td>\n",
       "      <td>sedan</td>\n",
       "      <td>rwd</td>\n",
       "      <td>front</td>\n",
       "      <td>109.1</td>\n",
       "      <td>188.8</td>\n",
       "      <td>68.8</td>\n",
       "      <td>...</td>\n",
       "      <td>four</td>\n",
       "      <td>141</td>\n",
       "      <td>mpfi</td>\n",
       "      <td>3.78</td>\n",
       "      <td>3.15</td>\n",
       "      <td>8.700000</td>\n",
       "      <td>160.0</td>\n",
       "      <td>5300.0</td>\n",
       "      <td>19</td>\n",
       "      <td>25</td>\n",
       "    </tr>\n",
       "    <tr>\n",
       "      <th>2047</th>\n",
       "      <td>volvo</td>\n",
       "      <td>gas</td>\n",
       "      <td>std</td>\n",
       "      <td>four</td>\n",
       "      <td>sedan</td>\n",
       "      <td>rwd</td>\n",
       "      <td>front</td>\n",
       "      <td>109.1</td>\n",
       "      <td>188.8</td>\n",
       "      <td>68.9</td>\n",
       "      <td>...</td>\n",
       "      <td>six</td>\n",
       "      <td>173</td>\n",
       "      <td>mpfi</td>\n",
       "      <td>3.58</td>\n",
       "      <td>2.87</td>\n",
       "      <td>8.800000</td>\n",
       "      <td>134.0</td>\n",
       "      <td>5500.0</td>\n",
       "      <td>18</td>\n",
       "      <td>23</td>\n",
       "    </tr>\n",
       "    <tr>\n",
       "      <th>2048</th>\n",
       "      <td>volvo</td>\n",
       "      <td>diesel</td>\n",
       "      <td>turbo</td>\n",
       "      <td>four</td>\n",
       "      <td>sedan</td>\n",
       "      <td>rwd</td>\n",
       "      <td>front</td>\n",
       "      <td>109.1</td>\n",
       "      <td>188.8</td>\n",
       "      <td>68.9</td>\n",
       "      <td>...</td>\n",
       "      <td>six</td>\n",
       "      <td>145</td>\n",
       "      <td>idi</td>\n",
       "      <td>3.01</td>\n",
       "      <td>3.40</td>\n",
       "      <td>23.000000</td>\n",
       "      <td>106.0</td>\n",
       "      <td>4800.0</td>\n",
       "      <td>26</td>\n",
       "      <td>27</td>\n",
       "    </tr>\n",
       "    <tr>\n",
       "      <th>2049</th>\n",
       "      <td>volvo</td>\n",
       "      <td>gas</td>\n",
       "      <td>turbo</td>\n",
       "      <td>four</td>\n",
       "      <td>sedan</td>\n",
       "      <td>rwd</td>\n",
       "      <td>front</td>\n",
       "      <td>109.1</td>\n",
       "      <td>188.8</td>\n",
       "      <td>68.9</td>\n",
       "      <td>...</td>\n",
       "      <td>four</td>\n",
       "      <td>141</td>\n",
       "      <td>mpfi</td>\n",
       "      <td>3.78</td>\n",
       "      <td>3.15</td>\n",
       "      <td>9.500000</td>\n",
       "      <td>114.0</td>\n",
       "      <td>5400.0</td>\n",
       "      <td>19</td>\n",
       "      <td>25</td>\n",
       "    </tr>\n",
       "  </tbody>\n",
       "</table>\n",
       "<p>2050 rows × 23 columns</p>\n",
       "</div>"
      ],
      "text/plain": [
       "         car-name fuel-type aspiration num-of-doors   body-style drive-wheels  \\\n",
       "0     alfa-romero       gas        std          two  convertible          rwd   \n",
       "1     alfa-romero       gas        std          two  convertible          rwd   \n",
       "2     alfa-romero       gas        std          two    hatchback          rwd   \n",
       "3            audi       gas        std         four        sedan          fwd   \n",
       "4            audi       gas        std         four        sedan          4wd   \n",
       "...           ...       ...        ...          ...          ...          ...   \n",
       "2045        volvo       gas        std         four        sedan          rwd   \n",
       "2046        volvo       gas      turbo         four        sedan          rwd   \n",
       "2047        volvo       gas        std         four        sedan          rwd   \n",
       "2048        volvo    diesel      turbo         four        sedan          rwd   \n",
       "2049        volvo       gas      turbo         four        sedan          rwd   \n",
       "\n",
       "     engine-location  wheel-base  length  width  ...  num-of-cylinders  \\\n",
       "0              front        88.6   168.8   64.1  ...              four   \n",
       "1              front        88.6   168.8   64.1  ...              four   \n",
       "2              front        94.5   171.2   65.5  ...               six   \n",
       "3              front        99.8   176.6   66.2  ...              four   \n",
       "4              front        99.4   176.6   66.4  ...              five   \n",
       "...              ...         ...     ...    ...  ...               ...   \n",
       "2045           front       109.1   188.8   68.9  ...              four   \n",
       "2046           front       109.1   188.8   68.8  ...              four   \n",
       "2047           front       109.1   188.8   68.9  ...               six   \n",
       "2048           front       109.1   188.8   68.9  ...               six   \n",
       "2049           front       109.1   188.8   68.9  ...              four   \n",
       "\n",
       "      engine-size fuel-system  bore  stroke compression-ratio  horsepower  \\\n",
       "0             130        mpfi  3.47    2.68         10.779306       111.0   \n",
       "1             130        mpfi  3.47    2.68         10.779306       111.0   \n",
       "2             152        mpfi  2.68    3.47         10.779306       154.0   \n",
       "3             109        mpfi  3.19    3.40         10.000000       102.0   \n",
       "4             136        mpfi  3.19    3.40         10.779306       115.0   \n",
       "...           ...         ...   ...     ...               ...         ...   \n",
       "2045          141        mpfi  3.78    3.15          9.500000       114.0   \n",
       "2046          141        mpfi  3.78    3.15          8.700000       160.0   \n",
       "2047          173        mpfi  3.58    2.87          8.800000       134.0   \n",
       "2048          145         idi  3.01    3.40         23.000000       106.0   \n",
       "2049          141        mpfi  3.78    3.15          9.500000       114.0   \n",
       "\n",
       "      peak-rpm  city-mpg  highway-mpg  \n",
       "0       5000.0        21           27  \n",
       "1       5000.0        21           27  \n",
       "2       5000.0        19           26  \n",
       "3       5500.0        24           30  \n",
       "4       5500.0        18           22  \n",
       "...        ...       ...          ...  \n",
       "2045    5400.0        23           28  \n",
       "2046    5300.0        19           25  \n",
       "2047    5500.0        18           23  \n",
       "2048    4800.0        26           27  \n",
       "2049    5400.0        19           25  \n",
       "\n",
       "[2050 rows x 23 columns]"
      ]
     },
     "execution_count": 10,
     "metadata": {},
     "output_type": "execute_result"
    }
   ],
   "source": [
    "x"
   ]
  },
  {
   "cell_type": "code",
   "execution_count": 11,
   "id": "2ae4ba85",
   "metadata": {},
   "outputs": [],
   "source": [
    "y=d1['price']"
   ]
  },
  {
   "cell_type": "code",
   "execution_count": 12,
   "id": "65e94a40",
   "metadata": {},
   "outputs": [
    {
     "data": {
      "text/plain": [
       "0       13495.0\n",
       "1       16500.0\n",
       "2       16500.0\n",
       "3       13950.0\n",
       "4       17450.0\n",
       "         ...   \n",
       "2045    16845.0\n",
       "2046    19045.0\n",
       "2047    21485.0\n",
       "2048    22470.0\n",
       "2049    22625.0\n",
       "Name: price, Length: 2050, dtype: float64"
      ]
     },
     "execution_count": 12,
     "metadata": {},
     "output_type": "execute_result"
    }
   ],
   "source": [
    "y"
   ]
  },
  {
   "cell_type": "code",
   "execution_count": 24,
   "id": "c29f7e75",
   "metadata": {},
   "outputs": [
    {
     "data": {
      "text/plain": [
       "array(['alfa-romero', 'audi', 'bmw', 'chevrolet', 'dodge', 'honda',\n",
       "       'isuzu', 'jaguar', 'mazda', 'mercedes-benz', 'mercury',\n",
       "       'mitsubishi', 'nissan', 'peugot', 'plymouth', 'porsche', 'renault',\n",
       "       'saab', 'subaru', 'toyota', 'volkswagen', 'volvo'], dtype=object)"
      ]
     },
     "execution_count": 24,
     "metadata": {},
     "output_type": "execute_result"
    }
   ],
   "source": [
    "d1['car-name'].unique()"
   ]
  },
  {
   "cell_type": "code",
   "execution_count": 26,
   "id": "ab9f881f",
   "metadata": {},
   "outputs": [
    {
     "data": {
      "text/plain": [
       "toyota           320\n",
       "nissan           180\n",
       "mazda            170\n",
       "mitsubishi       130\n",
       "honda            130\n",
       "volkswagen       120\n",
       "subaru           120\n",
       "peugot           110\n",
       "volvo            110\n",
       "dodge             90\n",
       "mercedes-benz     80\n",
       "bmw               80\n",
       "audi              70\n",
       "plymouth          70\n",
       "saab              60\n",
       "porsche           50\n",
       "isuzu             40\n",
       "jaguar            30\n",
       "alfa-romero       30\n",
       "chevrolet         30\n",
       "renault           20\n",
       "mercury           10\n",
       "Name: car-name, dtype: int64"
      ]
     },
     "execution_count": 26,
     "metadata": {},
     "output_type": "execute_result"
    }
   ],
   "source": [
    "d1['car-name'].value_counts()"
   ]
  },
  {
   "cell_type": "code",
   "execution_count": 27,
   "id": "c65384c5",
   "metadata": {},
   "outputs": [
    {
     "data": {
      "text/plain": [
       "gas       1850\n",
       "diesel     200\n",
       "Name: fuel-type, dtype: int64"
      ]
     },
     "execution_count": 27,
     "metadata": {},
     "output_type": "execute_result"
    }
   ],
   "source": [
    "d1['fuel-type'].value_counts()"
   ]
  },
  {
   "cell_type": "code",
   "execution_count": 28,
   "id": "291ae84c",
   "metadata": {},
   "outputs": [
    {
     "data": {
      "text/plain": [
       "array(['std', 'turbo'], dtype=object)"
      ]
     },
     "execution_count": 28,
     "metadata": {},
     "output_type": "execute_result"
    }
   ],
   "source": [
    "d1['aspiration'].unique()"
   ]
  },
  {
   "cell_type": "code",
   "execution_count": 29,
   "id": "dce44856",
   "metadata": {},
   "outputs": [
    {
     "data": {
      "text/plain": [
       "array(['two', 'four'], dtype=object)"
      ]
     },
     "execution_count": 29,
     "metadata": {},
     "output_type": "execute_result"
    }
   ],
   "source": [
    "d1['num-of-doors'].unique()"
   ]
  },
  {
   "cell_type": "code",
   "execution_count": 30,
   "id": "caa7862a",
   "metadata": {},
   "outputs": [
    {
     "data": {
      "text/plain": [
       "array(['convertible', 'hatchback', 'sedan', 'wagon', 'hardtop'],\n",
       "      dtype=object)"
      ]
     },
     "execution_count": 30,
     "metadata": {},
     "output_type": "execute_result"
    }
   ],
   "source": [
    "d1['body-style'].unique()"
   ]
  },
  {
   "cell_type": "code",
   "execution_count": 31,
   "id": "47f2de51",
   "metadata": {},
   "outputs": [
    {
     "data": {
      "text/plain": [
       "array(['rwd', 'fwd', '4wd'], dtype=object)"
      ]
     },
     "execution_count": 31,
     "metadata": {},
     "output_type": "execute_result"
    }
   ],
   "source": [
    "d1['drive-wheels'].unique()"
   ]
  },
  {
   "cell_type": "code",
   "execution_count": 32,
   "id": "c22e1c96",
   "metadata": {},
   "outputs": [
    {
     "data": {
      "text/plain": [
       "array(['front', 'rear'], dtype=object)"
      ]
     },
     "execution_count": 32,
     "metadata": {},
     "output_type": "execute_result"
    }
   ],
   "source": [
    "d1['engine-location'].unique()"
   ]
  },
  {
   "cell_type": "code",
   "execution_count": 33,
   "id": "67f203fe",
   "metadata": {},
   "outputs": [
    {
     "data": {
      "text/plain": [
       "array(['mpfi', '2bbl', 'mfi', '1bbl', 'spfi', '4bbl', 'idi', 'spdi'],\n",
       "      dtype=object)"
      ]
     },
     "execution_count": 33,
     "metadata": {},
     "output_type": "execute_result"
    }
   ],
   "source": [
    "d1['fuel-system'].unique()"
   ]
  },
  {
   "cell_type": "code",
   "execution_count": 67,
   "id": "2dbfafb8",
   "metadata": {},
   "outputs": [
    {
     "data": {
      "text/plain": [
       "array(['dohc', 'ohcv', 'ohc', 'rotor', 'ohcf', 'dohcv'], dtype=object)"
      ]
     },
     "execution_count": 67,
     "metadata": {},
     "output_type": "execute_result"
    }
   ],
   "source": [
    "d1['engine-type'].unique()"
   ]
  },
  {
   "cell_type": "code",
   "execution_count": 69,
   "id": "8038f229",
   "metadata": {},
   "outputs": [
    {
     "data": {
      "text/plain": [
       "array(['four', 'six', 'five', 'three', 'twelve', 'two', 'eight'],\n",
       "      dtype=object)"
      ]
     },
     "execution_count": 69,
     "metadata": {},
     "output_type": "execute_result"
    }
   ],
   "source": [
    "d1['num-of-cylinders'].unique()"
   ]
  },
  {
   "cell_type": "code",
   "execution_count": 34,
   "id": "bf79182a",
   "metadata": {},
   "outputs": [],
   "source": [
    "# So here as all columns consist of categorical data we will be encoding them \n",
    "# using the label Encoder technic\n",
    "# the Label Encoder Technique will assign a number starting from Zero \n",
    "# to the unique values in the data"
   ]
  },
  {
   "cell_type": "code",
   "execution_count": 35,
   "id": "c5e3b698",
   "metadata": {},
   "outputs": [],
   "source": [
    "from sklearn.preprocessing import LabelEncoder"
   ]
  },
  {
   "cell_type": "code",
   "execution_count": 36,
   "id": "4efaa2a7",
   "metadata": {},
   "outputs": [],
   "source": [
    "le=LabelEncoder()"
   ]
  },
  {
   "cell_type": "code",
   "execution_count": 70,
   "id": "4ffa9732",
   "metadata": {},
   "outputs": [],
   "source": [
    "x[['car-name','fuel-type','aspiration','num-of-doors','body-style','drive-wheels','engine-location','engine-type','num-of-cylinders','fuel-system']]=x[['car-name','fuel-type','aspiration','num-of-doors','body-style','drive-wheels','engine-location','engine-type','num-of-cylinders','fuel-system']].apply(le.fit_transform)"
   ]
  },
  {
   "cell_type": "code",
   "execution_count": 71,
   "id": "bbcfbedd",
   "metadata": {},
   "outputs": [
    {
     "data": {
      "text/html": [
       "<div>\n",
       "<style scoped>\n",
       "    .dataframe tbody tr th:only-of-type {\n",
       "        vertical-align: middle;\n",
       "    }\n",
       "\n",
       "    .dataframe tbody tr th {\n",
       "        vertical-align: top;\n",
       "    }\n",
       "\n",
       "    .dataframe thead th {\n",
       "        text-align: right;\n",
       "    }\n",
       "</style>\n",
       "<table border=\"1\" class=\"dataframe\">\n",
       "  <thead>\n",
       "    <tr style=\"text-align: right;\">\n",
       "      <th></th>\n",
       "      <th>car-name</th>\n",
       "      <th>fuel-type</th>\n",
       "      <th>aspiration</th>\n",
       "      <th>num-of-doors</th>\n",
       "      <th>body-style</th>\n",
       "      <th>drive-wheels</th>\n",
       "      <th>engine-location</th>\n",
       "      <th>wheel-base</th>\n",
       "      <th>length</th>\n",
       "      <th>width</th>\n",
       "      <th>...</th>\n",
       "      <th>num-of-cylinders</th>\n",
       "      <th>engine-size</th>\n",
       "      <th>fuel-system</th>\n",
       "      <th>bore</th>\n",
       "      <th>stroke</th>\n",
       "      <th>compression-ratio</th>\n",
       "      <th>horsepower</th>\n",
       "      <th>peak-rpm</th>\n",
       "      <th>city-mpg</th>\n",
       "      <th>highway-mpg</th>\n",
       "    </tr>\n",
       "  </thead>\n",
       "  <tbody>\n",
       "    <tr>\n",
       "      <th>0</th>\n",
       "      <td>0</td>\n",
       "      <td>1</td>\n",
       "      <td>0</td>\n",
       "      <td>1</td>\n",
       "      <td>0</td>\n",
       "      <td>2</td>\n",
       "      <td>0</td>\n",
       "      <td>88.6</td>\n",
       "      <td>168.8</td>\n",
       "      <td>64.1</td>\n",
       "      <td>...</td>\n",
       "      <td>2</td>\n",
       "      <td>130</td>\n",
       "      <td>5</td>\n",
       "      <td>3.47</td>\n",
       "      <td>2.68</td>\n",
       "      <td>10.779306</td>\n",
       "      <td>111.0</td>\n",
       "      <td>5000.0</td>\n",
       "      <td>21</td>\n",
       "      <td>27</td>\n",
       "    </tr>\n",
       "    <tr>\n",
       "      <th>1</th>\n",
       "      <td>0</td>\n",
       "      <td>1</td>\n",
       "      <td>0</td>\n",
       "      <td>1</td>\n",
       "      <td>0</td>\n",
       "      <td>2</td>\n",
       "      <td>0</td>\n",
       "      <td>88.6</td>\n",
       "      <td>168.8</td>\n",
       "      <td>64.1</td>\n",
       "      <td>...</td>\n",
       "      <td>2</td>\n",
       "      <td>130</td>\n",
       "      <td>5</td>\n",
       "      <td>3.47</td>\n",
       "      <td>2.68</td>\n",
       "      <td>10.779306</td>\n",
       "      <td>111.0</td>\n",
       "      <td>5000.0</td>\n",
       "      <td>21</td>\n",
       "      <td>27</td>\n",
       "    </tr>\n",
       "    <tr>\n",
       "      <th>2</th>\n",
       "      <td>0</td>\n",
       "      <td>1</td>\n",
       "      <td>0</td>\n",
       "      <td>1</td>\n",
       "      <td>2</td>\n",
       "      <td>2</td>\n",
       "      <td>0</td>\n",
       "      <td>94.5</td>\n",
       "      <td>171.2</td>\n",
       "      <td>65.5</td>\n",
       "      <td>...</td>\n",
       "      <td>3</td>\n",
       "      <td>152</td>\n",
       "      <td>5</td>\n",
       "      <td>2.68</td>\n",
       "      <td>3.47</td>\n",
       "      <td>10.779306</td>\n",
       "      <td>154.0</td>\n",
       "      <td>5000.0</td>\n",
       "      <td>19</td>\n",
       "      <td>26</td>\n",
       "    </tr>\n",
       "    <tr>\n",
       "      <th>3</th>\n",
       "      <td>1</td>\n",
       "      <td>1</td>\n",
       "      <td>0</td>\n",
       "      <td>0</td>\n",
       "      <td>3</td>\n",
       "      <td>1</td>\n",
       "      <td>0</td>\n",
       "      <td>99.8</td>\n",
       "      <td>176.6</td>\n",
       "      <td>66.2</td>\n",
       "      <td>...</td>\n",
       "      <td>2</td>\n",
       "      <td>109</td>\n",
       "      <td>5</td>\n",
       "      <td>3.19</td>\n",
       "      <td>3.40</td>\n",
       "      <td>10.000000</td>\n",
       "      <td>102.0</td>\n",
       "      <td>5500.0</td>\n",
       "      <td>24</td>\n",
       "      <td>30</td>\n",
       "    </tr>\n",
       "    <tr>\n",
       "      <th>4</th>\n",
       "      <td>1</td>\n",
       "      <td>1</td>\n",
       "      <td>0</td>\n",
       "      <td>0</td>\n",
       "      <td>3</td>\n",
       "      <td>0</td>\n",
       "      <td>0</td>\n",
       "      <td>99.4</td>\n",
       "      <td>176.6</td>\n",
       "      <td>66.4</td>\n",
       "      <td>...</td>\n",
       "      <td>1</td>\n",
       "      <td>136</td>\n",
       "      <td>5</td>\n",
       "      <td>3.19</td>\n",
       "      <td>3.40</td>\n",
       "      <td>10.779306</td>\n",
       "      <td>115.0</td>\n",
       "      <td>5500.0</td>\n",
       "      <td>18</td>\n",
       "      <td>22</td>\n",
       "    </tr>\n",
       "    <tr>\n",
       "      <th>...</th>\n",
       "      <td>...</td>\n",
       "      <td>...</td>\n",
       "      <td>...</td>\n",
       "      <td>...</td>\n",
       "      <td>...</td>\n",
       "      <td>...</td>\n",
       "      <td>...</td>\n",
       "      <td>...</td>\n",
       "      <td>...</td>\n",
       "      <td>...</td>\n",
       "      <td>...</td>\n",
       "      <td>...</td>\n",
       "      <td>...</td>\n",
       "      <td>...</td>\n",
       "      <td>...</td>\n",
       "      <td>...</td>\n",
       "      <td>...</td>\n",
       "      <td>...</td>\n",
       "      <td>...</td>\n",
       "      <td>...</td>\n",
       "      <td>...</td>\n",
       "    </tr>\n",
       "    <tr>\n",
       "      <th>2045</th>\n",
       "      <td>21</td>\n",
       "      <td>1</td>\n",
       "      <td>0</td>\n",
       "      <td>0</td>\n",
       "      <td>3</td>\n",
       "      <td>2</td>\n",
       "      <td>0</td>\n",
       "      <td>109.1</td>\n",
       "      <td>188.8</td>\n",
       "      <td>68.9</td>\n",
       "      <td>...</td>\n",
       "      <td>2</td>\n",
       "      <td>141</td>\n",
       "      <td>5</td>\n",
       "      <td>3.78</td>\n",
       "      <td>3.15</td>\n",
       "      <td>9.500000</td>\n",
       "      <td>114.0</td>\n",
       "      <td>5400.0</td>\n",
       "      <td>23</td>\n",
       "      <td>28</td>\n",
       "    </tr>\n",
       "    <tr>\n",
       "      <th>2046</th>\n",
       "      <td>21</td>\n",
       "      <td>1</td>\n",
       "      <td>1</td>\n",
       "      <td>0</td>\n",
       "      <td>3</td>\n",
       "      <td>2</td>\n",
       "      <td>0</td>\n",
       "      <td>109.1</td>\n",
       "      <td>188.8</td>\n",
       "      <td>68.8</td>\n",
       "      <td>...</td>\n",
       "      <td>2</td>\n",
       "      <td>141</td>\n",
       "      <td>5</td>\n",
       "      <td>3.78</td>\n",
       "      <td>3.15</td>\n",
       "      <td>8.700000</td>\n",
       "      <td>160.0</td>\n",
       "      <td>5300.0</td>\n",
       "      <td>19</td>\n",
       "      <td>25</td>\n",
       "    </tr>\n",
       "    <tr>\n",
       "      <th>2047</th>\n",
       "      <td>21</td>\n",
       "      <td>1</td>\n",
       "      <td>0</td>\n",
       "      <td>0</td>\n",
       "      <td>3</td>\n",
       "      <td>2</td>\n",
       "      <td>0</td>\n",
       "      <td>109.1</td>\n",
       "      <td>188.8</td>\n",
       "      <td>68.9</td>\n",
       "      <td>...</td>\n",
       "      <td>3</td>\n",
       "      <td>173</td>\n",
       "      <td>5</td>\n",
       "      <td>3.58</td>\n",
       "      <td>2.87</td>\n",
       "      <td>8.800000</td>\n",
       "      <td>134.0</td>\n",
       "      <td>5500.0</td>\n",
       "      <td>18</td>\n",
       "      <td>23</td>\n",
       "    </tr>\n",
       "    <tr>\n",
       "      <th>2048</th>\n",
       "      <td>21</td>\n",
       "      <td>0</td>\n",
       "      <td>1</td>\n",
       "      <td>0</td>\n",
       "      <td>3</td>\n",
       "      <td>2</td>\n",
       "      <td>0</td>\n",
       "      <td>109.1</td>\n",
       "      <td>188.8</td>\n",
       "      <td>68.9</td>\n",
       "      <td>...</td>\n",
       "      <td>3</td>\n",
       "      <td>145</td>\n",
       "      <td>3</td>\n",
       "      <td>3.01</td>\n",
       "      <td>3.40</td>\n",
       "      <td>23.000000</td>\n",
       "      <td>106.0</td>\n",
       "      <td>4800.0</td>\n",
       "      <td>26</td>\n",
       "      <td>27</td>\n",
       "    </tr>\n",
       "    <tr>\n",
       "      <th>2049</th>\n",
       "      <td>21</td>\n",
       "      <td>1</td>\n",
       "      <td>1</td>\n",
       "      <td>0</td>\n",
       "      <td>3</td>\n",
       "      <td>2</td>\n",
       "      <td>0</td>\n",
       "      <td>109.1</td>\n",
       "      <td>188.8</td>\n",
       "      <td>68.9</td>\n",
       "      <td>...</td>\n",
       "      <td>2</td>\n",
       "      <td>141</td>\n",
       "      <td>5</td>\n",
       "      <td>3.78</td>\n",
       "      <td>3.15</td>\n",
       "      <td>9.500000</td>\n",
       "      <td>114.0</td>\n",
       "      <td>5400.0</td>\n",
       "      <td>19</td>\n",
       "      <td>25</td>\n",
       "    </tr>\n",
       "  </tbody>\n",
       "</table>\n",
       "<p>2050 rows × 23 columns</p>\n",
       "</div>"
      ],
      "text/plain": [
       "      car-name  fuel-type  aspiration  num-of-doors  body-style  drive-wheels  \\\n",
       "0            0          1           0             1           0             2   \n",
       "1            0          1           0             1           0             2   \n",
       "2            0          1           0             1           2             2   \n",
       "3            1          1           0             0           3             1   \n",
       "4            1          1           0             0           3             0   \n",
       "...        ...        ...         ...           ...         ...           ...   \n",
       "2045        21          1           0             0           3             2   \n",
       "2046        21          1           1             0           3             2   \n",
       "2047        21          1           0             0           3             2   \n",
       "2048        21          0           1             0           3             2   \n",
       "2049        21          1           1             0           3             2   \n",
       "\n",
       "      engine-location  wheel-base  length  width  ...  num-of-cylinders  \\\n",
       "0                   0        88.6   168.8   64.1  ...                 2   \n",
       "1                   0        88.6   168.8   64.1  ...                 2   \n",
       "2                   0        94.5   171.2   65.5  ...                 3   \n",
       "3                   0        99.8   176.6   66.2  ...                 2   \n",
       "4                   0        99.4   176.6   66.4  ...                 1   \n",
       "...               ...         ...     ...    ...  ...               ...   \n",
       "2045                0       109.1   188.8   68.9  ...                 2   \n",
       "2046                0       109.1   188.8   68.8  ...                 2   \n",
       "2047                0       109.1   188.8   68.9  ...                 3   \n",
       "2048                0       109.1   188.8   68.9  ...                 3   \n",
       "2049                0       109.1   188.8   68.9  ...                 2   \n",
       "\n",
       "      engine-size  fuel-system  bore  stroke  compression-ratio  horsepower  \\\n",
       "0             130            5  3.47    2.68          10.779306       111.0   \n",
       "1             130            5  3.47    2.68          10.779306       111.0   \n",
       "2             152            5  2.68    3.47          10.779306       154.0   \n",
       "3             109            5  3.19    3.40          10.000000       102.0   \n",
       "4             136            5  3.19    3.40          10.779306       115.0   \n",
       "...           ...          ...   ...     ...                ...         ...   \n",
       "2045          141            5  3.78    3.15           9.500000       114.0   \n",
       "2046          141            5  3.78    3.15           8.700000       160.0   \n",
       "2047          173            5  3.58    2.87           8.800000       134.0   \n",
       "2048          145            3  3.01    3.40          23.000000       106.0   \n",
       "2049          141            5  3.78    3.15           9.500000       114.0   \n",
       "\n",
       "      peak-rpm  city-mpg  highway-mpg  \n",
       "0       5000.0        21           27  \n",
       "1       5000.0        21           27  \n",
       "2       5000.0        19           26  \n",
       "3       5500.0        24           30  \n",
       "4       5500.0        18           22  \n",
       "...        ...       ...          ...  \n",
       "2045    5400.0        23           28  \n",
       "2046    5300.0        19           25  \n",
       "2047    5500.0        18           23  \n",
       "2048    4800.0        26           27  \n",
       "2049    5400.0        19           25  \n",
       "\n",
       "[2050 rows x 23 columns]"
      ]
     },
     "execution_count": 71,
     "metadata": {},
     "output_type": "execute_result"
    }
   ],
   "source": [
    "x"
   ]
  },
  {
   "cell_type": "code",
   "execution_count": 72,
   "id": "4929c91b",
   "metadata": {},
   "outputs": [],
   "source": [
    "# so now all the columns are in numeric from\n",
    "# if we want to get know what numbers it has has assigned to which to which values \n",
    "old_values=le.classes_"
   ]
  },
  {
   "cell_type": "code",
   "execution_count": 73,
   "id": "5893fec3",
   "metadata": {},
   "outputs": [
    {
     "data": {
      "text/plain": [
       "array([0, 1, 2, 3, 4, 5, 6, 7], dtype=int64)"
      ]
     },
     "execution_count": 73,
     "metadata": {},
     "output_type": "execute_result"
    }
   ],
   "source": [
    "old_values"
   ]
  },
  {
   "cell_type": "code",
   "execution_count": 74,
   "id": "c04bbfe6",
   "metadata": {},
   "outputs": [
    {
     "data": {
      "text/plain": [
       "array([0, 1, 2, 3, 4, 5, 6, 7], dtype=int64)"
      ]
     },
     "execution_count": 74,
     "metadata": {},
     "output_type": "execute_result"
    }
   ],
   "source": [
    "le.classes_"
   ]
  },
  {
   "cell_type": "code",
   "execution_count": 75,
   "id": "fe3404e7",
   "metadata": {},
   "outputs": [],
   "source": [
    "y=le.fit_transform(y)"
   ]
  },
  {
   "cell_type": "code",
   "execution_count": 76,
   "id": "f95c9e7f",
   "metadata": {},
   "outputs": [
    {
     "data": {
      "text/plain": [
       "array([118, 137, 137, ..., 164, 166, 167], dtype=int64)"
      ]
     },
     "execution_count": 76,
     "metadata": {},
     "output_type": "execute_result"
    }
   ],
   "source": [
    "y"
   ]
  },
  {
   "cell_type": "code",
   "execution_count": 77,
   "id": "921c5c83",
   "metadata": {},
   "outputs": [],
   "source": [
    "from sklearn.model_selection import train_test_split"
   ]
  },
  {
   "cell_type": "code",
   "execution_count": 78,
   "id": "5aab8f4b",
   "metadata": {},
   "outputs": [],
   "source": [
    "x_train,x_test,y_train,y_test=train_test_split(x,y,test_size=0.20,random_state=0)"
   ]
  },
  {
   "cell_type": "code",
   "execution_count": 79,
   "id": "14711d62",
   "metadata": {},
   "outputs": [
    {
     "data": {
      "text/plain": [
       "(1640, 23)"
      ]
     },
     "execution_count": 79,
     "metadata": {},
     "output_type": "execute_result"
    }
   ],
   "source": [
    "x_train.shape"
   ]
  },
  {
   "cell_type": "code",
   "execution_count": 80,
   "id": "918455e1",
   "metadata": {},
   "outputs": [
    {
     "data": {
      "text/plain": [
       "(410, 23)"
      ]
     },
     "execution_count": 80,
     "metadata": {},
     "output_type": "execute_result"
    }
   ],
   "source": [
    "x_test.shape"
   ]
  },
  {
   "cell_type": "code",
   "execution_count": 81,
   "id": "ec32e63f",
   "metadata": {},
   "outputs": [
    {
     "data": {
      "text/plain": [
       "(1640,)"
      ]
     },
     "execution_count": 81,
     "metadata": {},
     "output_type": "execute_result"
    }
   ],
   "source": [
    "y_train.shape"
   ]
  },
  {
   "cell_type": "code",
   "execution_count": 82,
   "id": "00205314",
   "metadata": {},
   "outputs": [
    {
     "data": {
      "text/plain": [
       "(410,)"
      ]
     },
     "execution_count": 82,
     "metadata": {},
     "output_type": "execute_result"
    }
   ],
   "source": [
    "y_test.shape"
   ]
  },
  {
   "cell_type": "code",
   "execution_count": 83,
   "id": "fa4a922f",
   "metadata": {},
   "outputs": [],
   "source": [
    "from sklearn.neighbors import KNeighborsRegressor"
   ]
  },
  {
   "cell_type": "code",
   "execution_count": 84,
   "id": "212207f2",
   "metadata": {},
   "outputs": [],
   "source": [
    "knr=KNeighborsRegressor()"
   ]
  },
  {
   "cell_type": "code",
   "execution_count": 85,
   "id": "be337e58",
   "metadata": {},
   "outputs": [
    {
     "data": {
      "text/plain": [
       "KNeighborsRegressor()"
      ]
     },
     "execution_count": 85,
     "metadata": {},
     "output_type": "execute_result"
    }
   ],
   "source": [
    "knr.fit(x_train,y_train)"
   ]
  },
  {
   "cell_type": "code",
   "execution_count": 86,
   "id": "86ea4702",
   "metadata": {},
   "outputs": [],
   "source": [
    "y_pred=knr.predict(x_test)"
   ]
  },
  {
   "cell_type": "code",
   "execution_count": 87,
   "id": "94e93579",
   "metadata": {},
   "outputs": [
    {
     "data": {
      "text/plain": [
       "array([ 76.6, 106. , 177. , 133.2, 147. , 130. ,  99.4,  73. ,  52. ,\n",
       "       102. ,  34. ,  64. ,  82. ,  86. ,  12. , 184. ,  71. ,  71. ,\n",
       "       152. , 145.4, 116. ,  16. ,  16. , 134. , 153. , 169. , 178. ,\n",
       "        39. ,  31.8,   1. ,  34. , 183. , 172. ,  49. , 114. ,   2. ,\n",
       "        45. , 145.4,  99. ,  41. , 178. ,  48. , 113. ,  78. ,   1. ,\n",
       "        34. , 183. ,  47. ,   7. ,  84. ,  58. ,   7. ,  42. ,   4. ,\n",
       "        40. ,  30. , 157. ,  73. , 110. , 170. , 157. ,  14. ,  55. ,\n",
       "       177. ,  18. ,  61. ,  99.4,  91. , 178. ,  99.4, 161. , 168. ,\n",
       "        26. , 182. , 115. ,   4. , 173. , 186. ,  79. ,  28. , 139. ,\n",
       "        53. ,  77. ,  27. , 109. , 185. ,  63. ,  95. , 145.4,  22. ,\n",
       "       139. , 181. ,  89. ,  22. ,  27. ,  66. , 150. ,  40. , 157. ,\n",
       "       148. , 126. ,  36.8,  19. , 182. , 100. ,  64. , 119. ,  72. ,\n",
       "       133.2, 116. , 143. , 127. ,  74. ,  13. , 160. , 121. , 177. ,\n",
       "       153. , 143. , 129. , 115. ,  59. ,  37. , 166. ,  52. , 177. ,\n",
       "         8. ,  39. , 105. ,  10. , 142. ,   6. , 160. , 163. , 120. ,\n",
       "       111. ,  36. , 181. ,  80. , 122. , 119. ,  70. ,  12. , 110. ,\n",
       "       115. , 172. ,  92. , 145.4, 110. ,  83. ,  21. ,  53. ,  33. ,\n",
       "       121. ,  16. ,  80. ,  96. ,  37. ,  17. , 148. , 115. , 165. ,\n",
       "       143. , 133.2, 125. , 115. ,  74. , 138. ,   9. , 130. , 146. ,\n",
       "       150. , 177. , 136. , 131. , 161. , 140. , 185. ,  85. , 132. ,\n",
       "        56. ,  80. ,  25. ,  65. , 153. ,  39. ,  44. , 183. , 117. ,\n",
       "       166. ,  58. , 145. , 169. ,   5. ,  44. ,  28. , 120. , 171. ,\n",
       "        58. ,   7. ,  49. ,  28. ,  83. ,  31.8, 139. ,  41. ,   1. ,\n",
       "       101. ,  14. ,  83. , 134. ,  26. ,  89. ,  97. ,  64. , 184. ,\n",
       "       119. , 136. ,  80. ,  18. ,  93. ,  49. ,  62. ,  41. ,  36. ,\n",
       "       149. ,  80. , 161. ,  72. ,  84. ,  29. , 142. ,  14. ,  75. ,\n",
       "        81. , 110. , 181. , 116. ,  36.8, 184. ,  31.8, 156. , 121. ,\n",
       "       173. , 124. ,  99. , 171. ,  60. ,  81. , 115. ,  13. , 122. ,\n",
       "       155. ,  72. ,  70. ,  99.4,  49. ,  56. , 121. ,  31.8,  99.4,\n",
       "       132. , 100. , 105. ,  61. , 102. ,  43. , 107. , 154. , 133. ,\n",
       "       122. , 130. , 119. , 145.4, 128. , 166. ,  26. ,  34. ,  32. ,\n",
       "       161. , 177. , 156. , 165. ,  20. ,  40. , 119. , 177. , 133.2,\n",
       "        66. ,  78. ,  52. ,  10. , 149. , 152. ,  80. ,  98. ,  32. ,\n",
       "        99. ,  13. , 114. , 169. ,  91. ,   1. , 178. , 145. , 177. ,\n",
       "        82. , 164. ,  82. , 143. , 133. , 107. ,  36.8,  71. ,  84. ,\n",
       "       152. ,  53. ,  45. ,   1. ,  62. ,  29. ,   9. , 132. ,  50. ,\n",
       "        59. ,  15. ,  34. , 152. , 123. , 124. ,  57. ,  99.4,  31. ,\n",
       "        21. , 120. , 164. ,  76. , 155. ,  51. ,  18. ,  69. , 170. ,\n",
       "        10. ,  99.4, 119. ,   6. , 156. ,   8. ,  62. ,  34. , 135. ,\n",
       "       162. ,  91. , 152. , 114. , 104. ,  65. ,  59. , 177. ,  99. ,\n",
       "       154. ,   0. , 124. , 173. , 133.2,  89. , 121. ,  68. , 177. ,\n",
       "        69. ,  76.6, 128. , 131. , 136. ,   0. , 106. ,  20. ,  80. ,\n",
       "        49. ,  24. , 112. , 119. , 127. ,  24. , 177. , 179. , 184. ,\n",
       "        36.8, 106. ,  80. ,  70. ,   9. , 116. , 179. , 158. , 178. ,\n",
       "       131. , 170. ,  31.8, 107. , 106. ,  37. ,  72. ,  45. ,  31.8,\n",
       "        93. ,  63. ,  86. , 179. ,  66. ])"
      ]
     },
     "execution_count": 87,
     "metadata": {},
     "output_type": "execute_result"
    }
   ],
   "source": [
    "y_pred"
   ]
  },
  {
   "cell_type": "code",
   "execution_count": 88,
   "id": "1281673c",
   "metadata": {},
   "outputs": [
    {
     "data": {
      "text/plain": [
       "array([ 87, 106, 176, 137, 147, 130,  94,  73,  52, 102,  34,  64,  82,\n",
       "        86,  12, 184,  71,  71, 152, 144, 116,  16,  16, 134, 153, 169,\n",
       "       178,  39,  11,   1,  34, 183, 172,  49, 114,   2,  45, 144,  99,\n",
       "        41, 178,  48, 113,  78,   1,  34, 183,  47,   7,  84,  58,   7,\n",
       "        42,   4,  40,  30, 157,  73, 110, 170, 157,  14,  55, 177,  18,\n",
       "        61,  94,  91, 178,  94, 161, 168,  26, 182, 115,   4, 173, 186,\n",
       "        79,  28, 139,  53,  77,  27, 109, 185,  63,  95, 151,  22, 139,\n",
       "       181,  89,  22,  27,  66, 150,  40, 157, 148, 126,  20,  19, 182,\n",
       "       100,  64, 119,  72, 137, 116, 143, 127,  74,  13, 160, 121, 175,\n",
       "       153, 143, 129, 115,  59,  37, 166,  52, 180,   8,  39, 105,  10,\n",
       "       142,   6, 160, 163, 120, 111,  36, 181,  65, 122, 119,  70,  12,\n",
       "       110, 115, 172,  92, 144, 110,  83,  21,  53,  33, 121,  16,  80,\n",
       "        96,  37,  17, 148, 115, 165, 143, 118, 125, 115,  74, 138,   9,\n",
       "       130, 146, 150, 175, 136, 131, 161, 140, 185,  85, 132,  56,  90,\n",
       "        25,  65, 153,  39,  44, 183, 117, 166,  58, 145, 169,   5,  44,\n",
       "        28, 120, 171,  58,   7,  49,  28,  83,  11, 139,  41,   1, 101,\n",
       "        14,  83, 134,  26,  89,  97,  64, 184, 119, 136,  65,  18,  93,\n",
       "        49,  62,  41,  36, 149,  65, 161,  72,  84,  29, 142,  14,  75,\n",
       "        81, 110, 181, 116,  20, 184,  11, 156, 121, 173, 124,  99, 171,\n",
       "        60,  81, 115,  13, 122, 155,  72,  70, 103,  49,  56, 121,  11,\n",
       "        94, 132, 100, 105,  61, 102,  43, 107, 154, 133, 122, 130, 119,\n",
       "       151, 128, 166,  26,  34,  32, 161, 177, 156, 165,  20,  40, 119,\n",
       "       176, 118,  66,  78,  52,  10, 149, 152,  90,  98,  32,  99,  13,\n",
       "       114, 169,  91,   1, 178, 145, 175,  82, 164,  82, 143, 133, 107,\n",
       "        41,  71,  84, 152,  53,  45,   1,  62,  29,   9, 132,  50,  59,\n",
       "        15,  34, 152, 123, 124,  57,  94,  31,  21, 120, 164,  76, 155,\n",
       "        51,  18,  69, 170,  10,  94, 119,   6, 156,   8,  62,  34, 135,\n",
       "       162,  91, 152, 114, 104,  65,  59, 176,  99, 154,   0, 124, 173,\n",
       "       137,  89, 121,  68, 180,  69,  87, 128, 131, 136,   0, 106,  20,\n",
       "        80,  49,  24, 112, 119, 127,  24, 175, 179, 184,  41, 106,  80,\n",
       "        70,   9, 116, 179, 158, 178, 131, 170,  11, 107, 106,  37,  72,\n",
       "        45,  11,  93,  63,  86, 179,  66], dtype=int64)"
      ]
     },
     "execution_count": 88,
     "metadata": {},
     "output_type": "execute_result"
    }
   ],
   "source": [
    "y_test"
   ]
  },
  {
   "cell_type": "code",
   "execution_count": 89,
   "id": "92d4cd1b",
   "metadata": {},
   "outputs": [],
   "source": [
    "from sklearn.metrics import mean_squared_error"
   ]
  },
  {
   "cell_type": "code",
   "execution_count": 93,
   "id": "689772e7",
   "metadata": {},
   "outputs": [],
   "source": [
    "mse=mean_squared_error(y_test,y_pred)"
   ]
  },
  {
   "cell_type": "code",
   "execution_count": 94,
   "id": "42d37e3e",
   "metadata": {},
   "outputs": [
    {
     "data": {
      "text/plain": [
       "12.404487804878048"
      ]
     },
     "execution_count": 94,
     "metadata": {},
     "output_type": "execute_result"
    }
   ],
   "source": [
    "mse"
   ]
  },
  {
   "cell_type": "code",
   "execution_count": 96,
   "id": "c6f3c577",
   "metadata": {},
   "outputs": [
    {
     "name": "stdout",
     "output_type": "stream",
     "text": [
      "k= 1 mean_squared_error= 13.575609756097561\n",
      "k= 2 mean_squared_error= 8.96280487804878\n",
      "k= 3 mean_squared_error= 7.726287262872628\n",
      "k= 4 mean_squared_error= 6.688871951219512\n",
      "k= 5 mean_squared_error= 12.404487804878048\n",
      "k= 6 mean_squared_error= 23.731978319783195\n",
      "k= 7 mean_squared_error= 36.02633150821304\n",
      "k= 8 mean_squared_error= 53.18506097560976\n",
      "k= 9 mean_squared_error= 77.00716651610958\n",
      "k= 10 mean_squared_error= 105.64782926829268\n",
      "k= 11 mean_squared_error= 135.77544849828666\n",
      "k= 12 mean_squared_error= 166.04517276422763\n",
      "k= 13 mean_squared_error= 176.68363400202048\n",
      "k= 14 mean_squared_error= 188.0321055251369\n",
      "k= 15 mean_squared_error= 195.82269918699188\n",
      "k= 16 mean_squared_error= 202.63922446646342\n",
      "k= 17 mean_squared_error= 205.95236728837872\n",
      "k= 18 mean_squared_error= 206.75979373682625\n",
      "k= 19 mean_squared_error= 208.56808323761908\n"
     ]
    }
   ],
   "source": [
    "for k in range(1,20):\n",
    "    knr=KNeighborsRegressor(n_neighbors=k)\n",
    "    knr.fit(x_train,y_train)\n",
    "    y_pred=knr.predict(x_test)\n",
    "    mse=mean_squared_error(y_test,y_pred)\n",
    "    print('k=',k,'mean_squared_error=',mse)"
   ]
  },
  {
   "cell_type": "code",
   "execution_count": 97,
   "id": "89c29fc7",
   "metadata": {},
   "outputs": [],
   "source": [
    "knr=KNeighborsRegressor(n_neighbors=4)"
   ]
  },
  {
   "cell_type": "code",
   "execution_count": 98,
   "id": "ea525124",
   "metadata": {},
   "outputs": [
    {
     "data": {
      "text/plain": [
       "KNeighborsRegressor(n_neighbors=4)"
      ]
     },
     "execution_count": 98,
     "metadata": {},
     "output_type": "execute_result"
    }
   ],
   "source": [
    "knr.fit(x_train,y_train)"
   ]
  },
  {
   "cell_type": "code",
   "execution_count": 99,
   "id": "276bd0c5",
   "metadata": {},
   "outputs": [],
   "source": [
    "y_pred=knr.predict(x_test)"
   ]
  },
  {
   "cell_type": "code",
   "execution_count": 100,
   "id": "57bd8234",
   "metadata": {},
   "outputs": [
    {
     "data": {
      "text/plain": [
       "array([ 74.  , 106.  , 177.  , 132.25, 147.  , 130.  ,  98.5 ,  73.  ,\n",
       "        52.  , 102.  ,  34.  ,  64.  ,  82.  ,  86.  ,  12.  , 184.  ,\n",
       "        71.  ,  71.  , 152.  , 145.75, 116.  ,  16.  ,  16.  , 134.  ,\n",
       "       153.  , 169.  , 178.  ,  39.  ,  11.  ,   1.  ,  34.  , 183.  ,\n",
       "       172.  ,  49.  , 114.  ,   2.  ,  45.  , 145.75,  99.  ,  41.  ,\n",
       "       178.  ,  48.  , 113.  ,  78.  ,   1.  ,  34.  , 183.  ,  47.  ,\n",
       "         7.  ,  84.  ,  58.  ,   7.  ,  42.  ,   4.  ,  40.  ,  30.  ,\n",
       "       157.  ,  73.  , 110.  , 170.  , 157.  ,  14.  ,  55.  , 177.  ,\n",
       "        18.  ,  61.  ,  98.5 ,  91.  , 178.  ,  98.5 , 161.  , 168.  ,\n",
       "        26.  , 182.  , 115.  ,   4.  , 173.  , 186.  ,  79.  ,  28.  ,\n",
       "       139.  ,  53.  ,  77.  ,  27.  , 109.  , 185.  ,  63.  ,  95.  ,\n",
       "       145.75,  22.  , 139.  , 181.  ,  89.  ,  22.  ,  27.  ,  66.  ,\n",
       "       150.  ,  40.  , 157.  , 148.  , 126.  ,  35.75,  19.  , 182.  ,\n",
       "       100.  ,  64.  , 119.  ,  72.  , 132.25, 116.  , 143.  , 127.  ,\n",
       "        74.  ,  13.  , 160.  , 121.  , 177.5 , 153.  , 143.  , 129.  ,\n",
       "       115.  ,  59.  ,  37.  , 166.  ,  52.  , 177.5 ,   8.  ,  39.  ,\n",
       "       105.  ,  10.  , 142.  ,   6.  , 160.  , 163.  , 120.  , 111.  ,\n",
       "        36.  , 181.  ,  83.75, 122.  , 119.  ,  70.  ,  12.  , 110.  ,\n",
       "       115.  , 172.  ,  92.  , 145.75, 110.  ,  83.  ,  21.  ,  53.  ,\n",
       "        33.  , 121.  ,  16.  ,  80.  ,  96.  ,  37.  ,  17.  , 148.  ,\n",
       "       115.  , 165.  , 143.  , 132.25, 125.  , 115.  ,  74.  , 138.  ,\n",
       "         9.  , 130.  , 146.  , 150.  , 177.5 , 136.  , 131.  , 161.  ,\n",
       "       140.  , 185.  ,  85.  , 132.  ,  56.  ,  83.75,  25.  ,  65.  ,\n",
       "       153.  ,  39.  ,  44.  , 183.  , 117.  , 166.  ,  58.  , 145.  ,\n",
       "       169.  ,   5.  ,  44.  ,  28.  , 120.  , 171.  ,  58.  ,   7.  ,\n",
       "        49.  ,  28.  ,  83.  ,  11.  , 139.  ,  41.  ,   1.  , 101.  ,\n",
       "        14.  ,  83.  , 134.  ,  26.  ,  89.  ,  97.  ,  64.  , 184.  ,\n",
       "       119.  , 136.  ,  83.75,  18.  ,  93.  ,  49.  ,  62.  ,  41.  ,\n",
       "        36.  , 149.  ,  83.75, 161.  ,  72.  ,  84.  ,  29.  , 142.  ,\n",
       "        14.  ,  75.  ,  81.  , 110.  , 181.  , 116.  ,  35.75, 184.  ,\n",
       "        11.  , 156.  , 121.  , 173.  , 124.  ,  99.  , 171.  ,  60.  ,\n",
       "        81.  , 115.  ,  13.  , 122.  , 155.  ,  72.  ,  70.  ,  98.5 ,\n",
       "        49.  ,  56.  , 121.  ,  11.  ,  98.5 , 132.  , 100.  , 105.  ,\n",
       "        61.  , 102.  ,  43.  , 107.  , 154.  , 133.  , 122.  , 130.  ,\n",
       "       119.  , 145.75, 128.  , 166.  ,  26.  ,  34.  ,  32.  , 161.  ,\n",
       "       177.  , 156.  , 165.  ,  20.  ,  40.  , 119.  , 177.  , 132.25,\n",
       "        66.  ,  78.  ,  52.  ,  10.  , 149.  , 152.  ,  83.75,  98.  ,\n",
       "        32.  ,  99.  ,  13.  , 114.  , 169.  ,  91.  ,   1.  , 178.  ,\n",
       "       145.  , 177.5 ,  82.  , 164.  ,  82.  , 143.  , 133.  , 107.  ,\n",
       "        35.75,  71.  ,  84.  , 152.  ,  53.  ,  45.  ,   1.  ,  62.  ,\n",
       "        29.  ,   9.  , 132.  ,  50.  ,  59.  ,  15.  ,  34.  , 152.  ,\n",
       "       123.  , 124.  ,  57.  ,  98.5 ,  31.  ,  21.  , 120.  , 164.  ,\n",
       "        76.  , 155.  ,  51.  ,  18.  ,  69.  , 170.  ,  10.  ,  98.5 ,\n",
       "       119.  ,   6.  , 156.  ,   8.  ,  62.  ,  34.  , 135.  , 162.  ,\n",
       "        91.  , 152.  , 114.  , 104.  ,  65.  ,  59.  , 177.  ,  99.  ,\n",
       "       154.  ,   0.  , 124.  , 173.  , 132.25,  89.  , 121.  ,  68.  ,\n",
       "       177.5 ,  69.  ,  74.  , 128.  , 131.  , 136.  ,   0.  , 106.  ,\n",
       "        20.  ,  80.  ,  49.  ,  24.  , 112.  , 119.  , 127.  ,  24.  ,\n",
       "       177.5 , 179.  , 184.  ,  35.75, 106.  ,  80.  ,  70.  ,   9.  ,\n",
       "       116.  , 179.  , 158.  , 178.  , 131.  , 170.  ,  11.  , 107.  ,\n",
       "       106.  ,  37.  ,  72.  ,  45.  ,  11.  ,  93.  ,  63.  ,  86.  ,\n",
       "       179.  ,  66.  ])"
      ]
     },
     "execution_count": 100,
     "metadata": {},
     "output_type": "execute_result"
    }
   ],
   "source": [
    "y_pred"
   ]
  },
  {
   "cell_type": "code",
   "execution_count": 101,
   "id": "dc514408",
   "metadata": {},
   "outputs": [
    {
     "data": {
      "text/plain": [
       "array([ 87, 106, 176, 137, 147, 130,  94,  73,  52, 102,  34,  64,  82,\n",
       "        86,  12, 184,  71,  71, 152, 144, 116,  16,  16, 134, 153, 169,\n",
       "       178,  39,  11,   1,  34, 183, 172,  49, 114,   2,  45, 144,  99,\n",
       "        41, 178,  48, 113,  78,   1,  34, 183,  47,   7,  84,  58,   7,\n",
       "        42,   4,  40,  30, 157,  73, 110, 170, 157,  14,  55, 177,  18,\n",
       "        61,  94,  91, 178,  94, 161, 168,  26, 182, 115,   4, 173, 186,\n",
       "        79,  28, 139,  53,  77,  27, 109, 185,  63,  95, 151,  22, 139,\n",
       "       181,  89,  22,  27,  66, 150,  40, 157, 148, 126,  20,  19, 182,\n",
       "       100,  64, 119,  72, 137, 116, 143, 127,  74,  13, 160, 121, 175,\n",
       "       153, 143, 129, 115,  59,  37, 166,  52, 180,   8,  39, 105,  10,\n",
       "       142,   6, 160, 163, 120, 111,  36, 181,  65, 122, 119,  70,  12,\n",
       "       110, 115, 172,  92, 144, 110,  83,  21,  53,  33, 121,  16,  80,\n",
       "        96,  37,  17, 148, 115, 165, 143, 118, 125, 115,  74, 138,   9,\n",
       "       130, 146, 150, 175, 136, 131, 161, 140, 185,  85, 132,  56,  90,\n",
       "        25,  65, 153,  39,  44, 183, 117, 166,  58, 145, 169,   5,  44,\n",
       "        28, 120, 171,  58,   7,  49,  28,  83,  11, 139,  41,   1, 101,\n",
       "        14,  83, 134,  26,  89,  97,  64, 184, 119, 136,  65,  18,  93,\n",
       "        49,  62,  41,  36, 149,  65, 161,  72,  84,  29, 142,  14,  75,\n",
       "        81, 110, 181, 116,  20, 184,  11, 156, 121, 173, 124,  99, 171,\n",
       "        60,  81, 115,  13, 122, 155,  72,  70, 103,  49,  56, 121,  11,\n",
       "        94, 132, 100, 105,  61, 102,  43, 107, 154, 133, 122, 130, 119,\n",
       "       151, 128, 166,  26,  34,  32, 161, 177, 156, 165,  20,  40, 119,\n",
       "       176, 118,  66,  78,  52,  10, 149, 152,  90,  98,  32,  99,  13,\n",
       "       114, 169,  91,   1, 178, 145, 175,  82, 164,  82, 143, 133, 107,\n",
       "        41,  71,  84, 152,  53,  45,   1,  62,  29,   9, 132,  50,  59,\n",
       "        15,  34, 152, 123, 124,  57,  94,  31,  21, 120, 164,  76, 155,\n",
       "        51,  18,  69, 170,  10,  94, 119,   6, 156,   8,  62,  34, 135,\n",
       "       162,  91, 152, 114, 104,  65,  59, 176,  99, 154,   0, 124, 173,\n",
       "       137,  89, 121,  68, 180,  69,  87, 128, 131, 136,   0, 106,  20,\n",
       "        80,  49,  24, 112, 119, 127,  24, 175, 179, 184,  41, 106,  80,\n",
       "        70,   9, 116, 179, 158, 178, 131, 170,  11, 107, 106,  37,  72,\n",
       "        45,  11,  93,  63,  86, 179,  66], dtype=int64)"
      ]
     },
     "execution_count": 101,
     "metadata": {},
     "output_type": "execute_result"
    }
   ],
   "source": [
    "y_test"
   ]
  },
  {
   "cell_type": "code",
   "execution_count": 102,
   "id": "d4b80c70",
   "metadata": {},
   "outputs": [],
   "source": [
    "mse=mean_squared_error(y_test,y_pred)"
   ]
  },
  {
   "cell_type": "code",
   "execution_count": 103,
   "id": "78d3c08f",
   "metadata": {},
   "outputs": [
    {
     "data": {
      "text/plain": [
       "6.688871951219512"
      ]
     },
     "execution_count": 103,
     "metadata": {},
     "output_type": "execute_result"
    }
   ],
   "source": [
    "mse"
   ]
  },
  {
   "cell_type": "code",
   "execution_count": null,
   "id": "58dffdd5",
   "metadata": {},
   "outputs": [],
   "source": []
  }
 ],
 "metadata": {
  "kernelspec": {
   "display_name": "Python 3",
   "language": "python",
   "name": "python3"
  },
  "language_info": {
   "codemirror_mode": {
    "name": "ipython",
    "version": 3
   },
   "file_extension": ".py",
   "mimetype": "text/x-python",
   "name": "python",
   "nbconvert_exporter": "python",
   "pygments_lexer": "ipython3",
   "version": "3.8.8"
  }
 },
 "nbformat": 4,
 "nbformat_minor": 5
}
