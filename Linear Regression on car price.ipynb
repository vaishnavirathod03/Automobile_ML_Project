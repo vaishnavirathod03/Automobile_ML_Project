{
 "cells": [
  {
   "cell_type": "code",
   "execution_count": 1,
   "id": "50cea517",
   "metadata": {},
   "outputs": [],
   "source": [
    "import pandas as pd\n",
    "import numpy as np\n",
    "import matplotlib.pyplot as plt"
   ]
  },
  {
   "cell_type": "code",
   "execution_count": 2,
   "id": "f57db569",
   "metadata": {},
   "outputs": [],
   "source": [
    "data = pd.read_csv('New_Car_Automobile.csv')"
   ]
  },
  {
   "cell_type": "code",
   "execution_count": 3,
   "id": "26efa363",
   "metadata": {},
   "outputs": [
    {
     "data": {
      "text/html": [
       "<div>\n",
       "<style scoped>\n",
       "    .dataframe tbody tr th:only-of-type {\n",
       "        vertical-align: middle;\n",
       "    }\n",
       "\n",
       "    .dataframe tbody tr th {\n",
       "        vertical-align: top;\n",
       "    }\n",
       "\n",
       "    .dataframe thead th {\n",
       "        text-align: right;\n",
       "    }\n",
       "</style>\n",
       "<table border=\"1\" class=\"dataframe\">\n",
       "  <thead>\n",
       "    <tr style=\"text-align: right;\">\n",
       "      <th></th>\n",
       "      <th>car-name</th>\n",
       "      <th>fuel-type</th>\n",
       "      <th>aspiration</th>\n",
       "      <th>num-of-doors</th>\n",
       "      <th>body-style</th>\n",
       "      <th>drive-wheels</th>\n",
       "      <th>engine-location</th>\n",
       "      <th>wheel-base</th>\n",
       "      <th>length</th>\n",
       "      <th>width</th>\n",
       "      <th>...</th>\n",
       "      <th>engine-size</th>\n",
       "      <th>fuel-system</th>\n",
       "      <th>bore</th>\n",
       "      <th>stroke</th>\n",
       "      <th>compression-ratio</th>\n",
       "      <th>horsepower</th>\n",
       "      <th>peak-rpm</th>\n",
       "      <th>city-mpg</th>\n",
       "      <th>highway-mpg</th>\n",
       "      <th>price</th>\n",
       "    </tr>\n",
       "  </thead>\n",
       "  <tbody>\n",
       "    <tr>\n",
       "      <th>0</th>\n",
       "      <td>alfa-romero</td>\n",
       "      <td>gas</td>\n",
       "      <td>std</td>\n",
       "      <td>two</td>\n",
       "      <td>convertible</td>\n",
       "      <td>rwd</td>\n",
       "      <td>front</td>\n",
       "      <td>88.6</td>\n",
       "      <td>168.8</td>\n",
       "      <td>64.1</td>\n",
       "      <td>...</td>\n",
       "      <td>130</td>\n",
       "      <td>mpfi</td>\n",
       "      <td>3.47</td>\n",
       "      <td>2.68</td>\n",
       "      <td>10.779306</td>\n",
       "      <td>111.0</td>\n",
       "      <td>5000.0</td>\n",
       "      <td>21</td>\n",
       "      <td>27</td>\n",
       "      <td>13495.0</td>\n",
       "    </tr>\n",
       "    <tr>\n",
       "      <th>1</th>\n",
       "      <td>alfa-romero</td>\n",
       "      <td>gas</td>\n",
       "      <td>std</td>\n",
       "      <td>two</td>\n",
       "      <td>convertible</td>\n",
       "      <td>rwd</td>\n",
       "      <td>front</td>\n",
       "      <td>88.6</td>\n",
       "      <td>168.8</td>\n",
       "      <td>64.1</td>\n",
       "      <td>...</td>\n",
       "      <td>130</td>\n",
       "      <td>mpfi</td>\n",
       "      <td>3.47</td>\n",
       "      <td>2.68</td>\n",
       "      <td>10.779306</td>\n",
       "      <td>111.0</td>\n",
       "      <td>5000.0</td>\n",
       "      <td>21</td>\n",
       "      <td>27</td>\n",
       "      <td>16500.0</td>\n",
       "    </tr>\n",
       "    <tr>\n",
       "      <th>2</th>\n",
       "      <td>alfa-romero</td>\n",
       "      <td>gas</td>\n",
       "      <td>std</td>\n",
       "      <td>two</td>\n",
       "      <td>hatchback</td>\n",
       "      <td>rwd</td>\n",
       "      <td>front</td>\n",
       "      <td>94.5</td>\n",
       "      <td>171.2</td>\n",
       "      <td>65.5</td>\n",
       "      <td>...</td>\n",
       "      <td>152</td>\n",
       "      <td>mpfi</td>\n",
       "      <td>2.68</td>\n",
       "      <td>3.47</td>\n",
       "      <td>10.779306</td>\n",
       "      <td>154.0</td>\n",
       "      <td>5000.0</td>\n",
       "      <td>19</td>\n",
       "      <td>26</td>\n",
       "      <td>16500.0</td>\n",
       "    </tr>\n",
       "    <tr>\n",
       "      <th>3</th>\n",
       "      <td>audi</td>\n",
       "      <td>gas</td>\n",
       "      <td>std</td>\n",
       "      <td>four</td>\n",
       "      <td>sedan</td>\n",
       "      <td>fwd</td>\n",
       "      <td>front</td>\n",
       "      <td>99.8</td>\n",
       "      <td>176.6</td>\n",
       "      <td>66.2</td>\n",
       "      <td>...</td>\n",
       "      <td>109</td>\n",
       "      <td>mpfi</td>\n",
       "      <td>3.19</td>\n",
       "      <td>3.40</td>\n",
       "      <td>10.000000</td>\n",
       "      <td>102.0</td>\n",
       "      <td>5500.0</td>\n",
       "      <td>24</td>\n",
       "      <td>30</td>\n",
       "      <td>13950.0</td>\n",
       "    </tr>\n",
       "    <tr>\n",
       "      <th>4</th>\n",
       "      <td>audi</td>\n",
       "      <td>gas</td>\n",
       "      <td>std</td>\n",
       "      <td>four</td>\n",
       "      <td>sedan</td>\n",
       "      <td>4wd</td>\n",
       "      <td>front</td>\n",
       "      <td>99.4</td>\n",
       "      <td>176.6</td>\n",
       "      <td>66.4</td>\n",
       "      <td>...</td>\n",
       "      <td>136</td>\n",
       "      <td>mpfi</td>\n",
       "      <td>3.19</td>\n",
       "      <td>3.40</td>\n",
       "      <td>10.779306</td>\n",
       "      <td>115.0</td>\n",
       "      <td>5500.0</td>\n",
       "      <td>18</td>\n",
       "      <td>22</td>\n",
       "      <td>17450.0</td>\n",
       "    </tr>\n",
       "  </tbody>\n",
       "</table>\n",
       "<p>5 rows × 24 columns</p>\n",
       "</div>"
      ],
      "text/plain": [
       "      car-name fuel-type aspiration num-of-doors   body-style drive-wheels  \\\n",
       "0  alfa-romero       gas        std          two  convertible          rwd   \n",
       "1  alfa-romero       gas        std          two  convertible          rwd   \n",
       "2  alfa-romero       gas        std          two    hatchback          rwd   \n",
       "3         audi       gas        std         four        sedan          fwd   \n",
       "4         audi       gas        std         four        sedan          4wd   \n",
       "\n",
       "  engine-location  wheel-base  length  width  ...  engine-size  fuel-system  \\\n",
       "0           front        88.6   168.8   64.1  ...          130         mpfi   \n",
       "1           front        88.6   168.8   64.1  ...          130         mpfi   \n",
       "2           front        94.5   171.2   65.5  ...          152         mpfi   \n",
       "3           front        99.8   176.6   66.2  ...          109         mpfi   \n",
       "4           front        99.4   176.6   66.4  ...          136         mpfi   \n",
       "\n",
       "   bore stroke  compression-ratio horsepower  peak-rpm  city-mpg  highway-mpg  \\\n",
       "0  3.47   2.68          10.779306      111.0    5000.0        21           27   \n",
       "1  3.47   2.68          10.779306      111.0    5000.0        21           27   \n",
       "2  2.68   3.47          10.779306      154.0    5000.0        19           26   \n",
       "3  3.19   3.40          10.000000      102.0    5500.0        24           30   \n",
       "4  3.19   3.40          10.779306      115.0    5500.0        18           22   \n",
       "\n",
       "     price  \n",
       "0  13495.0  \n",
       "1  16500.0  \n",
       "2  16500.0  \n",
       "3  13950.0  \n",
       "4  17450.0  \n",
       "\n",
       "[5 rows x 24 columns]"
      ]
     },
     "execution_count": 3,
     "metadata": {},
     "output_type": "execute_result"
    }
   ],
   "source": [
    "data.head()"
   ]
  },
  {
   "cell_type": "code",
   "execution_count": 5,
   "id": "0d48c376",
   "metadata": {},
   "outputs": [
    {
     "data": {
      "text/html": [
       "<div>\n",
       "<style scoped>\n",
       "    .dataframe tbody tr th:only-of-type {\n",
       "        vertical-align: middle;\n",
       "    }\n",
       "\n",
       "    .dataframe tbody tr th {\n",
       "        vertical-align: top;\n",
       "    }\n",
       "\n",
       "    .dataframe thead th {\n",
       "        text-align: right;\n",
       "    }\n",
       "</style>\n",
       "<table border=\"1\" class=\"dataframe\">\n",
       "  <thead>\n",
       "    <tr style=\"text-align: right;\">\n",
       "      <th></th>\n",
       "      <th>wheel-base</th>\n",
       "      <th>length</th>\n",
       "      <th>width</th>\n",
       "      <th>height</th>\n",
       "      <th>curb-weight</th>\n",
       "      <th>engine-size</th>\n",
       "      <th>bore</th>\n",
       "      <th>stroke</th>\n",
       "      <th>compression-ratio</th>\n",
       "      <th>horsepower</th>\n",
       "      <th>peak-rpm</th>\n",
       "      <th>city-mpg</th>\n",
       "      <th>highway-mpg</th>\n",
       "      <th>price</th>\n",
       "    </tr>\n",
       "  </thead>\n",
       "  <tbody>\n",
       "    <tr>\n",
       "      <th>count</th>\n",
       "      <td>2050.000000</td>\n",
       "      <td>2050.000000</td>\n",
       "      <td>2050.000000</td>\n",
       "      <td>2050.000000</td>\n",
       "      <td>2050.000000</td>\n",
       "      <td>2050.000000</td>\n",
       "      <td>2050.000000</td>\n",
       "      <td>2050.000000</td>\n",
       "      <td>2050.000000</td>\n",
       "      <td>2050.000000</td>\n",
       "      <td>2050.000000</td>\n",
       "      <td>2050.000000</td>\n",
       "      <td>2050.000000</td>\n",
       "      <td>2050.000000</td>\n",
       "    </tr>\n",
       "    <tr>\n",
       "      <th>mean</th>\n",
       "      <td>98.756585</td>\n",
       "      <td>174.049268</td>\n",
       "      <td>65.907805</td>\n",
       "      <td>53.724878</td>\n",
       "      <td>2555.565854</td>\n",
       "      <td>126.907317</td>\n",
       "      <td>3.329751</td>\n",
       "      <td>3.255423</td>\n",
       "      <td>10.779306</td>\n",
       "      <td>103.344188</td>\n",
       "      <td>5125.369458</td>\n",
       "      <td>25.219512</td>\n",
       "      <td>30.751220</td>\n",
       "      <td>13207.129353</td>\n",
       "    </tr>\n",
       "    <tr>\n",
       "      <th>std</th>\n",
       "      <td>6.008536</td>\n",
       "      <td>12.310164</td>\n",
       "      <td>2.140487</td>\n",
       "      <td>2.438150</td>\n",
       "      <td>519.535431</td>\n",
       "      <td>41.551137</td>\n",
       "      <td>0.270248</td>\n",
       "      <td>0.312908</td>\n",
       "      <td>3.822719</td>\n",
       "      <td>40.489081</td>\n",
       "      <td>475.930402</td>\n",
       "      <td>6.527758</td>\n",
       "      <td>6.871303</td>\n",
       "      <td>7851.467858</td>\n",
       "    </tr>\n",
       "    <tr>\n",
       "      <th>min</th>\n",
       "      <td>86.600000</td>\n",
       "      <td>141.100000</td>\n",
       "      <td>60.300000</td>\n",
       "      <td>47.800000</td>\n",
       "      <td>1488.000000</td>\n",
       "      <td>61.000000</td>\n",
       "      <td>2.540000</td>\n",
       "      <td>2.070000</td>\n",
       "      <td>7.500000</td>\n",
       "      <td>10.779306</td>\n",
       "      <td>4150.000000</td>\n",
       "      <td>13.000000</td>\n",
       "      <td>16.000000</td>\n",
       "      <td>5118.000000</td>\n",
       "    </tr>\n",
       "    <tr>\n",
       "      <th>25%</th>\n",
       "      <td>94.500000</td>\n",
       "      <td>166.300000</td>\n",
       "      <td>64.100000</td>\n",
       "      <td>52.000000</td>\n",
       "      <td>2145.000000</td>\n",
       "      <td>97.000000</td>\n",
       "      <td>3.150000</td>\n",
       "      <td>3.110000</td>\n",
       "      <td>8.800000</td>\n",
       "      <td>70.000000</td>\n",
       "      <td>4800.000000</td>\n",
       "      <td>19.000000</td>\n",
       "      <td>25.000000</td>\n",
       "      <td>7788.000000</td>\n",
       "    </tr>\n",
       "    <tr>\n",
       "      <th>50%</th>\n",
       "      <td>97.000000</td>\n",
       "      <td>173.200000</td>\n",
       "      <td>65.500000</td>\n",
       "      <td>54.100000</td>\n",
       "      <td>2414.000000</td>\n",
       "      <td>120.000000</td>\n",
       "      <td>3.310000</td>\n",
       "      <td>3.290000</td>\n",
       "      <td>9.500000</td>\n",
       "      <td>95.000000</td>\n",
       "      <td>5200.000000</td>\n",
       "      <td>24.000000</td>\n",
       "      <td>30.000000</td>\n",
       "      <td>10595.000000</td>\n",
       "    </tr>\n",
       "    <tr>\n",
       "      <th>75%</th>\n",
       "      <td>102.400000</td>\n",
       "      <td>183.100000</td>\n",
       "      <td>66.900000</td>\n",
       "      <td>55.500000</td>\n",
       "      <td>2935.000000</td>\n",
       "      <td>141.000000</td>\n",
       "      <td>3.580000</td>\n",
       "      <td>3.410000</td>\n",
       "      <td>10.779306</td>\n",
       "      <td>116.000000</td>\n",
       "      <td>5500.000000</td>\n",
       "      <td>30.000000</td>\n",
       "      <td>34.000000</td>\n",
       "      <td>16500.000000</td>\n",
       "    </tr>\n",
       "    <tr>\n",
       "      <th>max</th>\n",
       "      <td>120.900000</td>\n",
       "      <td>208.100000</td>\n",
       "      <td>72.300000</td>\n",
       "      <td>59.800000</td>\n",
       "      <td>4066.000000</td>\n",
       "      <td>326.000000</td>\n",
       "      <td>3.940000</td>\n",
       "      <td>4.170000</td>\n",
       "      <td>23.000000</td>\n",
       "      <td>288.000000</td>\n",
       "      <td>6600.000000</td>\n",
       "      <td>49.000000</td>\n",
       "      <td>54.000000</td>\n",
       "      <td>45400.000000</td>\n",
       "    </tr>\n",
       "  </tbody>\n",
       "</table>\n",
       "</div>"
      ],
      "text/plain": [
       "        wheel-base       length        width       height  curb-weight  \\\n",
       "count  2050.000000  2050.000000  2050.000000  2050.000000  2050.000000   \n",
       "mean     98.756585   174.049268    65.907805    53.724878  2555.565854   \n",
       "std       6.008536    12.310164     2.140487     2.438150   519.535431   \n",
       "min      86.600000   141.100000    60.300000    47.800000  1488.000000   \n",
       "25%      94.500000   166.300000    64.100000    52.000000  2145.000000   \n",
       "50%      97.000000   173.200000    65.500000    54.100000  2414.000000   \n",
       "75%     102.400000   183.100000    66.900000    55.500000  2935.000000   \n",
       "max     120.900000   208.100000    72.300000    59.800000  4066.000000   \n",
       "\n",
       "       engine-size         bore       stroke  compression-ratio   horsepower  \\\n",
       "count  2050.000000  2050.000000  2050.000000        2050.000000  2050.000000   \n",
       "mean    126.907317     3.329751     3.255423          10.779306   103.344188   \n",
       "std      41.551137     0.270248     0.312908           3.822719    40.489081   \n",
       "min      61.000000     2.540000     2.070000           7.500000    10.779306   \n",
       "25%      97.000000     3.150000     3.110000           8.800000    70.000000   \n",
       "50%     120.000000     3.310000     3.290000           9.500000    95.000000   \n",
       "75%     141.000000     3.580000     3.410000          10.779306   116.000000   \n",
       "max     326.000000     3.940000     4.170000          23.000000   288.000000   \n",
       "\n",
       "          peak-rpm     city-mpg  highway-mpg         price  \n",
       "count  2050.000000  2050.000000  2050.000000   2050.000000  \n",
       "mean   5125.369458    25.219512    30.751220  13207.129353  \n",
       "std     475.930402     6.527758     6.871303   7851.467858  \n",
       "min    4150.000000    13.000000    16.000000   5118.000000  \n",
       "25%    4800.000000    19.000000    25.000000   7788.000000  \n",
       "50%    5200.000000    24.000000    30.000000  10595.000000  \n",
       "75%    5500.000000    30.000000    34.000000  16500.000000  \n",
       "max    6600.000000    49.000000    54.000000  45400.000000  "
      ]
     },
     "execution_count": 5,
     "metadata": {},
     "output_type": "execute_result"
    }
   ],
   "source": [
    "data.describe()"
   ]
  },
  {
   "cell_type": "code",
   "execution_count": 6,
   "id": "0f6507cb",
   "metadata": {},
   "outputs": [
    {
     "name": "stdout",
     "output_type": "stream",
     "text": [
      "<class 'pandas.core.frame.DataFrame'>\n",
      "RangeIndex: 2050 entries, 0 to 2049\n",
      "Data columns (total 24 columns):\n",
      " #   Column             Non-Null Count  Dtype  \n",
      "---  ------             --------------  -----  \n",
      " 0   car-name           2050 non-null   object \n",
      " 1   fuel-type          2050 non-null   object \n",
      " 2   aspiration         2050 non-null   object \n",
      " 3   num-of-doors       2050 non-null   object \n",
      " 4   body-style         2050 non-null   object \n",
      " 5   drive-wheels       2050 non-null   object \n",
      " 6   engine-location    2050 non-null   object \n",
      " 7   wheel-base         2050 non-null   float64\n",
      " 8   length             2050 non-null   float64\n",
      " 9   width              2050 non-null   float64\n",
      " 10  height             2050 non-null   float64\n",
      " 11  curb-weight        2050 non-null   int64  \n",
      " 12  engine-type        2050 non-null   object \n",
      " 13  num-of-cylinders   2050 non-null   object \n",
      " 14  engine-size        2050 non-null   int64  \n",
      " 15  fuel-system        2050 non-null   object \n",
      " 16  bore               2050 non-null   float64\n",
      " 17  stroke             2050 non-null   float64\n",
      " 18  compression-ratio  2050 non-null   float64\n",
      " 19  horsepower         2050 non-null   float64\n",
      " 20  peak-rpm           2050 non-null   float64\n",
      " 21  city-mpg           2050 non-null   int64  \n",
      " 22  highway-mpg        2050 non-null   int64  \n",
      " 23  price              2050 non-null   float64\n",
      "dtypes: float64(10), int64(4), object(10)\n",
      "memory usage: 384.5+ KB\n"
     ]
    }
   ],
   "source": [
    "data.info()"
   ]
  },
  {
   "cell_type": "code",
   "execution_count": 8,
   "id": "eec22fa3",
   "metadata": {},
   "outputs": [],
   "source": [
    "x = data.drop('price',axis = 1)"
   ]
  },
  {
   "cell_type": "code",
   "execution_count": 9,
   "id": "6f509b7a",
   "metadata": {},
   "outputs": [
    {
     "data": {
      "text/html": [
       "<div>\n",
       "<style scoped>\n",
       "    .dataframe tbody tr th:only-of-type {\n",
       "        vertical-align: middle;\n",
       "    }\n",
       "\n",
       "    .dataframe tbody tr th {\n",
       "        vertical-align: top;\n",
       "    }\n",
       "\n",
       "    .dataframe thead th {\n",
       "        text-align: right;\n",
       "    }\n",
       "</style>\n",
       "<table border=\"1\" class=\"dataframe\">\n",
       "  <thead>\n",
       "    <tr style=\"text-align: right;\">\n",
       "      <th></th>\n",
       "      <th>car-name</th>\n",
       "      <th>fuel-type</th>\n",
       "      <th>aspiration</th>\n",
       "      <th>num-of-doors</th>\n",
       "      <th>body-style</th>\n",
       "      <th>drive-wheels</th>\n",
       "      <th>engine-location</th>\n",
       "      <th>wheel-base</th>\n",
       "      <th>length</th>\n",
       "      <th>width</th>\n",
       "      <th>...</th>\n",
       "      <th>num-of-cylinders</th>\n",
       "      <th>engine-size</th>\n",
       "      <th>fuel-system</th>\n",
       "      <th>bore</th>\n",
       "      <th>stroke</th>\n",
       "      <th>compression-ratio</th>\n",
       "      <th>horsepower</th>\n",
       "      <th>peak-rpm</th>\n",
       "      <th>city-mpg</th>\n",
       "      <th>highway-mpg</th>\n",
       "    </tr>\n",
       "  </thead>\n",
       "  <tbody>\n",
       "    <tr>\n",
       "      <th>0</th>\n",
       "      <td>alfa-romero</td>\n",
       "      <td>gas</td>\n",
       "      <td>std</td>\n",
       "      <td>two</td>\n",
       "      <td>convertible</td>\n",
       "      <td>rwd</td>\n",
       "      <td>front</td>\n",
       "      <td>88.6</td>\n",
       "      <td>168.8</td>\n",
       "      <td>64.1</td>\n",
       "      <td>...</td>\n",
       "      <td>four</td>\n",
       "      <td>130</td>\n",
       "      <td>mpfi</td>\n",
       "      <td>3.47</td>\n",
       "      <td>2.68</td>\n",
       "      <td>10.779306</td>\n",
       "      <td>111.0</td>\n",
       "      <td>5000.0</td>\n",
       "      <td>21</td>\n",
       "      <td>27</td>\n",
       "    </tr>\n",
       "    <tr>\n",
       "      <th>1</th>\n",
       "      <td>alfa-romero</td>\n",
       "      <td>gas</td>\n",
       "      <td>std</td>\n",
       "      <td>two</td>\n",
       "      <td>convertible</td>\n",
       "      <td>rwd</td>\n",
       "      <td>front</td>\n",
       "      <td>88.6</td>\n",
       "      <td>168.8</td>\n",
       "      <td>64.1</td>\n",
       "      <td>...</td>\n",
       "      <td>four</td>\n",
       "      <td>130</td>\n",
       "      <td>mpfi</td>\n",
       "      <td>3.47</td>\n",
       "      <td>2.68</td>\n",
       "      <td>10.779306</td>\n",
       "      <td>111.0</td>\n",
       "      <td>5000.0</td>\n",
       "      <td>21</td>\n",
       "      <td>27</td>\n",
       "    </tr>\n",
       "    <tr>\n",
       "      <th>2</th>\n",
       "      <td>alfa-romero</td>\n",
       "      <td>gas</td>\n",
       "      <td>std</td>\n",
       "      <td>two</td>\n",
       "      <td>hatchback</td>\n",
       "      <td>rwd</td>\n",
       "      <td>front</td>\n",
       "      <td>94.5</td>\n",
       "      <td>171.2</td>\n",
       "      <td>65.5</td>\n",
       "      <td>...</td>\n",
       "      <td>six</td>\n",
       "      <td>152</td>\n",
       "      <td>mpfi</td>\n",
       "      <td>2.68</td>\n",
       "      <td>3.47</td>\n",
       "      <td>10.779306</td>\n",
       "      <td>154.0</td>\n",
       "      <td>5000.0</td>\n",
       "      <td>19</td>\n",
       "      <td>26</td>\n",
       "    </tr>\n",
       "    <tr>\n",
       "      <th>3</th>\n",
       "      <td>audi</td>\n",
       "      <td>gas</td>\n",
       "      <td>std</td>\n",
       "      <td>four</td>\n",
       "      <td>sedan</td>\n",
       "      <td>fwd</td>\n",
       "      <td>front</td>\n",
       "      <td>99.8</td>\n",
       "      <td>176.6</td>\n",
       "      <td>66.2</td>\n",
       "      <td>...</td>\n",
       "      <td>four</td>\n",
       "      <td>109</td>\n",
       "      <td>mpfi</td>\n",
       "      <td>3.19</td>\n",
       "      <td>3.40</td>\n",
       "      <td>10.000000</td>\n",
       "      <td>102.0</td>\n",
       "      <td>5500.0</td>\n",
       "      <td>24</td>\n",
       "      <td>30</td>\n",
       "    </tr>\n",
       "    <tr>\n",
       "      <th>4</th>\n",
       "      <td>audi</td>\n",
       "      <td>gas</td>\n",
       "      <td>std</td>\n",
       "      <td>four</td>\n",
       "      <td>sedan</td>\n",
       "      <td>4wd</td>\n",
       "      <td>front</td>\n",
       "      <td>99.4</td>\n",
       "      <td>176.6</td>\n",
       "      <td>66.4</td>\n",
       "      <td>...</td>\n",
       "      <td>five</td>\n",
       "      <td>136</td>\n",
       "      <td>mpfi</td>\n",
       "      <td>3.19</td>\n",
       "      <td>3.40</td>\n",
       "      <td>10.779306</td>\n",
       "      <td>115.0</td>\n",
       "      <td>5500.0</td>\n",
       "      <td>18</td>\n",
       "      <td>22</td>\n",
       "    </tr>\n",
       "    <tr>\n",
       "      <th>...</th>\n",
       "      <td>...</td>\n",
       "      <td>...</td>\n",
       "      <td>...</td>\n",
       "      <td>...</td>\n",
       "      <td>...</td>\n",
       "      <td>...</td>\n",
       "      <td>...</td>\n",
       "      <td>...</td>\n",
       "      <td>...</td>\n",
       "      <td>...</td>\n",
       "      <td>...</td>\n",
       "      <td>...</td>\n",
       "      <td>...</td>\n",
       "      <td>...</td>\n",
       "      <td>...</td>\n",
       "      <td>...</td>\n",
       "      <td>...</td>\n",
       "      <td>...</td>\n",
       "      <td>...</td>\n",
       "      <td>...</td>\n",
       "      <td>...</td>\n",
       "    </tr>\n",
       "    <tr>\n",
       "      <th>2045</th>\n",
       "      <td>volvo</td>\n",
       "      <td>gas</td>\n",
       "      <td>std</td>\n",
       "      <td>four</td>\n",
       "      <td>sedan</td>\n",
       "      <td>rwd</td>\n",
       "      <td>front</td>\n",
       "      <td>109.1</td>\n",
       "      <td>188.8</td>\n",
       "      <td>68.9</td>\n",
       "      <td>...</td>\n",
       "      <td>four</td>\n",
       "      <td>141</td>\n",
       "      <td>mpfi</td>\n",
       "      <td>3.78</td>\n",
       "      <td>3.15</td>\n",
       "      <td>9.500000</td>\n",
       "      <td>114.0</td>\n",
       "      <td>5400.0</td>\n",
       "      <td>23</td>\n",
       "      <td>28</td>\n",
       "    </tr>\n",
       "    <tr>\n",
       "      <th>2046</th>\n",
       "      <td>volvo</td>\n",
       "      <td>gas</td>\n",
       "      <td>turbo</td>\n",
       "      <td>four</td>\n",
       "      <td>sedan</td>\n",
       "      <td>rwd</td>\n",
       "      <td>front</td>\n",
       "      <td>109.1</td>\n",
       "      <td>188.8</td>\n",
       "      <td>68.8</td>\n",
       "      <td>...</td>\n",
       "      <td>four</td>\n",
       "      <td>141</td>\n",
       "      <td>mpfi</td>\n",
       "      <td>3.78</td>\n",
       "      <td>3.15</td>\n",
       "      <td>8.700000</td>\n",
       "      <td>160.0</td>\n",
       "      <td>5300.0</td>\n",
       "      <td>19</td>\n",
       "      <td>25</td>\n",
       "    </tr>\n",
       "    <tr>\n",
       "      <th>2047</th>\n",
       "      <td>volvo</td>\n",
       "      <td>gas</td>\n",
       "      <td>std</td>\n",
       "      <td>four</td>\n",
       "      <td>sedan</td>\n",
       "      <td>rwd</td>\n",
       "      <td>front</td>\n",
       "      <td>109.1</td>\n",
       "      <td>188.8</td>\n",
       "      <td>68.9</td>\n",
       "      <td>...</td>\n",
       "      <td>six</td>\n",
       "      <td>173</td>\n",
       "      <td>mpfi</td>\n",
       "      <td>3.58</td>\n",
       "      <td>2.87</td>\n",
       "      <td>8.800000</td>\n",
       "      <td>134.0</td>\n",
       "      <td>5500.0</td>\n",
       "      <td>18</td>\n",
       "      <td>23</td>\n",
       "    </tr>\n",
       "    <tr>\n",
       "      <th>2048</th>\n",
       "      <td>volvo</td>\n",
       "      <td>diesel</td>\n",
       "      <td>turbo</td>\n",
       "      <td>four</td>\n",
       "      <td>sedan</td>\n",
       "      <td>rwd</td>\n",
       "      <td>front</td>\n",
       "      <td>109.1</td>\n",
       "      <td>188.8</td>\n",
       "      <td>68.9</td>\n",
       "      <td>...</td>\n",
       "      <td>six</td>\n",
       "      <td>145</td>\n",
       "      <td>idi</td>\n",
       "      <td>3.01</td>\n",
       "      <td>3.40</td>\n",
       "      <td>23.000000</td>\n",
       "      <td>106.0</td>\n",
       "      <td>4800.0</td>\n",
       "      <td>26</td>\n",
       "      <td>27</td>\n",
       "    </tr>\n",
       "    <tr>\n",
       "      <th>2049</th>\n",
       "      <td>volvo</td>\n",
       "      <td>gas</td>\n",
       "      <td>turbo</td>\n",
       "      <td>four</td>\n",
       "      <td>sedan</td>\n",
       "      <td>rwd</td>\n",
       "      <td>front</td>\n",
       "      <td>109.1</td>\n",
       "      <td>188.8</td>\n",
       "      <td>68.9</td>\n",
       "      <td>...</td>\n",
       "      <td>four</td>\n",
       "      <td>141</td>\n",
       "      <td>mpfi</td>\n",
       "      <td>3.78</td>\n",
       "      <td>3.15</td>\n",
       "      <td>9.500000</td>\n",
       "      <td>114.0</td>\n",
       "      <td>5400.0</td>\n",
       "      <td>19</td>\n",
       "      <td>25</td>\n",
       "    </tr>\n",
       "  </tbody>\n",
       "</table>\n",
       "<p>2050 rows × 23 columns</p>\n",
       "</div>"
      ],
      "text/plain": [
       "         car-name fuel-type aspiration num-of-doors   body-style drive-wheels  \\\n",
       "0     alfa-romero       gas        std          two  convertible          rwd   \n",
       "1     alfa-romero       gas        std          two  convertible          rwd   \n",
       "2     alfa-romero       gas        std          two    hatchback          rwd   \n",
       "3            audi       gas        std         four        sedan          fwd   \n",
       "4            audi       gas        std         four        sedan          4wd   \n",
       "...           ...       ...        ...          ...          ...          ...   \n",
       "2045        volvo       gas        std         four        sedan          rwd   \n",
       "2046        volvo       gas      turbo         four        sedan          rwd   \n",
       "2047        volvo       gas        std         four        sedan          rwd   \n",
       "2048        volvo    diesel      turbo         four        sedan          rwd   \n",
       "2049        volvo       gas      turbo         four        sedan          rwd   \n",
       "\n",
       "     engine-location  wheel-base  length  width  ...  num-of-cylinders  \\\n",
       "0              front        88.6   168.8   64.1  ...              four   \n",
       "1              front        88.6   168.8   64.1  ...              four   \n",
       "2              front        94.5   171.2   65.5  ...               six   \n",
       "3              front        99.8   176.6   66.2  ...              four   \n",
       "4              front        99.4   176.6   66.4  ...              five   \n",
       "...              ...         ...     ...    ...  ...               ...   \n",
       "2045           front       109.1   188.8   68.9  ...              four   \n",
       "2046           front       109.1   188.8   68.8  ...              four   \n",
       "2047           front       109.1   188.8   68.9  ...               six   \n",
       "2048           front       109.1   188.8   68.9  ...               six   \n",
       "2049           front       109.1   188.8   68.9  ...              four   \n",
       "\n",
       "      engine-size fuel-system  bore  stroke compression-ratio  horsepower  \\\n",
       "0             130        mpfi  3.47    2.68         10.779306       111.0   \n",
       "1             130        mpfi  3.47    2.68         10.779306       111.0   \n",
       "2             152        mpfi  2.68    3.47         10.779306       154.0   \n",
       "3             109        mpfi  3.19    3.40         10.000000       102.0   \n",
       "4             136        mpfi  3.19    3.40         10.779306       115.0   \n",
       "...           ...         ...   ...     ...               ...         ...   \n",
       "2045          141        mpfi  3.78    3.15          9.500000       114.0   \n",
       "2046          141        mpfi  3.78    3.15          8.700000       160.0   \n",
       "2047          173        mpfi  3.58    2.87          8.800000       134.0   \n",
       "2048          145         idi  3.01    3.40         23.000000       106.0   \n",
       "2049          141        mpfi  3.78    3.15          9.500000       114.0   \n",
       "\n",
       "      peak-rpm  city-mpg  highway-mpg  \n",
       "0       5000.0        21           27  \n",
       "1       5000.0        21           27  \n",
       "2       5000.0        19           26  \n",
       "3       5500.0        24           30  \n",
       "4       5500.0        18           22  \n",
       "...        ...       ...          ...  \n",
       "2045    5400.0        23           28  \n",
       "2046    5300.0        19           25  \n",
       "2047    5500.0        18           23  \n",
       "2048    4800.0        26           27  \n",
       "2049    5400.0        19           25  \n",
       "\n",
       "[2050 rows x 23 columns]"
      ]
     },
     "execution_count": 9,
     "metadata": {},
     "output_type": "execute_result"
    }
   ],
   "source": [
    "x"
   ]
  },
  {
   "cell_type": "code",
   "execution_count": 10,
   "id": "13389a10",
   "metadata": {},
   "outputs": [],
   "source": [
    "y = data['price']"
   ]
  },
  {
   "cell_type": "code",
   "execution_count": 11,
   "id": "2d103cc8",
   "metadata": {},
   "outputs": [
    {
     "data": {
      "text/plain": [
       "0       13495.0\n",
       "1       16500.0\n",
       "2       16500.0\n",
       "3       13950.0\n",
       "4       17450.0\n",
       "         ...   \n",
       "2045    16845.0\n",
       "2046    19045.0\n",
       "2047    21485.0\n",
       "2048    22470.0\n",
       "2049    22625.0\n",
       "Name: price, Length: 2050, dtype: float64"
      ]
     },
     "execution_count": 11,
     "metadata": {},
     "output_type": "execute_result"
    }
   ],
   "source": [
    "y"
   ]
  },
  {
   "cell_type": "code",
   "execution_count": 15,
   "id": "922bfa91",
   "metadata": {},
   "outputs": [
    {
     "data": {
      "text/plain": [
       "array(['alfa-romero', 'audi', 'bmw', 'chevrolet', 'dodge', 'honda',\n",
       "       'isuzu', 'jaguar', 'mazda', 'mercedes-benz', 'mercury',\n",
       "       'mitsubishi', 'nissan', 'peugot', 'plymouth', 'porsche', 'renault',\n",
       "       'saab', 'subaru', 'toyota', 'volkswagen', 'volvo'], dtype=object)"
      ]
     },
     "execution_count": 15,
     "metadata": {},
     "output_type": "execute_result"
    }
   ],
   "source": [
    "data['car-name'].unique()"
   ]
  },
  {
   "cell_type": "code",
   "execution_count": 16,
   "id": "d26cda92",
   "metadata": {},
   "outputs": [
    {
     "data": {
      "text/plain": [
       "array(['gas', 'diesel'], dtype=object)"
      ]
     },
     "execution_count": 16,
     "metadata": {},
     "output_type": "execute_result"
    }
   ],
   "source": [
    "data['fuel-type'].unique()"
   ]
  },
  {
   "cell_type": "code",
   "execution_count": 17,
   "id": "e43d7c7f",
   "metadata": {},
   "outputs": [
    {
     "data": {
      "text/plain": [
       "array(['std', 'turbo'], dtype=object)"
      ]
     },
     "execution_count": 17,
     "metadata": {},
     "output_type": "execute_result"
    }
   ],
   "source": [
    "data['aspiration'].unique()"
   ]
  },
  {
   "cell_type": "code",
   "execution_count": 18,
   "id": "24d345c8",
   "metadata": {},
   "outputs": [
    {
     "data": {
      "text/plain": [
       "array(['two', 'four'], dtype=object)"
      ]
     },
     "execution_count": 18,
     "metadata": {},
     "output_type": "execute_result"
    }
   ],
   "source": [
    "data['num-of-doors'].unique()"
   ]
  },
  {
   "cell_type": "code",
   "execution_count": 19,
   "id": "4c3dc8f4",
   "metadata": {},
   "outputs": [
    {
     "data": {
      "text/plain": [
       "array(['convertible', 'hatchback', 'sedan', 'wagon', 'hardtop'],\n",
       "      dtype=object)"
      ]
     },
     "execution_count": 19,
     "metadata": {},
     "output_type": "execute_result"
    }
   ],
   "source": [
    "data['body-style'].unique()"
   ]
  },
  {
   "cell_type": "code",
   "execution_count": 20,
   "id": "aa183142",
   "metadata": {},
   "outputs": [
    {
     "data": {
      "text/plain": [
       "array(['rwd', 'fwd', '4wd'], dtype=object)"
      ]
     },
     "execution_count": 20,
     "metadata": {},
     "output_type": "execute_result"
    }
   ],
   "source": [
    "data['drive-wheels'].unique()"
   ]
  },
  {
   "cell_type": "code",
   "execution_count": 21,
   "id": "f8be5785",
   "metadata": {},
   "outputs": [
    {
     "data": {
      "text/plain": [
       "array(['front', 'rear'], dtype=object)"
      ]
     },
     "execution_count": 21,
     "metadata": {},
     "output_type": "execute_result"
    }
   ],
   "source": [
    "data['engine-location'].unique()"
   ]
  },
  {
   "cell_type": "code",
   "execution_count": 22,
   "id": "77e17bce",
   "metadata": {},
   "outputs": [
    {
     "data": {
      "text/plain": [
       "array(['mpfi', '2bbl', 'mfi', '1bbl', 'spfi', '4bbl', 'idi', 'spdi'],\n",
       "      dtype=object)"
      ]
     },
     "execution_count": 22,
     "metadata": {},
     "output_type": "execute_result"
    }
   ],
   "source": [
    "data['fuel-system'].unique()"
   ]
  },
  {
   "cell_type": "code",
   "execution_count": 23,
   "id": "bac190b3",
   "metadata": {},
   "outputs": [
    {
     "data": {
      "text/plain": [
       "array(['dohc', 'ohcv', 'ohc', 'rotor', 'ohcf', 'dohcv'], dtype=object)"
      ]
     },
     "execution_count": 23,
     "metadata": {},
     "output_type": "execute_result"
    }
   ],
   "source": [
    "data['engine-type'].unique()"
   ]
  },
  {
   "cell_type": "code",
   "execution_count": 24,
   "id": "05c1a419",
   "metadata": {},
   "outputs": [
    {
     "data": {
      "text/plain": [
       "array(['four', 'six', 'five', 'three', 'twelve', 'two', 'eight'],\n",
       "      dtype=object)"
      ]
     },
     "execution_count": 24,
     "metadata": {},
     "output_type": "execute_result"
    }
   ],
   "source": [
    "data['num-of-cylinders'].unique()"
   ]
  },
  {
   "cell_type": "code",
   "execution_count": 25,
   "id": "7c9db2e8",
   "metadata": {},
   "outputs": [],
   "source": [
    "# So here as all columns consist of categorical data we will be encoding them \n",
    "# using the label Encoder technic\n",
    "# the Label Encoder Technique will assign a number starting from Zero \n",
    "# to the unique values in the data"
   ]
  },
  {
   "cell_type": "code",
   "execution_count": 26,
   "id": "eeed1b02",
   "metadata": {},
   "outputs": [],
   "source": [
    "from sklearn.preprocessing import LabelEncoder"
   ]
  },
  {
   "cell_type": "code",
   "execution_count": 27,
   "id": "a4d656c7",
   "metadata": {},
   "outputs": [],
   "source": [
    "le=LabelEncoder()"
   ]
  },
  {
   "cell_type": "code",
   "execution_count": 28,
   "id": "78b0d02f",
   "metadata": {},
   "outputs": [],
   "source": [
    "x[['car-name','fuel-type','aspiration','num-of-doors','body-style','drive-wheels','engine-location','engine-type','num-of-cylinders','fuel-system']]=x[['car-name','fuel-type','aspiration','num-of-doors','body-style','drive-wheels','engine-location','engine-type','num-of-cylinders','fuel-system']].apply(le.fit_transform)"
   ]
  },
  {
   "cell_type": "code",
   "execution_count": 29,
   "id": "912ae879",
   "metadata": {},
   "outputs": [
    {
     "data": {
      "text/html": [
       "<div>\n",
       "<style scoped>\n",
       "    .dataframe tbody tr th:only-of-type {\n",
       "        vertical-align: middle;\n",
       "    }\n",
       "\n",
       "    .dataframe tbody tr th {\n",
       "        vertical-align: top;\n",
       "    }\n",
       "\n",
       "    .dataframe thead th {\n",
       "        text-align: right;\n",
       "    }\n",
       "</style>\n",
       "<table border=\"1\" class=\"dataframe\">\n",
       "  <thead>\n",
       "    <tr style=\"text-align: right;\">\n",
       "      <th></th>\n",
       "      <th>car-name</th>\n",
       "      <th>fuel-type</th>\n",
       "      <th>aspiration</th>\n",
       "      <th>num-of-doors</th>\n",
       "      <th>body-style</th>\n",
       "      <th>drive-wheels</th>\n",
       "      <th>engine-location</th>\n",
       "      <th>wheel-base</th>\n",
       "      <th>length</th>\n",
       "      <th>width</th>\n",
       "      <th>...</th>\n",
       "      <th>num-of-cylinders</th>\n",
       "      <th>engine-size</th>\n",
       "      <th>fuel-system</th>\n",
       "      <th>bore</th>\n",
       "      <th>stroke</th>\n",
       "      <th>compression-ratio</th>\n",
       "      <th>horsepower</th>\n",
       "      <th>peak-rpm</th>\n",
       "      <th>city-mpg</th>\n",
       "      <th>highway-mpg</th>\n",
       "    </tr>\n",
       "  </thead>\n",
       "  <tbody>\n",
       "    <tr>\n",
       "      <th>0</th>\n",
       "      <td>0</td>\n",
       "      <td>1</td>\n",
       "      <td>0</td>\n",
       "      <td>1</td>\n",
       "      <td>0</td>\n",
       "      <td>2</td>\n",
       "      <td>0</td>\n",
       "      <td>88.6</td>\n",
       "      <td>168.8</td>\n",
       "      <td>64.1</td>\n",
       "      <td>...</td>\n",
       "      <td>2</td>\n",
       "      <td>130</td>\n",
       "      <td>5</td>\n",
       "      <td>3.47</td>\n",
       "      <td>2.68</td>\n",
       "      <td>10.779306</td>\n",
       "      <td>111.0</td>\n",
       "      <td>5000.0</td>\n",
       "      <td>21</td>\n",
       "      <td>27</td>\n",
       "    </tr>\n",
       "    <tr>\n",
       "      <th>1</th>\n",
       "      <td>0</td>\n",
       "      <td>1</td>\n",
       "      <td>0</td>\n",
       "      <td>1</td>\n",
       "      <td>0</td>\n",
       "      <td>2</td>\n",
       "      <td>0</td>\n",
       "      <td>88.6</td>\n",
       "      <td>168.8</td>\n",
       "      <td>64.1</td>\n",
       "      <td>...</td>\n",
       "      <td>2</td>\n",
       "      <td>130</td>\n",
       "      <td>5</td>\n",
       "      <td>3.47</td>\n",
       "      <td>2.68</td>\n",
       "      <td>10.779306</td>\n",
       "      <td>111.0</td>\n",
       "      <td>5000.0</td>\n",
       "      <td>21</td>\n",
       "      <td>27</td>\n",
       "    </tr>\n",
       "    <tr>\n",
       "      <th>2</th>\n",
       "      <td>0</td>\n",
       "      <td>1</td>\n",
       "      <td>0</td>\n",
       "      <td>1</td>\n",
       "      <td>2</td>\n",
       "      <td>2</td>\n",
       "      <td>0</td>\n",
       "      <td>94.5</td>\n",
       "      <td>171.2</td>\n",
       "      <td>65.5</td>\n",
       "      <td>...</td>\n",
       "      <td>3</td>\n",
       "      <td>152</td>\n",
       "      <td>5</td>\n",
       "      <td>2.68</td>\n",
       "      <td>3.47</td>\n",
       "      <td>10.779306</td>\n",
       "      <td>154.0</td>\n",
       "      <td>5000.0</td>\n",
       "      <td>19</td>\n",
       "      <td>26</td>\n",
       "    </tr>\n",
       "    <tr>\n",
       "      <th>3</th>\n",
       "      <td>1</td>\n",
       "      <td>1</td>\n",
       "      <td>0</td>\n",
       "      <td>0</td>\n",
       "      <td>3</td>\n",
       "      <td>1</td>\n",
       "      <td>0</td>\n",
       "      <td>99.8</td>\n",
       "      <td>176.6</td>\n",
       "      <td>66.2</td>\n",
       "      <td>...</td>\n",
       "      <td>2</td>\n",
       "      <td>109</td>\n",
       "      <td>5</td>\n",
       "      <td>3.19</td>\n",
       "      <td>3.40</td>\n",
       "      <td>10.000000</td>\n",
       "      <td>102.0</td>\n",
       "      <td>5500.0</td>\n",
       "      <td>24</td>\n",
       "      <td>30</td>\n",
       "    </tr>\n",
       "    <tr>\n",
       "      <th>4</th>\n",
       "      <td>1</td>\n",
       "      <td>1</td>\n",
       "      <td>0</td>\n",
       "      <td>0</td>\n",
       "      <td>3</td>\n",
       "      <td>0</td>\n",
       "      <td>0</td>\n",
       "      <td>99.4</td>\n",
       "      <td>176.6</td>\n",
       "      <td>66.4</td>\n",
       "      <td>...</td>\n",
       "      <td>1</td>\n",
       "      <td>136</td>\n",
       "      <td>5</td>\n",
       "      <td>3.19</td>\n",
       "      <td>3.40</td>\n",
       "      <td>10.779306</td>\n",
       "      <td>115.0</td>\n",
       "      <td>5500.0</td>\n",
       "      <td>18</td>\n",
       "      <td>22</td>\n",
       "    </tr>\n",
       "    <tr>\n",
       "      <th>...</th>\n",
       "      <td>...</td>\n",
       "      <td>...</td>\n",
       "      <td>...</td>\n",
       "      <td>...</td>\n",
       "      <td>...</td>\n",
       "      <td>...</td>\n",
       "      <td>...</td>\n",
       "      <td>...</td>\n",
       "      <td>...</td>\n",
       "      <td>...</td>\n",
       "      <td>...</td>\n",
       "      <td>...</td>\n",
       "      <td>...</td>\n",
       "      <td>...</td>\n",
       "      <td>...</td>\n",
       "      <td>...</td>\n",
       "      <td>...</td>\n",
       "      <td>...</td>\n",
       "      <td>...</td>\n",
       "      <td>...</td>\n",
       "      <td>...</td>\n",
       "    </tr>\n",
       "    <tr>\n",
       "      <th>2045</th>\n",
       "      <td>21</td>\n",
       "      <td>1</td>\n",
       "      <td>0</td>\n",
       "      <td>0</td>\n",
       "      <td>3</td>\n",
       "      <td>2</td>\n",
       "      <td>0</td>\n",
       "      <td>109.1</td>\n",
       "      <td>188.8</td>\n",
       "      <td>68.9</td>\n",
       "      <td>...</td>\n",
       "      <td>2</td>\n",
       "      <td>141</td>\n",
       "      <td>5</td>\n",
       "      <td>3.78</td>\n",
       "      <td>3.15</td>\n",
       "      <td>9.500000</td>\n",
       "      <td>114.0</td>\n",
       "      <td>5400.0</td>\n",
       "      <td>23</td>\n",
       "      <td>28</td>\n",
       "    </tr>\n",
       "    <tr>\n",
       "      <th>2046</th>\n",
       "      <td>21</td>\n",
       "      <td>1</td>\n",
       "      <td>1</td>\n",
       "      <td>0</td>\n",
       "      <td>3</td>\n",
       "      <td>2</td>\n",
       "      <td>0</td>\n",
       "      <td>109.1</td>\n",
       "      <td>188.8</td>\n",
       "      <td>68.8</td>\n",
       "      <td>...</td>\n",
       "      <td>2</td>\n",
       "      <td>141</td>\n",
       "      <td>5</td>\n",
       "      <td>3.78</td>\n",
       "      <td>3.15</td>\n",
       "      <td>8.700000</td>\n",
       "      <td>160.0</td>\n",
       "      <td>5300.0</td>\n",
       "      <td>19</td>\n",
       "      <td>25</td>\n",
       "    </tr>\n",
       "    <tr>\n",
       "      <th>2047</th>\n",
       "      <td>21</td>\n",
       "      <td>1</td>\n",
       "      <td>0</td>\n",
       "      <td>0</td>\n",
       "      <td>3</td>\n",
       "      <td>2</td>\n",
       "      <td>0</td>\n",
       "      <td>109.1</td>\n",
       "      <td>188.8</td>\n",
       "      <td>68.9</td>\n",
       "      <td>...</td>\n",
       "      <td>3</td>\n",
       "      <td>173</td>\n",
       "      <td>5</td>\n",
       "      <td>3.58</td>\n",
       "      <td>2.87</td>\n",
       "      <td>8.800000</td>\n",
       "      <td>134.0</td>\n",
       "      <td>5500.0</td>\n",
       "      <td>18</td>\n",
       "      <td>23</td>\n",
       "    </tr>\n",
       "    <tr>\n",
       "      <th>2048</th>\n",
       "      <td>21</td>\n",
       "      <td>0</td>\n",
       "      <td>1</td>\n",
       "      <td>0</td>\n",
       "      <td>3</td>\n",
       "      <td>2</td>\n",
       "      <td>0</td>\n",
       "      <td>109.1</td>\n",
       "      <td>188.8</td>\n",
       "      <td>68.9</td>\n",
       "      <td>...</td>\n",
       "      <td>3</td>\n",
       "      <td>145</td>\n",
       "      <td>3</td>\n",
       "      <td>3.01</td>\n",
       "      <td>3.40</td>\n",
       "      <td>23.000000</td>\n",
       "      <td>106.0</td>\n",
       "      <td>4800.0</td>\n",
       "      <td>26</td>\n",
       "      <td>27</td>\n",
       "    </tr>\n",
       "    <tr>\n",
       "      <th>2049</th>\n",
       "      <td>21</td>\n",
       "      <td>1</td>\n",
       "      <td>1</td>\n",
       "      <td>0</td>\n",
       "      <td>3</td>\n",
       "      <td>2</td>\n",
       "      <td>0</td>\n",
       "      <td>109.1</td>\n",
       "      <td>188.8</td>\n",
       "      <td>68.9</td>\n",
       "      <td>...</td>\n",
       "      <td>2</td>\n",
       "      <td>141</td>\n",
       "      <td>5</td>\n",
       "      <td>3.78</td>\n",
       "      <td>3.15</td>\n",
       "      <td>9.500000</td>\n",
       "      <td>114.0</td>\n",
       "      <td>5400.0</td>\n",
       "      <td>19</td>\n",
       "      <td>25</td>\n",
       "    </tr>\n",
       "  </tbody>\n",
       "</table>\n",
       "<p>2050 rows × 23 columns</p>\n",
       "</div>"
      ],
      "text/plain": [
       "      car-name  fuel-type  aspiration  num-of-doors  body-style  drive-wheels  \\\n",
       "0            0          1           0             1           0             2   \n",
       "1            0          1           0             1           0             2   \n",
       "2            0          1           0             1           2             2   \n",
       "3            1          1           0             0           3             1   \n",
       "4            1          1           0             0           3             0   \n",
       "...        ...        ...         ...           ...         ...           ...   \n",
       "2045        21          1           0             0           3             2   \n",
       "2046        21          1           1             0           3             2   \n",
       "2047        21          1           0             0           3             2   \n",
       "2048        21          0           1             0           3             2   \n",
       "2049        21          1           1             0           3             2   \n",
       "\n",
       "      engine-location  wheel-base  length  width  ...  num-of-cylinders  \\\n",
       "0                   0        88.6   168.8   64.1  ...                 2   \n",
       "1                   0        88.6   168.8   64.1  ...                 2   \n",
       "2                   0        94.5   171.2   65.5  ...                 3   \n",
       "3                   0        99.8   176.6   66.2  ...                 2   \n",
       "4                   0        99.4   176.6   66.4  ...                 1   \n",
       "...               ...         ...     ...    ...  ...               ...   \n",
       "2045                0       109.1   188.8   68.9  ...                 2   \n",
       "2046                0       109.1   188.8   68.8  ...                 2   \n",
       "2047                0       109.1   188.8   68.9  ...                 3   \n",
       "2048                0       109.1   188.8   68.9  ...                 3   \n",
       "2049                0       109.1   188.8   68.9  ...                 2   \n",
       "\n",
       "      engine-size  fuel-system  bore  stroke  compression-ratio  horsepower  \\\n",
       "0             130            5  3.47    2.68          10.779306       111.0   \n",
       "1             130            5  3.47    2.68          10.779306       111.0   \n",
       "2             152            5  2.68    3.47          10.779306       154.0   \n",
       "3             109            5  3.19    3.40          10.000000       102.0   \n",
       "4             136            5  3.19    3.40          10.779306       115.0   \n",
       "...           ...          ...   ...     ...                ...         ...   \n",
       "2045          141            5  3.78    3.15           9.500000       114.0   \n",
       "2046          141            5  3.78    3.15           8.700000       160.0   \n",
       "2047          173            5  3.58    2.87           8.800000       134.0   \n",
       "2048          145            3  3.01    3.40          23.000000       106.0   \n",
       "2049          141            5  3.78    3.15           9.500000       114.0   \n",
       "\n",
       "      peak-rpm  city-mpg  highway-mpg  \n",
       "0       5000.0        21           27  \n",
       "1       5000.0        21           27  \n",
       "2       5000.0        19           26  \n",
       "3       5500.0        24           30  \n",
       "4       5500.0        18           22  \n",
       "...        ...       ...          ...  \n",
       "2045    5400.0        23           28  \n",
       "2046    5300.0        19           25  \n",
       "2047    5500.0        18           23  \n",
       "2048    4800.0        26           27  \n",
       "2049    5400.0        19           25  \n",
       "\n",
       "[2050 rows x 23 columns]"
      ]
     },
     "execution_count": 29,
     "metadata": {},
     "output_type": "execute_result"
    }
   ],
   "source": [
    "x"
   ]
  },
  {
   "cell_type": "code",
   "execution_count": 30,
   "id": "bfec0c5e",
   "metadata": {},
   "outputs": [],
   "source": [
    "# so now all the columns are in numeric from\n",
    "# if we want to get know what numbers it has has assigned to which to which values \n",
    "old_values=le.classes_"
   ]
  },
  {
   "cell_type": "code",
   "execution_count": 31,
   "id": "96b0f48f",
   "metadata": {},
   "outputs": [
    {
     "data": {
      "text/plain": [
       "array(['1bbl', '2bbl', '4bbl', 'idi', 'mfi', 'mpfi', 'spdi', 'spfi'],\n",
       "      dtype=object)"
      ]
     },
     "execution_count": 31,
     "metadata": {},
     "output_type": "execute_result"
    }
   ],
   "source": [
    "old_values"
   ]
  },
  {
   "cell_type": "code",
   "execution_count": 35,
   "id": "6afdab65",
   "metadata": {},
   "outputs": [],
   "source": [
    "new_values=le.classes_"
   ]
  },
  {
   "cell_type": "code",
   "execution_count": 36,
   "id": "1c0c49c4",
   "metadata": {},
   "outputs": [
    {
     "data": {
      "text/plain": [
       "array(['1bbl', '2bbl', '4bbl', 'idi', 'mfi', 'mpfi', 'spdi', 'spfi'],\n",
       "      dtype=object)"
      ]
     },
     "execution_count": 36,
     "metadata": {},
     "output_type": "execute_result"
    }
   ],
   "source": [
    "new_values"
   ]
  },
  {
   "cell_type": "code",
   "execution_count": 37,
   "id": "92e7289b",
   "metadata": {},
   "outputs": [],
   "source": [
    "y=le.fit_transform(y)"
   ]
  },
  {
   "cell_type": "code",
   "execution_count": 38,
   "id": "e40c48ef",
   "metadata": {},
   "outputs": [
    {
     "data": {
      "text/plain": [
       "array([118, 137, 137, ..., 164, 166, 167], dtype=int64)"
      ]
     },
     "execution_count": 38,
     "metadata": {},
     "output_type": "execute_result"
    }
   ],
   "source": [
    "y"
   ]
  },
  {
   "cell_type": "code",
   "execution_count": 39,
   "id": "b38c3671",
   "metadata": {},
   "outputs": [],
   "source": [
    "from sklearn.model_selection import train_test_split"
   ]
  },
  {
   "cell_type": "code",
   "execution_count": 40,
   "id": "0eb14432",
   "metadata": {},
   "outputs": [],
   "source": [
    "x_train,x_test,y_train,y_test=train_test_split(x,y,test_size=0.20,random_state=0)"
   ]
  },
  {
   "cell_type": "code",
   "execution_count": 41,
   "id": "eb04d7c7",
   "metadata": {},
   "outputs": [
    {
     "data": {
      "text/plain": [
       "(1640, 23)"
      ]
     },
     "execution_count": 41,
     "metadata": {},
     "output_type": "execute_result"
    }
   ],
   "source": [
    "x_train.shape"
   ]
  },
  {
   "cell_type": "code",
   "execution_count": 42,
   "id": "fd61a2c9",
   "metadata": {},
   "outputs": [
    {
     "data": {
      "text/plain": [
       "(410, 23)"
      ]
     },
     "execution_count": 42,
     "metadata": {},
     "output_type": "execute_result"
    }
   ],
   "source": [
    "x_test.shape"
   ]
  },
  {
   "cell_type": "code",
   "execution_count": 43,
   "id": "854cd825",
   "metadata": {},
   "outputs": [
    {
     "data": {
      "text/plain": [
       "(1640,)"
      ]
     },
     "execution_count": 43,
     "metadata": {},
     "output_type": "execute_result"
    }
   ],
   "source": [
    "y_train.shape"
   ]
  },
  {
   "cell_type": "code",
   "execution_count": 44,
   "id": "491674bc",
   "metadata": {},
   "outputs": [
    {
     "data": {
      "text/plain": [
       "(410,)"
      ]
     },
     "execution_count": 44,
     "metadata": {},
     "output_type": "execute_result"
    }
   ],
   "source": [
    "y_test.shape"
   ]
  },
  {
   "cell_type": "code",
   "execution_count": 46,
   "id": "0f8f799a",
   "metadata": {},
   "outputs": [],
   "source": [
    "from sklearn.linear_model import LinearRegression"
   ]
  },
  {
   "cell_type": "code",
   "execution_count": 47,
   "id": "42d8ade0",
   "metadata": {},
   "outputs": [],
   "source": [
    "lr = LinearRegression()"
   ]
  },
  {
   "cell_type": "code",
   "execution_count": 48,
   "id": "9ec1c20b",
   "metadata": {},
   "outputs": [
    {
     "data": {
      "text/plain": [
       "LinearRegression()"
      ]
     },
     "execution_count": 48,
     "metadata": {},
     "output_type": "execute_result"
    }
   ],
   "source": [
    "lr.fit(x_train,y_train)"
   ]
  },
  {
   "cell_type": "code",
   "execution_count": 49,
   "id": "b968716c",
   "metadata": {},
   "outputs": [],
   "source": [
    "y_pred = lr.predict(x_test)"
   ]
  },
  {
   "cell_type": "code",
   "execution_count": 50,
   "id": "67c74bdf",
   "metadata": {},
   "outputs": [
    {
     "data": {
      "text/plain": [
       "array([ 77.5183981 , 116.38264461, 176.25789691, 137.12051757,\n",
       "       131.12263522, 147.41724141, 105.48154668,  89.64841651,\n",
       "        33.13406747,  88.6754865 ,  40.27459744,  66.06330462,\n",
       "        53.51049928,  84.24774827,  23.19498465, 184.53424618,\n",
       "        36.98616791,  36.98616791, 139.12017617, 138.26444546,\n",
       "        91.54724726,  24.96176464,  24.96176464, 128.61508493,\n",
       "       127.26589763, 164.71824886, 170.79883745,  35.92342262,\n",
       "        28.82687873,  -1.16090586,  38.47432641, 183.5902209 ,\n",
       "       172.13535593,  62.4876648 , 136.47619561,  38.89460769,\n",
       "        57.29851727, 138.26444546,  86.21973929,  33.7088794 ,\n",
       "       170.79883745,  56.048393  , 115.38539074,  94.28160268,\n",
       "        -1.16090586,  40.27459744, 183.5902209 ,  55.96772846,\n",
       "        25.93704266,  88.86758308,  36.43220409,  12.21803086,\n",
       "        67.86883536,  19.14772335,  31.38608306,  37.28942157,\n",
       "       142.44538678,  89.64841651, 120.9769352 , 165.85162435,\n",
       "       142.44538678,  -5.7016171 ,  58.18491272, 176.25789691,\n",
       "        26.24129703,  75.90655757, 105.48154668,  88.28787231,\n",
       "       170.79883745, 105.48154668, 136.41689298, 167.60235699,\n",
       "        43.60877642, 208.64230425, 134.23501577,  19.14772335,\n",
       "       179.31680277, 179.32693374,  77.40901133,  56.88436737,\n",
       "       128.87785477,  54.86325274,  58.08982991,  33.7249918 ,\n",
       "       117.98731957, 179.10287361,  75.1387445 , 123.72750831,\n",
       "       138.26444546,  62.93261629, 128.87785477, 207.14874494,\n",
       "        54.82239567,  62.93261629,  33.7249918 ,  79.89080904,\n",
       "       150.69161049,  31.38608306, 142.44538678, 117.98568277,\n",
       "       120.94629657,  35.63039387,  26.34033437, 208.64230425,\n",
       "        94.16730537,  66.06330462, 135.95867576,  95.62304678,\n",
       "       137.12051757,  91.54724726, 133.1097443 , 115.36584871,\n",
       "        78.90563427,  30.31233361, 144.80348685,  90.98835428,\n",
       "       198.73316931, 127.26589763, 133.1097443 , 118.43100353,\n",
       "        18.40612357,  42.3026466 ,  46.47944728, 144.6421198 ,\n",
       "        33.13406747, 198.73316931,  37.54271203,  35.92342262,\n",
       "       135.24061167,  40.81681803, 153.10843276,  25.29840166,\n",
       "       144.80348685, 136.30696301, 105.64411485, 128.52737325,\n",
       "        32.71139023, 207.14874494,  70.92994509, 150.18930456,\n",
       "       135.95867576,  57.27419437,  23.19498465, 120.9769352 ,\n",
       "        27.50300375, 172.13535593,  97.05713047, 138.26444546,\n",
       "       120.9769352 ,  80.50440852,  45.82799291,  54.86325274,\n",
       "        40.1239384 ,  90.98835428,  24.96176464,  88.319464  ,\n",
       "        98.9310523 ,  46.47944728,  33.81664085, 117.98568277,\n",
       "        27.50300375, 120.84586816, 133.1097443 , 137.12051757,\n",
       "       121.10886474, 134.23501577,  78.90563427, 150.67573904,\n",
       "        24.38951635, 147.41724141, 151.97755441, 150.69161049,\n",
       "       198.73316931, 113.20406743, 128.9959608 , 136.41689298,\n",
       "       133.39509564, 179.10287361,  77.15215637, 141.63845883,\n",
       "        73.85819865,  70.92994509,  15.46166122,  66.77722585,\n",
       "       127.26589763,  35.92342262,  54.29815109, 183.5902209 ,\n",
       "       129.27784758, 144.6421198 ,  36.43220409, 121.16297043,\n",
       "       164.71824886,  18.67961488,  47.18426737,  56.88436737,\n",
       "       105.64411485, 165.09523844,  36.43220409,  12.21803086,\n",
       "        62.4876648 ,  56.88436737,  80.50440852,  28.82687873,\n",
       "       128.87785477,  33.7088794 ,  -1.16090586,  71.90855958,\n",
       "        -5.7016171 ,  80.50440852, 128.61508493,  43.60877642,\n",
       "        54.82239567,  83.90782671,  66.06330462, 184.53424618,\n",
       "       134.85927366, 113.20406743,  70.92994509,  26.24129703,\n",
       "        76.66848067,  62.4876648 ,  49.45073006,  33.7088794 ,\n",
       "        32.71139023, 116.52260823,  70.92994509, 136.41689298,\n",
       "        88.64123287,  88.86758308,  30.64009405, 153.10843276,\n",
       "        -5.7016171 ,  71.0221644 ,  83.55548204, 120.9769352 ,\n",
       "       207.14874494,  91.54724726,  35.63039387, 184.53424618,\n",
       "        28.82687873, 138.85875453,  90.98835428, 179.31680277,\n",
       "       140.45259433,  86.21973929, 165.09523844,  94.41165722,\n",
       "        83.55548204,  18.40612357,  30.31233361, 150.18930456,\n",
       "       134.66854647,  88.64123287,  57.27419437, 105.48154668,\n",
       "        71.44636593,  73.85819865,  90.98835428,  28.82687873,\n",
       "       105.48154668, 141.63845883,  94.16730537, 135.24061167,\n",
       "        75.90655757,  88.6754865 ,  27.41409663,  92.10329747,\n",
       "       103.65598137, 137.08121877, 150.18930456, 147.41724141,\n",
       "       135.95867576, 138.26444546,  98.97802368, 144.6421198 ,\n",
       "        43.60877642,  40.27459744,  25.48198278, 136.41689298,\n",
       "       176.25789691, 138.85875453, 120.84586816,  27.16841298,\n",
       "        31.38608306, 134.85927366, 176.25789691, 137.12051757,\n",
       "        79.89080904,  94.28160268,  33.13406747,  40.81681803,\n",
       "       116.52260823, 153.69824151,  70.92994509,  81.9350084 ,\n",
       "        25.48198278,  86.21973929,  30.31233361, 136.47619561,\n",
       "       164.71824886,  88.28787231,  -1.16090586, 170.79883745,\n",
       "       121.16297043, 198.73316931,  53.51049928, 139.96400075,\n",
       "        53.51049928, 133.1097443 , 137.08121877,  92.10329747,\n",
       "        35.63039387,  36.98616791,  88.86758308, 139.12017617,\n",
       "        54.86325274,  57.29851727,  -1.16090586,  49.45073006,\n",
       "        30.64009405,  24.38951635, 141.63845883,  65.80175474,\n",
       "        42.3026466 ,  30.34104681,  40.27459744, 153.69824151,\n",
       "       110.48152973, 140.45259433,  44.23912328, 105.48154668,\n",
       "        43.83311648,  45.82799291, 105.64411485, 139.96400075,\n",
       "        85.94533555, 134.66854647,  62.35459499,  26.24129703,\n",
       "        57.69095104, 165.85162435,  40.81681803, 105.48154668,\n",
       "       135.95867576,  25.29840166, 138.85875453,  37.54271203,\n",
       "        49.45073006,  38.47432641, 135.35574288, 126.55981016,\n",
       "        88.28787231, 153.69824151, 136.47619561, 113.14360883,\n",
       "        66.77722585,  42.3026466 , 176.25789691,  86.21973929,\n",
       "       103.65598137,  31.85487924, 140.45259433, 179.31680277,\n",
       "       137.12051757,  54.82239567,  90.98835428,  64.70685395,\n",
       "       198.73316931,  57.69095104,  77.5183981 ,  98.97802368,\n",
       "       128.9959608 , 113.20406743,  31.85487924, 116.38264461,\n",
       "        27.16841298,  88.319464  ,  71.44636593,  34.85047271,\n",
       "       105.53900957, 134.85927366, 115.36584871,  34.85047271,\n",
       "       198.73316931, 156.74515981, 184.53424618,  35.63039387,\n",
       "       116.38264461,  88.319464  ,  57.27419437,  24.38951635,\n",
       "        91.54724726, 156.74515981, 148.36638609, 170.79883745,\n",
       "       128.9959608 , 165.85162435,  28.82687873,  92.10329747,\n",
       "       116.38264461,  46.47944728,  88.64123287,  57.29851727,\n",
       "        28.82687873,  76.66848067,  75.1387445 ,  84.24774827,\n",
       "       156.74515981,  79.89080904])"
      ]
     },
     "execution_count": 50,
     "metadata": {},
     "output_type": "execute_result"
    }
   ],
   "source": [
    "y_pred"
   ]
  },
  {
   "cell_type": "code",
   "execution_count": 51,
   "id": "25c75df7",
   "metadata": {},
   "outputs": [
    {
     "data": {
      "text/plain": [
       "array([ 87, 106, 176, 137, 147, 130,  94,  73,  52, 102,  34,  64,  82,\n",
       "        86,  12, 184,  71,  71, 152, 144, 116,  16,  16, 134, 153, 169,\n",
       "       178,  39,  11,   1,  34, 183, 172,  49, 114,   2,  45, 144,  99,\n",
       "        41, 178,  48, 113,  78,   1,  34, 183,  47,   7,  84,  58,   7,\n",
       "        42,   4,  40,  30, 157,  73, 110, 170, 157,  14,  55, 177,  18,\n",
       "        61,  94,  91, 178,  94, 161, 168,  26, 182, 115,   4, 173, 186,\n",
       "        79,  28, 139,  53,  77,  27, 109, 185,  63,  95, 151,  22, 139,\n",
       "       181,  89,  22,  27,  66, 150,  40, 157, 148, 126,  20,  19, 182,\n",
       "       100,  64, 119,  72, 137, 116, 143, 127,  74,  13, 160, 121, 175,\n",
       "       153, 143, 129, 115,  59,  37, 166,  52, 180,   8,  39, 105,  10,\n",
       "       142,   6, 160, 163, 120, 111,  36, 181,  65, 122, 119,  70,  12,\n",
       "       110, 115, 172,  92, 144, 110,  83,  21,  53,  33, 121,  16,  80,\n",
       "        96,  37,  17, 148, 115, 165, 143, 118, 125, 115,  74, 138,   9,\n",
       "       130, 146, 150, 175, 136, 131, 161, 140, 185,  85, 132,  56,  90,\n",
       "        25,  65, 153,  39,  44, 183, 117, 166,  58, 145, 169,   5,  44,\n",
       "        28, 120, 171,  58,   7,  49,  28,  83,  11, 139,  41,   1, 101,\n",
       "        14,  83, 134,  26,  89,  97,  64, 184, 119, 136,  65,  18,  93,\n",
       "        49,  62,  41,  36, 149,  65, 161,  72,  84,  29, 142,  14,  75,\n",
       "        81, 110, 181, 116,  20, 184,  11, 156, 121, 173, 124,  99, 171,\n",
       "        60,  81, 115,  13, 122, 155,  72,  70, 103,  49,  56, 121,  11,\n",
       "        94, 132, 100, 105,  61, 102,  43, 107, 154, 133, 122, 130, 119,\n",
       "       151, 128, 166,  26,  34,  32, 161, 177, 156, 165,  20,  40, 119,\n",
       "       176, 118,  66,  78,  52,  10, 149, 152,  90,  98,  32,  99,  13,\n",
       "       114, 169,  91,   1, 178, 145, 175,  82, 164,  82, 143, 133, 107,\n",
       "        41,  71,  84, 152,  53,  45,   1,  62,  29,   9, 132,  50,  59,\n",
       "        15,  34, 152, 123, 124,  57,  94,  31,  21, 120, 164,  76, 155,\n",
       "        51,  18,  69, 170,  10,  94, 119,   6, 156,   8,  62,  34, 135,\n",
       "       162,  91, 152, 114, 104,  65,  59, 176,  99, 154,   0, 124, 173,\n",
       "       137,  89, 121,  68, 180,  69,  87, 128, 131, 136,   0, 106,  20,\n",
       "        80,  49,  24, 112, 119, 127,  24, 175, 179, 184,  41, 106,  80,\n",
       "        70,   9, 116, 179, 158, 178, 131, 170,  11, 107, 106,  37,  72,\n",
       "        45,  11,  93,  63,  86, 179,  66], dtype=int64)"
      ]
     },
     "execution_count": 51,
     "metadata": {},
     "output_type": "execute_result"
    }
   ],
   "source": [
    "y_test"
   ]
  },
  {
   "cell_type": "code",
   "execution_count": 56,
   "id": "18323617",
   "metadata": {},
   "outputs": [],
   "source": [
    "from sklearn.metrics import mean_squared_error,r2_score"
   ]
  },
  {
   "cell_type": "code",
   "execution_count": 57,
   "id": "7f0294ae",
   "metadata": {},
   "outputs": [],
   "source": [
    "mse = mean_squared_error(y_test,y_pred)"
   ]
  },
  {
   "cell_type": "code",
   "execution_count": 58,
   "id": "b46b3cd0",
   "metadata": {},
   "outputs": [
    {
     "data": {
      "text/plain": [
       "368.91232341206575"
      ]
     },
     "execution_count": 58,
     "metadata": {},
     "output_type": "execute_result"
    }
   ],
   "source": [
    "mse"
   ]
  },
  {
   "cell_type": "code",
   "execution_count": 59,
   "id": "0d252f39",
   "metadata": {},
   "outputs": [
    {
     "name": "stdout",
     "output_type": "stream",
     "text": [
      "0.876612042845406\n"
     ]
    }
   ],
   "source": [
    "print(r2_score(y_true=y_test, y_pred=y_pred))"
   ]
  },
  {
   "cell_type": "code",
   "execution_count": null,
   "id": "b9052f18",
   "metadata": {},
   "outputs": [],
   "source": []
  }
 ],
 "metadata": {
  "kernelspec": {
   "display_name": "Python 3",
   "language": "python",
   "name": "python3"
  },
  "language_info": {
   "codemirror_mode": {
    "name": "ipython",
    "version": 3
   },
   "file_extension": ".py",
   "mimetype": "text/x-python",
   "name": "python",
   "nbconvert_exporter": "python",
   "pygments_lexer": "ipython3",
   "version": "3.8.8"
  }
 },
 "nbformat": 4,
 "nbformat_minor": 5
}
